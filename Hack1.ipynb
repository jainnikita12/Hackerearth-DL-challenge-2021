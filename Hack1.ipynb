{
  "nbformat": 4,
  "nbformat_minor": 0,
  "metadata": {
    "colab": {
      "name": "Hack1.ipynb",
      "provenance": []
    },
    "kernelspec": {
      "name": "python3",
      "display_name": "Python 3"
    },
    "accelerator": "GPU"
  },
  "cells": [
    {
      "cell_type": "code",
      "metadata": {
        "colab": {
          "base_uri": "https://localhost:8080/"
        },
        "id": "dT2f6sor-Kps",
        "outputId": "9e80070b-065a-44a3-82ae-05004c38cee4"
      },
      "source": [
        "from google.colab import drive\r\n",
        "drive.mount('/content/drive')"
      ],
      "execution_count": 76,
      "outputs": [
        {
          "output_type": "stream",
          "text": [
            "Drive already mounted at /content/drive; to attempt to forcibly remount, call drive.mount(\"/content/drive\", force_remount=True).\n"
          ],
          "name": "stdout"
        }
      ]
    },
    {
      "cell_type": "code",
      "metadata": {
        "id": "iaMfWZlIOI__"
      },
      "source": [
        "from google.colab import drive\r\n",
        "drive.flush_and_unmount()\r\n"
      ],
      "execution_count": 39,
      "outputs": []
    },
    {
      "cell_type": "code",
      "metadata": {
        "id": "kCO1Ebmo-Ulf"
      },
      "source": [
        "!pip install -q keras"
      ],
      "execution_count": 2,
      "outputs": []
    },
    {
      "cell_type": "code",
      "metadata": {
        "id": "eSxULrxN-YFA"
      },
      "source": [
        "import keras"
      ],
      "execution_count": 3,
      "outputs": []
    },
    {
      "cell_type": "code",
      "metadata": {
        "id": "kivDwXrkwjsP"
      },
      "source": [
        "from keras.utils.vis_utils import plot_model\r\n"
      ],
      "execution_count": 60,
      "outputs": []
    },
    {
      "cell_type": "code",
      "metadata": {
        "id": "f7Dn6NCerodp"
      },
      "source": [
        "from keras.applications.nasnet import NASNetMobile, NASNetLarge\r\n",
        "from keras.applications.inception_resnet_v2 import InceptionResNetV2\r\n"
      ],
      "execution_count": 51,
      "outputs": []
    },
    {
      "cell_type": "code",
      "metadata": {
        "id": "DE-ofBqU-arn"
      },
      "source": [
        "import numpy as np\r\n",
        "import pandas as pd\r\n",
        "import matplotlib.pyplot as plt\r\n",
        "import cv2\r\n",
        "import os\r\n",
        "from tqdm import tqdm\r\n",
        "from keras.applications.resnet50 import preprocess_input\r\n",
        "from keras.preprocessing.image import ImageDataGenerator"
      ],
      "execution_count": 4,
      "outputs": []
    },
    {
      "cell_type": "code",
      "metadata": {
        "id": "UCDDEwpz-eSq"
      },
      "source": [
        "from keras.layers import Input, Lambda, Dense, Flatten\r\n",
        "from keras import layers,models\r\n",
        "from keras.models import Model\r\n",
        "from keras.applications.inception_v3 import InceptionV3, preprocess_input\r\n",
        "from keras.preprocessing import image\r\n",
        "from keras.preprocessing.image import ImageDataGenerator\r\n",
        "from keras.models import Sequential\r\n",
        "from keras.preprocessing import image\r\n",
        "from sklearn.model_selection import train_test_split\r\n",
        "import os\r\n",
        "import seaborn as sns\r\n",
        "import numpy as np\r\n",
        "from glob import glob\r\n",
        "import matplotlib.pyplot as plt\r\n",
        "import pandas as pd"
      ],
      "execution_count": 5,
      "outputs": []
    },
    {
      "cell_type": "code",
      "metadata": {
        "id": "DIBjbj7o-pw0"
      },
      "source": [
        "base_path = '/content/drive/MyDrive/Hack1'\r\n",
        "base_path_1 = '/content/drive/MyDrive/Hack1/train'\r\n",
        "base_path_labels = '/content/drive/MyDrive/Hack1/train.csv'\r\n"
      ],
      "execution_count": 7,
      "outputs": []
    },
    {
      "cell_type": "code",
      "metadata": {
        "colab": {
          "base_uri": "https://localhost:8080/"
        },
        "id": "-IfqSlF9GxpG",
        "outputId": "657d0cfb-3950-4e3f-ba5b-8ae483ee8767"
      },
      "source": [
        "df = pd.read_csv(base_path_labels)\r\n",
        "df.head"
      ],
      "execution_count": 8,
      "outputs": [
        {
          "output_type": "execute_result",
          "data": {
            "text/plain": [
              "<bound method NDFrame.head of               Image           Class\n",
              "0     image3476.jpg   Miscellaneous\n",
              "1     image5198.jpg          Candle\n",
              "2     image4183.jpg         Snowman\n",
              "3     image1806.jpg   Miscellaneous\n",
              "4     image7831.jpg   Miscellaneous\n",
              "...             ...             ...\n",
              "6464  image2096.jpg  Christmas_Tree\n",
              "6465  image1474.jpg   Miscellaneous\n",
              "6466  image4124.jpg        Airplane\n",
              "6467  image7695.jpg          Candle\n",
              "6468  image3428.jpg        Airplane\n",
              "\n",
              "[6469 rows x 2 columns]>"
            ]
          },
          "metadata": {
            "tags": []
          },
          "execution_count": 8
        }
      ]
    },
    {
      "cell_type": "code",
      "metadata": {
        "colab": {
          "base_uri": "https://localhost:8080/"
        },
        "id": "Ts2s925Z_LsY",
        "outputId": "17867461-aa69-43a3-b131-df9ea8329e2b"
      },
      "source": [
        "df.head"
      ],
      "execution_count": 9,
      "outputs": [
        {
          "output_type": "execute_result",
          "data": {
            "text/plain": [
              "<bound method NDFrame.head of               Image           Class\n",
              "0     image3476.jpg   Miscellaneous\n",
              "1     image5198.jpg          Candle\n",
              "2     image4183.jpg         Snowman\n",
              "3     image1806.jpg   Miscellaneous\n",
              "4     image7831.jpg   Miscellaneous\n",
              "...             ...             ...\n",
              "6464  image2096.jpg  Christmas_Tree\n",
              "6465  image1474.jpg   Miscellaneous\n",
              "6466  image4124.jpg        Airplane\n",
              "6467  image7695.jpg          Candle\n",
              "6468  image3428.jpg        Airplane\n",
              "\n",
              "[6469 rows x 2 columns]>"
            ]
          },
          "metadata": {
            "tags": []
          },
          "execution_count": 9
        }
      ]
    },
    {
      "cell_type": "code",
      "metadata": {
        "id": "h6eeO0sw_Vcd"
      },
      "source": [
        "datagen = ImageDataGenerator(\r\n",
        "        preprocessing_function=preprocess_input)"
      ],
      "execution_count": 10,
      "outputs": []
    },
    {
      "cell_type": "code",
      "metadata": {
        "colab": {
          "base_uri": "https://localhost:8080/"
        },
        "id": "HT8Fa6d2KZF3",
        "outputId": "cd83e536-d56f-42d6-f113-e3f035f18199"
      },
      "source": [
        "image_names  =  df.iloc[:,0].values\r\n",
        "label= df.iloc[:,1].values\r\n",
        "final_labels = {}\r\n",
        "for i in range(len(image_names)):\r\n",
        "  final_labels[image_names[i]] = label[i]\r\n",
        "final_labels"
      ],
      "execution_count": 11,
      "outputs": [
        {
          "output_type": "execute_result",
          "data": {
            "text/plain": [
              "{'image3476.jpg': 'Miscellaneous',\n",
              " 'image5198.jpg': 'Candle',\n",
              " 'image4183.jpg': 'Snowman',\n",
              " 'image1806.jpg': 'Miscellaneous',\n",
              " 'image7831.jpg': 'Miscellaneous',\n",
              " 'image537.jpg': 'Airplane',\n",
              " 'image9774.jpg': 'Christmas_Tree',\n",
              " 'image5365.jpg': 'Airplane',\n",
              " 'image9367.jpg': 'Christmas_Tree',\n",
              " 'image4819.jpg': 'Christmas_Tree',\n",
              " 'image4191.jpg': 'Miscellaneous',\n",
              " 'image6764.jpg': 'Jacket',\n",
              " 'image8345.jpg': 'Miscellaneous',\n",
              " 'image3198.jpg': 'Christmas_Tree',\n",
              " 'image7076.jpg': 'Airplane',\n",
              " 'image2257.jpg': 'Christmas_Tree',\n",
              " 'image7771.jpg': 'Miscellaneous',\n",
              " 'image7391.jpg': 'Snowman',\n",
              " 'image8473.jpg': 'Miscellaneous',\n",
              " 'image4470.jpg': 'Miscellaneous',\n",
              " 'image9387.jpg': 'Miscellaneous',\n",
              " 'image9663.jpg': 'Miscellaneous',\n",
              " 'image7431.jpg': 'Miscellaneous',\n",
              " 'image5324.jpg': 'Christmas_Tree',\n",
              " 'image8148.jpg': 'Miscellaneous',\n",
              " 'image7418.jpg': 'Miscellaneous',\n",
              " 'image883.jpg': 'Christmas_Tree',\n",
              " 'image7397.jpg': 'Jacket',\n",
              " 'image9505.jpg': 'Christmas_Tree',\n",
              " 'image6056.jpg': 'Miscellaneous',\n",
              " 'image6740.jpg': 'Christmas_Tree',\n",
              " 'image7121.jpg': 'Christmas_Tree',\n",
              " 'image9024.jpg': 'Airplane',\n",
              " 'image8690.jpg': 'Miscellaneous',\n",
              " 'image8602.jpg': 'Miscellaneous',\n",
              " 'image8996.jpg': 'Miscellaneous',\n",
              " 'image6582.jpg': 'Candle',\n",
              " 'image2336.jpg': 'Miscellaneous',\n",
              " 'image1977.jpg': 'Miscellaneous',\n",
              " 'image3473.jpg': 'Miscellaneous',\n",
              " 'image7925.jpg': 'Miscellaneous',\n",
              " 'image1563.jpg': 'Miscellaneous',\n",
              " 'image9495.jpg': 'Miscellaneous',\n",
              " 'image2691.jpg': 'Snowman',\n",
              " 'image7179.jpg': 'Christmas_Tree',\n",
              " 'image9820.jpg': 'Airplane',\n",
              " 'image481.jpg': 'Miscellaneous',\n",
              " 'image6761.jpg': 'Airplane',\n",
              " 'image7982.jpg': 'Christmas_Tree',\n",
              " 'image2398.jpg': 'Miscellaneous',\n",
              " 'image232.jpg': 'Miscellaneous',\n",
              " 'image6840.jpg': 'Miscellaneous',\n",
              " 'image4997.jpg': 'Jacket',\n",
              " 'image371.jpg': 'Miscellaneous',\n",
              " 'image6762.jpg': 'Jacket',\n",
              " 'image1764.jpg': 'Miscellaneous',\n",
              " 'image2018.jpg': 'Snowman',\n",
              " 'image801.jpg': 'Miscellaneous',\n",
              " 'image8744.jpg': 'Airplane',\n",
              " 'image6495.jpg': 'Miscellaneous',\n",
              " 'image8250.jpg': 'Miscellaneous',\n",
              " 'image5084.jpg': 'Miscellaneous',\n",
              " 'image2493.jpg': 'Miscellaneous',\n",
              " 'image679.jpg': 'Jacket',\n",
              " 'image2778.jpg': 'Candle',\n",
              " 'image128.jpg': 'Snowman',\n",
              " 'image7051.jpg': 'Miscellaneous',\n",
              " 'image8078.jpg': 'Jacket',\n",
              " 'image4080.jpg': 'Jacket',\n",
              " 'image6132.jpg': 'Candle',\n",
              " 'image4914.jpg': 'Miscellaneous',\n",
              " 'image1877.jpg': 'Jacket',\n",
              " 'image3981.jpg': 'Christmas_Tree',\n",
              " 'image2278.jpg': 'Miscellaneous',\n",
              " 'image4136.jpg': 'Miscellaneous',\n",
              " 'image3310.jpg': 'Miscellaneous',\n",
              " 'image9621.jpg': 'Miscellaneous',\n",
              " 'image5111.jpg': 'Miscellaneous',\n",
              " 'image2242.jpg': 'Miscellaneous',\n",
              " 'image336.jpg': 'Christmas_Tree',\n",
              " 'image7916.jpg': 'Christmas_Tree',\n",
              " 'image3504.jpg': 'Airplane',\n",
              " 'image5228.jpg': 'Jacket',\n",
              " 'image2412.jpg': 'Miscellaneous',\n",
              " 'image5985.jpg': 'Jacket',\n",
              " 'image9122.jpg': 'Miscellaneous',\n",
              " 'image4956.jpg': 'Miscellaneous',\n",
              " 'image7629.jpg': 'Jacket',\n",
              " 'image2925.jpg': 'Jacket',\n",
              " 'image9648.jpg': 'Jacket',\n",
              " 'image7381.jpg': 'Jacket',\n",
              " 'image1431.jpg': 'Miscellaneous',\n",
              " 'image7003.jpg': 'Airplane',\n",
              " 'image3406.jpg': 'Miscellaneous',\n",
              " 'image3208.jpg': 'Candle',\n",
              " 'image9346.jpg': 'Candle',\n",
              " 'image6412.jpg': 'Miscellaneous',\n",
              " 'image9350.jpg': 'Christmas_Tree',\n",
              " 'image2415.jpg': 'Miscellaneous',\n",
              " 'image5814.jpg': 'Candle',\n",
              " 'image7701.jpg': 'Jacket',\n",
              " 'image3521.jpg': 'Snowman',\n",
              " 'image7262.jpg': 'Snowman',\n",
              " 'image3179.jpg': 'Christmas_Tree',\n",
              " 'image9002.jpg': 'Miscellaneous',\n",
              " 'image9732.jpg': 'Miscellaneous',\n",
              " 'image3658.jpg': 'Christmas_Tree',\n",
              " 'image8630.jpg': 'Miscellaneous',\n",
              " 'image7293.jpg': 'Airplane',\n",
              " 'image1623.jpg': 'Candle',\n",
              " 'image6312.jpg': 'Miscellaneous',\n",
              " 'image6874.jpg': 'Jacket',\n",
              " 'image9365.jpg': 'Jacket',\n",
              " 'image9048.jpg': 'Snowman',\n",
              " 'image1580.jpg': 'Miscellaneous',\n",
              " 'image542.jpg': 'Miscellaneous',\n",
              " 'image9342.jpg': 'Miscellaneous',\n",
              " 'image6204.jpg': 'Miscellaneous',\n",
              " 'image8828.jpg': 'Miscellaneous',\n",
              " 'image2846.jpg': 'Christmas_Tree',\n",
              " 'image3985.jpg': 'Miscellaneous',\n",
              " 'image2058.jpg': 'Miscellaneous',\n",
              " 'image8154.jpg': 'Miscellaneous',\n",
              " 'image9911.jpg': 'Christmas_Tree',\n",
              " 'image8879.jpg': 'Miscellaneous',\n",
              " 'image77.jpg': 'Miscellaneous',\n",
              " 'image1748.jpg': 'Miscellaneous',\n",
              " 'image2782.jpg': 'Christmas_Tree',\n",
              " 'image8031.jpg': 'Candle',\n",
              " 'image5551.jpg': 'Christmas_Tree',\n",
              " 'image7635.jpg': 'Christmas_Tree',\n",
              " 'image510.jpg': 'Snowman',\n",
              " 'image158.jpg': 'Christmas_Tree',\n",
              " 'image2191.jpg': 'Miscellaneous',\n",
              " 'image9230.jpg': 'Christmas_Tree',\n",
              " 'image7552.jpg': 'Jacket',\n",
              " 'image6136.jpg': 'Christmas_Tree',\n",
              " 'image1155.jpg': 'Christmas_Tree',\n",
              " 'image628.jpg': 'Christmas_Tree',\n",
              " 'image3138.jpg': 'Miscellaneous',\n",
              " 'image8796.jpg': 'Christmas_Tree',\n",
              " 'image1253.jpg': 'Christmas_Tree',\n",
              " 'image3947.jpg': 'Jacket',\n",
              " 'image3126.jpg': 'Miscellaneous',\n",
              " 'image4881.jpg': 'Candle',\n",
              " 'image4165.jpg': 'Miscellaneous',\n",
              " 'image989.jpg': 'Candle',\n",
              " 'image8637.jpg': 'Miscellaneous',\n",
              " 'image3754.jpg': 'Airplane',\n",
              " 'image4024.jpg': 'Miscellaneous',\n",
              " 'image9385.jpg': 'Airplane',\n",
              " 'image8167.jpg': 'Miscellaneous',\n",
              " 'image3092.jpg': 'Airplane',\n",
              " 'image9160.jpg': 'Miscellaneous',\n",
              " 'image9129.jpg': 'Christmas_Tree',\n",
              " 'image1692.jpg': 'Christmas_Tree',\n",
              " 'image4011.jpg': 'Miscellaneous',\n",
              " 'image7826.jpg': 'Miscellaneous',\n",
              " 'image6947.jpg': 'Miscellaneous',\n",
              " 'image6346.jpg': 'Snowman',\n",
              " 'image3158.jpg': 'Christmas_Tree',\n",
              " 'image9883.jpg': 'Snowman',\n",
              " 'image4660.jpg': 'Jacket',\n",
              " 'image17.jpg': 'Christmas_Tree',\n",
              " 'image4970.jpg': 'Christmas_Tree',\n",
              " 'image9222.jpg': 'Airplane',\n",
              " 'image6211.jpg': 'Candle',\n",
              " 'image7263.jpg': 'Miscellaneous',\n",
              " 'image2456.jpg': 'Candle',\n",
              " 'image1624.jpg': 'Candle',\n",
              " 'image9202.jpg': 'Christmas_Tree',\n",
              " 'image2496.jpg': 'Christmas_Tree',\n",
              " 'image9103.jpg': 'Candle',\n",
              " 'image1096.jpg': 'Miscellaneous',\n",
              " 'image4545.jpg': 'Miscellaneous',\n",
              " 'image9930.jpg': 'Miscellaneous',\n",
              " 'image5680.jpg': 'Jacket',\n",
              " 'image200.jpg': 'Jacket',\n",
              " 'image7502.jpg': 'Miscellaneous',\n",
              " 'image2961.jpg': 'Miscellaneous',\n",
              " 'image1438.jpg': 'Miscellaneous',\n",
              " 'image6407.jpg': 'Miscellaneous',\n",
              " 'image9812.jpg': 'Miscellaneous',\n",
              " 'image9080.jpg': 'Jacket',\n",
              " 'image5794.jpg': 'Airplane',\n",
              " 'image1331.jpg': 'Candle',\n",
              " 'image1189.jpg': 'Christmas_Tree',\n",
              " 'image421.jpg': 'Miscellaneous',\n",
              " 'image6551.jpg': 'Christmas_Tree',\n",
              " 'image4678.jpg': 'Airplane',\n",
              " 'image6955.jpg': 'Miscellaneous',\n",
              " 'image2860.jpg': 'Miscellaneous',\n",
              " 'image827.jpg': 'Christmas_Tree',\n",
              " 'image7799.jpg': 'Christmas_Tree',\n",
              " 'image1740.jpg': 'Airplane',\n",
              " 'image5257.jpg': 'Miscellaneous',\n",
              " 'image1236.jpg': 'Miscellaneous',\n",
              " 'image870.jpg': 'Miscellaneous',\n",
              " 'image8885.jpg': 'Miscellaneous',\n",
              " 'image9753.jpg': 'Jacket',\n",
              " 'image826.jpg': 'Miscellaneous',\n",
              " 'image3309.jpg': 'Christmas_Tree',\n",
              " 'image3491.jpg': 'Christmas_Tree',\n",
              " 'image3777.jpg': 'Miscellaneous',\n",
              " 'image4540.jpg': 'Miscellaneous',\n",
              " 'image3173.jpg': 'Christmas_Tree',\n",
              " 'image9914.jpg': 'Miscellaneous',\n",
              " 'image6837.jpg': 'Jacket',\n",
              " 'image7937.jpg': 'Christmas_Tree',\n",
              " 'image5911.jpg': 'Airplane',\n",
              " 'image2838.jpg': 'Candle',\n",
              " 'image9831.jpg': 'Miscellaneous',\n",
              " 'image2897.jpg': 'Christmas_Tree',\n",
              " 'image7038.jpg': 'Miscellaneous',\n",
              " 'image8081.jpg': 'Snowman',\n",
              " 'image9906.jpg': 'Miscellaneous',\n",
              " 'image4500.jpg': 'Christmas_Tree',\n",
              " 'image8968.jpg': 'Christmas_Tree',\n",
              " 'image5672.jpg': 'Miscellaneous',\n",
              " 'image451.jpg': 'Candle',\n",
              " 'image4266.jpg': 'Miscellaneous',\n",
              " 'image1936.jpg': 'Miscellaneous',\n",
              " 'image5574.jpg': 'Candle',\n",
              " 'image3465.jpg': 'Miscellaneous',\n",
              " 'image4728.jpg': 'Miscellaneous',\n",
              " 'image2779.jpg': 'Miscellaneous',\n",
              " 'image1583.jpg': 'Miscellaneous',\n",
              " 'image901.jpg': 'Jacket',\n",
              " 'image3510.jpg': 'Miscellaneous',\n",
              " 'image9810.jpg': 'Airplane',\n",
              " 'image3750.jpg': 'Jacket',\n",
              " 'image2714.jpg': 'Christmas_Tree',\n",
              " 'image6956.jpg': 'Snowman',\n",
              " 'image6824.jpg': 'Christmas_Tree',\n",
              " 'image8155.jpg': 'Miscellaneous',\n",
              " 'image9590.jpg': 'Jacket',\n",
              " 'image5937.jpg': 'Candle',\n",
              " 'image6789.jpg': 'Christmas_Tree',\n",
              " 'image4944.jpg': 'Jacket',\n",
              " 'image9475.jpg': 'Christmas_Tree',\n",
              " 'image1252.jpg': 'Miscellaneous',\n",
              " 'image4608.jpg': 'Christmas_Tree',\n",
              " 'image6158.jpg': 'Airplane',\n",
              " 'image2240.jpg': 'Miscellaneous',\n",
              " 'image5212.jpg': 'Jacket',\n",
              " 'image5480.jpg': 'Miscellaneous',\n",
              " 'image2609.jpg': 'Christmas_Tree',\n",
              " 'image4762.jpg': 'Miscellaneous',\n",
              " 'image3989.jpg': 'Miscellaneous',\n",
              " 'image5385.jpg': 'Snowman',\n",
              " 'image2751.jpg': 'Christmas_Tree',\n",
              " 'image9847.jpg': 'Christmas_Tree',\n",
              " 'image8422.jpg': 'Airplane',\n",
              " 'image8665.jpg': 'Jacket',\n",
              " 'image2514.jpg': 'Miscellaneous',\n",
              " 'image2371.jpg': 'Christmas_Tree',\n",
              " 'image2684.jpg': 'Miscellaneous',\n",
              " 'image4996.jpg': 'Snowman',\n",
              " 'image8083.jpg': 'Christmas_Tree',\n",
              " 'image9068.jpg': 'Miscellaneous',\n",
              " 'image1816.jpg': 'Miscellaneous',\n",
              " 'image5402.jpg': 'Miscellaneous',\n",
              " 'image8416.jpg': 'Miscellaneous',\n",
              " 'image3920.jpg': 'Miscellaneous',\n",
              " 'image2713.jpg': 'Miscellaneous',\n",
              " 'image5750.jpg': 'Miscellaneous',\n",
              " 'image2204.jpg': 'Christmas_Tree',\n",
              " 'image5706.jpg': 'Miscellaneous',\n",
              " 'image9101.jpg': 'Miscellaneous',\n",
              " 'image3327.jpg': 'Miscellaneous',\n",
              " 'image7082.jpg': 'Airplane',\n",
              " 'image8144.jpg': 'Christmas_Tree',\n",
              " 'image1425.jpg': 'Miscellaneous',\n",
              " 'image3174.jpg': 'Jacket',\n",
              " 'image3576.jpg': 'Miscellaneous',\n",
              " 'image7796.jpg': 'Airplane',\n",
              " 'image7331.jpg': 'Snowman',\n",
              " 'image5789.jpg': 'Miscellaneous',\n",
              " 'image4158.jpg': 'Christmas_Tree',\n",
              " 'image9306.jpg': 'Miscellaneous',\n",
              " 'image6394.jpg': 'Miscellaneous',\n",
              " 'image3819.jpg': 'Miscellaneous',\n",
              " 'image5233.jpg': 'Christmas_Tree',\n",
              " 'image9733.jpg': 'Miscellaneous',\n",
              " 'image8303.jpg': 'Airplane',\n",
              " 'image4521.jpg': 'Miscellaneous',\n",
              " 'image2253.jpg': 'Christmas_Tree',\n",
              " 'image3825.jpg': 'Candle',\n",
              " 'image344.jpg': 'Miscellaneous',\n",
              " 'image6188.jpg': 'Jacket',\n",
              " 'image2668.jpg': 'Jacket',\n",
              " 'image1380.jpg': 'Christmas_Tree',\n",
              " 'image4507.jpg': 'Miscellaneous',\n",
              " 'image7729.jpg': 'Miscellaneous',\n",
              " 'image9925.jpg': 'Candle',\n",
              " 'image4744.jpg': 'Snowman',\n",
              " 'image9390.jpg': 'Miscellaneous',\n",
              " 'image7072.jpg': 'Airplane',\n",
              " 'image4627.jpg': 'Christmas_Tree',\n",
              " 'image9004.jpg': 'Miscellaneous',\n",
              " 'image6612.jpg': 'Candle',\n",
              " 'image6975.jpg': 'Christmas_Tree',\n",
              " 'image8659.jpg': 'Miscellaneous',\n",
              " 'image8089.jpg': 'Miscellaneous',\n",
              " 'image9138.jpg': 'Miscellaneous',\n",
              " 'image7085.jpg': 'Miscellaneous',\n",
              " 'image3431.jpg': 'Christmas_Tree',\n",
              " 'image7020.jpg': 'Airplane',\n",
              " 'image7228.jpg': 'Miscellaneous',\n",
              " 'image3335.jpg': 'Christmas_Tree',\n",
              " 'image1671.jpg': 'Jacket',\n",
              " 'image5444.jpg': 'Miscellaneous',\n",
              " 'image8899.jpg': 'Candle',\n",
              " 'image4113.jpg': 'Miscellaneous',\n",
              " 'image3397.jpg': 'Christmas_Tree',\n",
              " 'image1923.jpg': 'Candle',\n",
              " 'image5025.jpg': 'Miscellaneous',\n",
              " 'image8500.jpg': 'Christmas_Tree',\n",
              " 'image4083.jpg': 'Christmas_Tree',\n",
              " 'image7516.jpg': 'Christmas_Tree',\n",
              " 'image2871.jpg': 'Snowman',\n",
              " 'image6845.jpg': 'Miscellaneous',\n",
              " 'image3037.jpg': 'Candle',\n",
              " 'image9651.jpg': 'Christmas_Tree',\n",
              " 'image2988.jpg': 'Candle',\n",
              " 'image1903.jpg': 'Miscellaneous',\n",
              " 'image3843.jpg': 'Miscellaneous',\n",
              " 'image1468.jpg': 'Candle',\n",
              " 'image9845.jpg': 'Airplane',\n",
              " 'image334.jpg': 'Miscellaneous',\n",
              " 'image6302.jpg': 'Christmas_Tree',\n",
              " 'image2563.jpg': 'Snowman',\n",
              " 'image9769.jpg': 'Airplane',\n",
              " 'image3876.jpg': 'Christmas_Tree',\n",
              " 'image2785.jpg': 'Christmas_Tree',\n",
              " 'image8786.jpg': 'Jacket',\n",
              " 'image9666.jpg': 'Christmas_Tree',\n",
              " 'image5930.jpg': 'Airplane',\n",
              " 'image703.jpg': 'Jacket',\n",
              " 'image924.jpg': 'Miscellaneous',\n",
              " 'image7504.jpg': 'Airplane',\n",
              " 'image5203.jpg': 'Miscellaneous',\n",
              " 'image6881.jpg': 'Airplane',\n",
              " 'image5994.jpg': 'Miscellaneous',\n",
              " 'image6375.jpg': 'Jacket',\n",
              " 'image516.jpg': 'Christmas_Tree',\n",
              " 'image9924.jpg': 'Miscellaneous',\n",
              " 'image5395.jpg': 'Jacket',\n",
              " 'image1592.jpg': 'Candle',\n",
              " 'image2112.jpg': 'Snowman',\n",
              " 'image2618.jpg': 'Miscellaneous',\n",
              " 'image3.jpg': 'Miscellaneous',\n",
              " 'image3022.jpg': 'Miscellaneous',\n",
              " 'image1391.jpg': 'Candle',\n",
              " 'image4473.jpg': 'Jacket',\n",
              " 'image4459.jpg': 'Candle',\n",
              " 'image9658.jpg': 'Miscellaneous',\n",
              " 'image1054.jpg': 'Airplane',\n",
              " 'image7713.jpg': 'Miscellaneous',\n",
              " 'image7498.jpg': 'Candle',\n",
              " 'image3703.jpg': 'Candle',\n",
              " 'image5181.jpg': 'Miscellaneous',\n",
              " 'image1803.jpg': 'Miscellaneous',\n",
              " 'image3487.jpg': 'Miscellaneous',\n",
              " 'image4524.jpg': 'Christmas_Tree',\n",
              " 'image7513.jpg': 'Christmas_Tree',\n",
              " 'image8700.jpg': 'Christmas_Tree',\n",
              " 'image9263.jpg': 'Christmas_Tree',\n",
              " 'image9669.jpg': 'Snowman',\n",
              " 'image1681.jpg': 'Jacket',\n",
              " 'image4402.jpg': 'Christmas_Tree',\n",
              " 'image4412.jpg': 'Miscellaneous',\n",
              " 'image1669.jpg': 'Airplane',\n",
              " 'image4796.jpg': 'Miscellaneous',\n",
              " 'image6049.jpg': 'Airplane',\n",
              " 'image1610.jpg': 'Miscellaneous',\n",
              " 'image5148.jpg': 'Miscellaneous',\n",
              " 'image7974.jpg': 'Miscellaneous',\n",
              " 'image7914.jpg': 'Miscellaneous',\n",
              " 'image8244.jpg': 'Miscellaneous',\n",
              " 'image6292.jpg': 'Miscellaneous',\n",
              " 'image4727.jpg': 'Miscellaneous',\n",
              " 'image6419.jpg': 'Airplane',\n",
              " 'image5496.jpg': 'Christmas_Tree',\n",
              " 'image8955.jpg': 'Airplane',\n",
              " 'image4987.jpg': 'Miscellaneous',\n",
              " 'image5883.jpg': 'Jacket',\n",
              " 'image2549.jpg': 'Christmas_Tree',\n",
              " 'image662.jpg': 'Miscellaneous',\n",
              " 'image7006.jpg': 'Jacket',\n",
              " 'image7017.jpg': 'Miscellaneous',\n",
              " 'image5523.jpg': 'Miscellaneous',\n",
              " 'image3554.jpg': 'Miscellaneous',\n",
              " 'image9455.jpg': 'Christmas_Tree',\n",
              " 'image8881.jpg': 'Miscellaneous',\n",
              " 'image2813.jpg': 'Airplane',\n",
              " 'image376.jpg': 'Miscellaneous',\n",
              " 'image1649.jpg': 'Christmas_Tree',\n",
              " 'image3075.jpg': 'Candle',\n",
              " 'image3320.jpg': 'Miscellaneous',\n",
              " 'image658.jpg': 'Miscellaneous',\n",
              " 'image1659.jpg': 'Christmas_Tree',\n",
              " 'image135.jpg': 'Miscellaneous',\n",
              " 'image5429.jpg': 'Snowman',\n",
              " 'image8729.jpg': 'Christmas_Tree',\n",
              " 'image1641.jpg': 'Christmas_Tree',\n",
              " 'image2969.jpg': 'Christmas_Tree',\n",
              " 'image6215.jpg': 'Christmas_Tree',\n",
              " 'image9249.jpg': 'Miscellaneous',\n",
              " 'image9959.jpg': 'Christmas_Tree',\n",
              " 'image6413.jpg': 'Airplane',\n",
              " 'image1068.jpg': 'Miscellaneous',\n",
              " 'image4462.jpg': 'Snowman',\n",
              " 'image6183.jpg': 'Miscellaneous',\n",
              " 'image3044.jpg': 'Christmas_Tree',\n",
              " 'image1716.jpg': 'Christmas_Tree',\n",
              " 'image5298.jpg': 'Miscellaneous',\n",
              " 'image8077.jpg': 'Christmas_Tree',\n",
              " 'image4826.jpg': 'Miscellaneous',\n",
              " 'image5980.jpg': 'Miscellaneous',\n",
              " 'image9910.jpg': 'Miscellaneous',\n",
              " 'image836.jpg': 'Miscellaneous',\n",
              " 'image902.jpg': 'Airplane',\n",
              " 'image5375.jpg': 'Miscellaneous',\n",
              " 'image2583.jpg': 'Jacket',\n",
              " 'image5808.jpg': 'Miscellaneous',\n",
              " 'image1685.jpg': 'Miscellaneous',\n",
              " 'image1912.jpg': 'Candle',\n",
              " 'image608.jpg': 'Airplane',\n",
              " 'image4033.jpg': 'Miscellaneous',\n",
              " 'image1319.jpg': 'Christmas_Tree',\n",
              " 'image947.jpg': 'Miscellaneous',\n",
              " 'image4023.jpg': 'Airplane',\n",
              " 'image5670.jpg': 'Miscellaneous',\n",
              " 'image2526.jpg': 'Snowman',\n",
              " 'image5294.jpg': 'Miscellaneous',\n",
              " 'image5540.jpg': 'Miscellaneous',\n",
              " 'image3684.jpg': 'Candle',\n",
              " 'image5709.jpg': 'Airplane',\n",
              " 'image156.jpg': 'Miscellaneous',\n",
              " 'image6200.jpg': 'Christmas_Tree',\n",
              " 'image8936.jpg': 'Candle',\n",
              " 'image1634.jpg': 'Christmas_Tree',\n",
              " 'image5824.jpg': 'Candle',\n",
              " 'image434.jpg': 'Miscellaneous',\n",
              " 'image8391.jpg': 'Jacket',\n",
              " 'image4936.jpg': 'Miscellaneous',\n",
              " 'image152.jpg': 'Christmas_Tree',\n",
              " 'image6804.jpg': 'Miscellaneous',\n",
              " 'image1686.jpg': 'Jacket',\n",
              " 'image4527.jpg': 'Christmas_Tree',\n",
              " 'image5335.jpg': 'Miscellaneous',\n",
              " 'image6556.jpg': 'Miscellaneous',\n",
              " 'image9734.jpg': 'Candle',\n",
              " 'image5844.jpg': 'Miscellaneous',\n",
              " 'image590.jpg': 'Christmas_Tree',\n",
              " 'image9672.jpg': 'Miscellaneous',\n",
              " 'image1786.jpg': 'Jacket',\n",
              " 'image3732.jpg': 'Miscellaneous',\n",
              " 'image7419.jpg': 'Christmas_Tree',\n",
              " 'image7533.jpg': 'Miscellaneous',\n",
              " 'image3236.jpg': 'Christmas_Tree',\n",
              " 'image3516.jpg': 'Miscellaneous',\n",
              " 'image6479.jpg': 'Miscellaneous',\n",
              " 'image2393.jpg': 'Christmas_Tree',\n",
              " 'image3978.jpg': 'Candle',\n",
              " 'image6362.jpg': 'Miscellaneous',\n",
              " 'image1324.jpg': 'Christmas_Tree',\n",
              " 'image4681.jpg': 'Jacket',\n",
              " 'image6070.jpg': 'Jacket',\n",
              " 'image6097.jpg': 'Christmas_Tree',\n",
              " 'image9485.jpg': 'Miscellaneous',\n",
              " 'image2789.jpg': 'Airplane',\n",
              " 'image4972.jpg': 'Christmas_Tree',\n",
              " 'image2363.jpg': 'Miscellaneous',\n",
              " 'image3438.jpg': 'Miscellaneous',\n",
              " 'image1229.jpg': 'Miscellaneous',\n",
              " 'image9411.jpg': 'Miscellaneous',\n",
              " 'image5400.jpg': 'Miscellaneous',\n",
              " 'image7866.jpg': 'Miscellaneous',\n",
              " 'image6496.jpg': 'Jacket',\n",
              " 'image8935.jpg': 'Miscellaneous',\n",
              " 'image239.jpg': 'Snowman',\n",
              " 'image4012.jpg': 'Airplane',\n",
              " 'image9169.jpg': 'Snowman',\n",
              " 'image1648.jpg': 'Snowman',\n",
              " 'image2005.jpg': 'Miscellaneous',\n",
              " 'image1514.jpg': 'Airplane',\n",
              " 'image4739.jpg': 'Christmas_Tree',\n",
              " 'image3237.jpg': 'Candle',\n",
              " 'image4874.jpg': 'Christmas_Tree',\n",
              " 'image4978.jpg': 'Snowman',\n",
              " 'image1464.jpg': 'Miscellaneous',\n",
              " 'image3164.jpg': 'Snowman',\n",
              " 'image1826.jpg': 'Christmas_Tree',\n",
              " 'image9752.jpg': 'Miscellaneous',\n",
              " 'image1504.jpg': 'Jacket',\n",
              " 'image3784.jpg': 'Christmas_Tree',\n",
              " 'image4901.jpg': 'Christmas_Tree',\n",
              " 'image3849.jpg': 'Christmas_Tree',\n",
              " 'image3394.jpg': 'Candle',\n",
              " 'image5798.jpg': 'Jacket',\n",
              " 'image6809.jpg': 'Airplane',\n",
              " 'image7837.jpg': 'Airplane',\n",
              " 'image1169.jpg': 'Christmas_Tree',\n",
              " 'image4806.jpg': 'Jacket',\n",
              " 'image2627.jpg': 'Miscellaneous',\n",
              " 'image9795.jpg': 'Miscellaneous',\n",
              " 'image9634.jpg': 'Christmas_Tree',\n",
              " 'image9179.jpg': 'Christmas_Tree',\n",
              " 'image996.jpg': 'Miscellaneous',\n",
              " 'image2710.jpg': 'Christmas_Tree',\n",
              " 'image6467.jpg': 'Christmas_Tree',\n",
              " 'image9613.jpg': 'Miscellaneous',\n",
              " 'image1209.jpg': 'Airplane',\n",
              " 'image1292.jpg': 'Miscellaneous',\n",
              " 'image1306.jpg': 'Miscellaneous',\n",
              " 'image6911.jpg': 'Christmas_Tree',\n",
              " 'image6167.jpg': 'Candle',\n",
              " 'image2631.jpg': 'Airplane',\n",
              " 'image9655.jpg': 'Candle',\n",
              " 'image70.jpg': 'Miscellaneous',\n",
              " 'image6784.jpg': 'Jacket',\n",
              " 'image8294.jpg': 'Snowman',\n",
              " 'image172.jpg': 'Airplane',\n",
              " 'image195.jpg': 'Miscellaneous',\n",
              " 'image1942.jpg': 'Miscellaneous',\n",
              " 'image5616.jpg': 'Miscellaneous',\n",
              " 'image4213.jpg': 'Christmas_Tree',\n",
              " 'image6059.jpg': 'Jacket',\n",
              " 'image7578.jpg': 'Jacket',\n",
              " 'image1973.jpg': 'Jacket',\n",
              " 'image6018.jpg': 'Candle',\n",
              " 'image1179.jpg': 'Miscellaneous',\n",
              " 'image2724.jpg': 'Christmas_Tree',\n",
              " 'image5984.jpg': 'Airplane',\n",
              " 'image7919.jpg': 'Airplane',\n",
              " 'image369.jpg': 'Miscellaneous',\n",
              " 'image8821.jpg': 'Jacket',\n",
              " 'image2828.jpg': 'Miscellaneous',\n",
              " 'image1958.jpg': 'Christmas_Tree',\n",
              " 'image3239.jpg': 'Christmas_Tree',\n",
              " 'image431.jpg': 'Snowman',\n",
              " 'image6679.jpg': 'Christmas_Tree',\n",
              " 'image5757.jpg': 'Jacket',\n",
              " 'image5526.jpg': 'Miscellaneous',\n",
              " 'image4088.jpg': 'Snowman',\n",
              " 'image191.jpg': 'Airplane',\n",
              " 'image8029.jpg': 'Miscellaneous',\n",
              " 'image3901.jpg': 'Airplane',\n",
              " 'image1880.jpg': 'Christmas_Tree',\n",
              " 'image8762.jpg': 'Miscellaneous',\n",
              " 'image2883.jpg': 'Christmas_Tree',\n",
              " 'image6430.jpg': 'Miscellaneous',\n",
              " 'image8113.jpg': 'Miscellaneous',\n",
              " 'image5957.jpg': 'Miscellaneous',\n",
              " 'image7369.jpg': 'Snowman',\n",
              " 'image6492.jpg': 'Christmas_Tree',\n",
              " 'image1825.jpg': 'Candle',\n",
              " 'image9534.jpg': 'Candle',\n",
              " 'image7202.jpg': 'Miscellaneous',\n",
              " 'image9957.jpg': 'Miscellaneous',\n",
              " 'image2146.jpg': 'Miscellaneous',\n",
              " 'image6882.jpg': 'Miscellaneous',\n",
              " 'image3324.jpg': 'Miscellaneous',\n",
              " 'image6083.jpg': 'Miscellaneous',\n",
              " 'image4815.jpg': 'Jacket',\n",
              " 'image2269.jpg': 'Snowman',\n",
              " 'image7804.jpg': 'Christmas_Tree',\n",
              " 'image3674.jpg': 'Miscellaneous',\n",
              " 'image3463.jpg': 'Miscellaneous',\n",
              " 'image2808.jpg': 'Miscellaneous',\n",
              " 'image9557.jpg': 'Snowman',\n",
              " 'image7071.jpg': 'Christmas_Tree',\n",
              " 'image3972.jpg': 'Miscellaneous',\n",
              " 'image6207.jpg': 'Christmas_Tree',\n",
              " 'image4741.jpg': 'Christmas_Tree',\n",
              " 'image5009.jpg': 'Miscellaneous',\n",
              " 'image777.jpg': 'Miscellaneous',\n",
              " 'image5190.jpg': 'Candle',\n",
              " 'image2906.jpg': 'Jacket',\n",
              " 'image1329.jpg': 'Miscellaneous',\n",
              " 'image751.jpg': 'Miscellaneous',\n",
              " 'image6905.jpg': 'Candle',\n",
              " 'image2993.jpg': 'Snowman',\n",
              " 'image4152.jpg': 'Miscellaneous',\n",
              " 'image9213.jpg': 'Miscellaneous',\n",
              " 'image2299.jpg': 'Christmas_Tree',\n",
              " 'image8054.jpg': 'Miscellaneous',\n",
              " 'image745.jpg': 'Christmas_Tree',\n",
              " 'image2736.jpg': 'Christmas_Tree',\n",
              " 'image5724.jpg': 'Miscellaneous',\n",
              " 'image9130.jpg': 'Snowman',\n",
              " 'image5093.jpg': 'Candle',\n",
              " 'image3061.jpg': 'Christmas_Tree',\n",
              " 'image3262.jpg': 'Airplane',\n",
              " 'image1952.jpg': 'Miscellaneous',\n",
              " 'image9252.jpg': 'Miscellaneous',\n",
              " 'image1165.jpg': 'Christmas_Tree',\n",
              " 'image5725.jpg': 'Christmas_Tree',\n",
              " 'image1794.jpg': 'Christmas_Tree',\n",
              " 'image4667.jpg': 'Christmas_Tree',\n",
              " 'image5859.jpg': 'Christmas_Tree',\n",
              " 'image2352.jpg': 'Miscellaneous',\n",
              " 'image2595.jpg': 'Jacket',\n",
              " 'image4394.jpg': 'Miscellaneous',\n",
              " 'image6990.jpg': 'Christmas_Tree',\n",
              " 'image5638.jpg': 'Jacket',\n",
              " 'image5587.jpg': 'Christmas_Tree',\n",
              " 'image4393.jpg': 'Miscellaneous',\n",
              " 'image1723.jpg': 'Miscellaneous',\n",
              " 'image5806.jpg': 'Christmas_Tree',\n",
              " 'image6173.jpg': 'Airplane',\n",
              " 'image1448.jpg': 'Christmas_Tree',\n",
              " 'image7421.jpg': 'Miscellaneous',\n",
              " 'image5966.jpg': 'Candle',\n",
              " 'image8461.jpg': 'Jacket',\n",
              " 'image7548.jpg': 'Christmas_Tree',\n",
              " 'image2650.jpg': 'Miscellaneous',\n",
              " 'image2478.jpg': 'Snowman',\n",
              " 'image7977.jpg': 'Christmas_Tree',\n",
              " 'image1378.jpg': 'Miscellaneous',\n",
              " 'image3634.jpg': 'Candle',\n",
              " 'image3267.jpg': 'Candle',\n",
              " 'image2235.jpg': 'Airplane',\n",
              " 'image515.jpg': 'Miscellaneous',\n",
              " 'image1651.jpg': 'Jacket',\n",
              " 'image841.jpg': 'Candle',\n",
              " 'image557.jpg': 'Miscellaneous',\n",
              " 'image725.jpg': 'Miscellaneous',\n",
              " 'image774.jpg': 'Miscellaneous',\n",
              " 'image6248.jpg': 'Christmas_Tree',\n",
              " 'image275.jpg': 'Miscellaneous',\n",
              " 'image1915.jpg': 'Candle',\n",
              " 'image3359.jpg': 'Jacket',\n",
              " 'image990.jpg': 'Miscellaneous',\n",
              " 'image8846.jpg': 'Miscellaneous',\n",
              " 'image3649.jpg': 'Miscellaneous',\n",
              " 'image932.jpg': 'Miscellaneous',\n",
              " 'image2585.jpg': 'Miscellaneous',\n",
              " 'image6688.jpg': 'Miscellaneous',\n",
              " 'image7074.jpg': 'Jacket',\n",
              " 'image1907.jpg': 'Candle',\n",
              " 'image5543.jpg': 'Jacket',\n",
              " 'image9199.jpg': 'Snowman',\n",
              " 'image6851.jpg': 'Miscellaneous',\n",
              " 'image9293.jpg': 'Airplane',\n",
              " 'image9836.jpg': 'Snowman',\n",
              " 'image3140.jpg': 'Jacket',\n",
              " 'image9227.jpg': 'Christmas_Tree',\n",
              " 'image3443.jpg': 'Christmas_Tree',\n",
              " 'image4206.jpg': 'Miscellaneous',\n",
              " 'image6227.jpg': 'Airplane',\n",
              " 'image7088.jpg': 'Candle',\n",
              " 'image185.jpg': 'Airplane',\n",
              " 'image1367.jpg': 'Airplane',\n",
              " 'image2025.jpg': 'Miscellaneous',\n",
              " 'image1891.jpg': 'Airplane',\n",
              " 'image5180.jpg': 'Airplane',\n",
              " 'image9033.jpg': 'Christmas_Tree',\n",
              " 'image9261.jpg': 'Christmas_Tree',\n",
              " 'image7770.jpg': 'Candle',\n",
              " 'image3915.jpg': 'Jacket',\n",
              " 'image7429.jpg': 'Miscellaneous',\n",
              " 'image470.jpg': 'Christmas_Tree',\n",
              " 'image8530.jpg': 'Christmas_Tree',\n",
              " 'image1593.jpg': 'Snowman',\n",
              " 'image4291.jpg': 'Miscellaneous',\n",
              " 'image4792.jpg': 'Christmas_Tree',\n",
              " 'image4137.jpg': 'Snowman',\n",
              " 'image5548.jpg': 'Miscellaneous',\n",
              " 'image8293.jpg': 'Airplane',\n",
              " 'image6398.jpg': 'Snowman',\n",
              " 'image9624.jpg': 'Miscellaneous',\n",
              " 'image306.jpg': 'Christmas_Tree',\n",
              " 'image8310.jpg': 'Miscellaneous',\n",
              " 'image3488.jpg': 'Miscellaneous',\n",
              " 'image8626.jpg': 'Miscellaneous',\n",
              " 'image4951.jpg': 'Jacket',\n",
              " 'image5463.jpg': 'Miscellaneous',\n",
              " 'image5815.jpg': 'Airplane',\n",
              " 'image884.jpg': 'Miscellaneous',\n",
              " 'image6560.jpg': 'Airplane',\n",
              " 'image9185.jpg': 'Candle',\n",
              " 'image4848.jpg': 'Miscellaneous',\n",
              " 'image2694.jpg': 'Miscellaneous',\n",
              " 'image5527.jpg': 'Christmas_Tree',\n",
              " 'image343.jpg': 'Candle',\n",
              " 'image1208.jpg': 'Airplane',\n",
              " 'image8193.jpg': 'Miscellaneous',\n",
              " 'image8800.jpg': 'Christmas_Tree',\n",
              " 'image9283.jpg': 'Miscellaneous',\n",
              " 'image2596.jpg': 'Christmas_Tree',\n",
              " 'image1485.jpg': 'Miscellaneous',\n",
              " 'image8603.jpg': 'Miscellaneous',\n",
              " 'image3687.jpg': 'Christmas_Tree',\n",
              " 'image8321.jpg': 'Miscellaneous',\n",
              " 'image4873.jpg': 'Christmas_Tree',\n",
              " 'image648.jpg': 'Miscellaneous',\n",
              " 'image5925.jpg': 'Airplane',\n",
              " 'image3130.jpg': 'Miscellaneous',\n",
              " 'image2870.jpg': 'Airplane',\n",
              " 'image7728.jpg': 'Snowman',\n",
              " 'image4469.jpg': 'Miscellaneous',\n",
              " 'image8537.jpg': 'Miscellaneous',\n",
              " 'image2075.jpg': 'Miscellaneous',\n",
              " 'image6737.jpg': 'Snowman',\n",
              " 'image4502.jpg': 'Christmas_Tree',\n",
              " 'image9320.jpg': 'Miscellaneous',\n",
              " 'image2591.jpg': 'Airplane',\n",
              " 'image4720.jpg': 'Miscellaneous',\n",
              " 'image5388.jpg': 'Miscellaneous',\n",
              " 'image2339.jpg': 'Christmas_Tree',\n",
              " 'image288.jpg': 'Christmas_Tree',\n",
              " 'image3273.jpg': 'Miscellaneous',\n",
              " 'image5991.jpg': 'Miscellaneous',\n",
              " 'image8484.jpg': 'Miscellaneous',\n",
              " 'image3355.jpg': 'Christmas_Tree',\n",
              " 'image8105.jpg': 'Miscellaneous',\n",
              " 'image4581.jpg': 'Jacket',\n",
              " 'image1246.jpg': 'Miscellaneous',\n",
              " 'image2781.jpg': 'Miscellaneous',\n",
              " 'image5074.jpg': 'Airplane',\n",
              " 'image9438.jpg': 'Christmas_Tree',\n",
              " 'image4142.jpg': 'Candle',\n",
              " 'image7114.jpg': 'Candle',\n",
              " 'image1513.jpg': 'Christmas_Tree',\n",
              " 'image3182.jpg': 'Snowman',\n",
              " 'image9684.jpg': 'Miscellaneous',\n",
              " 'image2882.jpg': 'Miscellaneous',\n",
              " 'image1598.jpg': 'Miscellaneous',\n",
              " 'image8783.jpg': 'Snowman',\n",
              " 'image8721.jpg': 'Miscellaneous',\n",
              " 'image4127.jpg': 'Snowman',\n",
              " 'image4959.jpg': 'Miscellaneous',\n",
              " 'image3801.jpg': 'Christmas_Tree',\n",
              " 'image1950.jpg': 'Miscellaneous',\n",
              " 'image2898.jpg': 'Miscellaneous',\n",
              " 'image2379.jpg': 'Airplane',\n",
              " 'image7449.jpg': 'Christmas_Tree',\n",
              " 'image3063.jpg': 'Jacket',\n",
              " 'image5309.jpg': 'Christmas_Tree',\n",
              " 'image2044.jpg': 'Candle',\n",
              " 'image7580.jpg': 'Snowman',\n",
              " 'image3176.jpg': 'Miscellaneous',\n",
              " 'image9401.jpg': 'Miscellaneous',\n",
              " 'image1979.jpg': 'Snowman',\n",
              " 'image8755.jpg': 'Jacket',\n",
              " 'image2378.jpg': 'Candle',\n",
              " 'image9726.jpg': 'Miscellaneous',\n",
              " 'image204.jpg': 'Miscellaneous',\n",
              " 'image9758.jpg': 'Snowman',\n",
              " 'image7697.jpg': 'Christmas_Tree',\n",
              " 'image178.jpg': 'Jacket',\n",
              " 'image1991.jpg': 'Miscellaneous',\n",
              " 'image6946.jpg': 'Christmas_Tree',\n",
              " 'image1214.jpg': 'Christmas_Tree',\n",
              " 'image4617.jpg': 'Candle',\n",
              " 'image540.jpg': 'Christmas_Tree',\n",
              " 'image9441.jpg': 'Miscellaneous',\n",
              " 'image8298.jpg': 'Christmas_Tree',\n",
              " 'image1940.jpg': 'Christmas_Tree',\n",
              " 'image5920.jpg': 'Jacket',\n",
              " 'image1597.jpg': 'Jacket',\n",
              " 'image2575.jpg': 'Jacket',\n",
              " 'image9359.jpg': 'Miscellaneous',\n",
              " 'image7067.jpg': 'Miscellaneous',\n",
              " 'image4233.jpg': 'Jacket',\n",
              " 'image3640.jpg': 'Christmas_Tree',\n",
              " 'image627.jpg': 'Christmas_Tree',\n",
              " 'image4293.jpg': 'Miscellaneous',\n",
              " 'image9296.jpg': 'Miscellaneous',\n",
              " 'image4653.jpg': 'Miscellaneous',\n",
              " 'image795.jpg': 'Jacket',\n",
              " 'image4194.jpg': 'Miscellaneous',\n",
              " 'image9206.jpg': 'Miscellaneous',\n",
              " 'image790.jpg': 'Miscellaneous',\n",
              " 'image7501.jpg': 'Christmas_Tree',\n",
              " 'image7854.jpg': 'Christmas_Tree',\n",
              " 'image799.jpg': 'Miscellaneous',\n",
              " 'image5162.jpg': 'Miscellaneous',\n",
              " 'image8216.jpg': 'Miscellaneous',\n",
              " 'image7342.jpg': 'Christmas_Tree',\n",
              " 'image8992.jpg': 'Candle',\n",
              " 'image21.jpg': 'Miscellaneous',\n",
              " 'image5804.jpg': 'Airplane',\n",
              " 'image8169.jpg': 'Airplane',\n",
              " 'image964.jpg': 'Christmas_Tree',\n",
              " 'image8021.jpg': 'Candle',\n",
              " 'image9100.jpg': 'Christmas_Tree',\n",
              " 'image8930.jpg': 'Christmas_Tree',\n",
              " 'image4398.jpg': 'Jacket',\n",
              " 'image8414.jpg': 'Jacket',\n",
              " 'image8131.jpg': 'Miscellaneous',\n",
              " 'image3391.jpg': 'Candle',\n",
              " 'image5297.jpg': 'Miscellaneous',\n",
              " 'image3199.jpg': 'Miscellaneous',\n",
              " 'image9576.jpg': 'Candle',\n",
              " 'image7169.jpg': 'Jacket',\n",
              " 'image4395.jpg': 'Christmas_Tree',\n",
              " 'image8423.jpg': 'Christmas_Tree',\n",
              " 'image1705.jpg': 'Miscellaneous',\n",
              " 'image2082.jpg': 'Christmas_Tree',\n",
              " 'image6497.jpg': 'Candle',\n",
              " 'image7021.jpg': 'Miscellaneous',\n",
              " 'image9020.jpg': 'Miscellaneous',\n",
              " 'image6390.jpg': 'Christmas_Tree',\n",
              " 'image1258.jpg': 'Miscellaneous',\n",
              " 'image367.jpg': 'Jacket',\n",
              " 'image935.jpg': 'Candle',\n",
              " 'image4457.jpg': 'Snowman',\n",
              " 'image1437.jpg': 'Miscellaneous',\n",
              " 'image9414.jpg': 'Miscellaneous',\n",
              " 'image7468.jpg': 'Miscellaneous',\n",
              " 'image3371.jpg': 'Miscellaneous',\n",
              " 'image8716.jpg': 'Jacket',\n",
              " 'image3704.jpg': 'Christmas_Tree',\n",
              " 'image5276.jpg': 'Snowman',\n",
              " 'image8152.jpg': 'Miscellaneous',\n",
              " 'image9642.jpg': 'Miscellaneous',\n",
              " 'image8205.jpg': 'Snowman',\n",
              " 'image7248.jpg': 'Jacket',\n",
              " 'image4591.jpg': 'Airplane',\n",
              " 'image3951.jpg': 'Christmas_Tree',\n",
              " 'image3679.jpg': 'Miscellaneous',\n",
              " 'image3268.jpg': 'Miscellaneous',\n",
              " 'image4377.jpg': 'Christmas_Tree',\n",
              " 'image4265.jpg': 'Snowman',\n",
              " 'image8889.jpg': 'Snowman',\n",
              " 'image9761.jpg': 'Airplane',\n",
              " 'image7891.jpg': 'Miscellaneous',\n",
              " 'image2409.jpg': 'Miscellaneous',\n",
              " 'image2466.jpg': 'Miscellaneous',\n",
              " 'image7634.jpg': 'Miscellaneous',\n",
              " 'image5041.jpg': 'Snowman',\n",
              " 'image8311.jpg': 'Miscellaneous',\n",
              " 'image8866.jpg': 'Miscellaneous',\n",
              " 'image9409.jpg': 'Miscellaneous',\n",
              " 'image500.jpg': 'Miscellaneous',\n",
              " 'image4933.jpg': 'Airplane',\n",
              " 'image1538.jpg': 'Miscellaneous',\n",
              " 'image5078.jpg': 'Airplane',\n",
              " 'image5208.jpg': 'Christmas_Tree',\n",
              " 'image5423.jpg': 'Miscellaneous',\n",
              " 'image1360.jpg': 'Miscellaneous',\n",
              " 'image2222.jpg': 'Jacket',\n",
              " 'image9938.jpg': 'Christmas_Tree',\n",
              " 'image290.jpg': 'Miscellaneous',\n",
              " 'image977.jpg': 'Christmas_Tree',\n",
              " 'image1176.jpg': 'Miscellaneous',\n",
              " 'image748.jpg': 'Miscellaneous',\n",
              " 'image5982.jpg': 'Christmas_Tree',\n",
              " 'image9065.jpg': 'Miscellaneous',\n",
              " 'image3616.jpg': 'Candle',\n",
              " 'image377.jpg': 'Miscellaneous',\n",
              " 'image1109.jpg': 'Miscellaneous',\n",
              " 'image3215.jpg': 'Miscellaneous',\n",
              " 'image5988.jpg': 'Miscellaneous',\n",
              " 'image9591.jpg': 'Miscellaneous',\n",
              " 'image1494.jpg': 'Snowman',\n",
              " 'image8720.jpg': 'Jacket',\n",
              " 'image5817.jpg': 'Miscellaneous',\n",
              " 'image9235.jpg': 'Miscellaneous',\n",
              " 'image6638.jpg': 'Candle',\n",
              " 'image8.jpg': 'Christmas_Tree',\n",
              " 'image7304.jpg': 'Christmas_Tree',\n",
              " 'image7603.jpg': 'Jacket',\n",
              " 'image295.jpg': 'Candle',\n",
              " 'image6601.jpg': 'Christmas_Tree',\n",
              " 'image48.jpg': 'Christmas_Tree',\n",
              " 'image7345.jpg': 'Miscellaneous',\n",
              " 'image2382.jpg': 'Miscellaneous',\n",
              " 'image2144.jpg': 'Christmas_Tree',\n",
              " 'image3502.jpg': 'Christmas_Tree',\n",
              " 'image5501.jpg': 'Christmas_Tree',\n",
              " 'image5948.jpg': 'Miscellaneous',\n",
              " 'image7884.jpg': 'Miscellaneous',\n",
              " 'image4252.jpg': 'Christmas_Tree',\n",
              " 'image1077.jpg': 'Candle',\n",
              " 'image1586.jpg': 'Airplane',\n",
              " 'image8257.jpg': 'Snowman',\n",
              " 'image9445.jpg': 'Miscellaneous',\n",
              " 'image6945.jpg': 'Candle',\n",
              " 'image2116.jpg': 'Miscellaneous',\n",
              " 'image1185.jpg': 'Miscellaneous',\n",
              " 'image168.jpg': 'Miscellaneous',\n",
              " 'image9778.jpg': 'Candle',\n",
              " 'image4644.jpg': 'Snowman',\n",
              " 'image1552.jpg': 'Miscellaneous',\n",
              " 'image2715.jpg': 'Snowman',\n",
              " 'image9010.jpg': 'Candle',\n",
              " 'image7832.jpg': 'Christmas_Tree',\n",
              " 'image6673.jpg': 'Miscellaneous',\n",
              " 'image1124.jpg': 'Miscellaneous',\n",
              " 'image6019.jpg': 'Jacket',\n",
              " 'image6442.jpg': 'Christmas_Tree',\n",
              " 'image9269.jpg': 'Christmas_Tree',\n",
              " 'image5782.jpg': 'Miscellaneous',\n",
              " 'image1238.jpg': 'Christmas_Tree',\n",
              " 'image8104.jpg': 'Snowman',\n",
              " 'image4928.jpg': 'Miscellaneous',\n",
              " 'image9008.jpg': 'Snowman',\n",
              " 'image7185.jpg': 'Miscellaneous',\n",
              " 'image1237.jpg': 'Miscellaneous',\n",
              " 'image9295.jpg': 'Candle',\n",
              " 'image9108.jpg': 'Candle',\n",
              " 'image3862.jpg': 'Miscellaneous',\n",
              " 'image6842.jpg': 'Christmas_Tree',\n",
              " 'image7321.jpg': 'Christmas_Tree',\n",
              " 'image1957.jpg': 'Jacket',\n",
              " 'image7507.jpg': 'Miscellaneous',\n",
              " 'image3907.jpg': 'Jacket',\n",
              " 'image2760.jpg': 'Christmas_Tree',\n",
              " 'image7483.jpg': 'Miscellaneous',\n",
              " 'image3400.jpg': 'Christmas_Tree',\n",
              " 'image6323.jpg': 'Miscellaneous',\n",
              " 'image8646.jpg': 'Miscellaneous',\n",
              " 'image7307.jpg': 'Miscellaneous',\n",
              " 'image1808.jpg': 'Airplane',\n",
              " 'image361.jpg': 'Miscellaneous',\n",
              " 'image9416.jpg': 'Airplane',\n",
              " 'image950.jpg': 'Candle',\n",
              " 'image634.jpg': 'Christmas_Tree',\n",
              " 'image4430.jpg': 'Christmas_Tree',\n",
              " 'image9029.jpg': 'Christmas_Tree',\n",
              " 'image7404.jpg': 'Miscellaneous',\n",
              " 'image9743.jpg': 'Christmas_Tree',\n",
              " 'image9095.jpg': 'Miscellaneous',\n",
              " 'image4471.jpg': 'Christmas_Tree',\n",
              " 'image2942.jpg': 'Jacket',\n",
              " 'image1771.jpg': 'Miscellaneous',\n",
              " 'image5042.jpg': 'Jacket',\n",
              " 'image4559.jpg': 'Candle',\n",
              " 'image7470.jpg': 'Miscellaneous',\n",
              " 'image6536.jpg': 'Christmas_Tree',\n",
              " 'image3282.jpg': 'Miscellaneous',\n",
              " 'image1172.jpg': 'Miscellaneous',\n",
              " 'image7543.jpg': 'Candle',\n",
              " 'image9724.jpg': 'Christmas_Tree',\n",
              " 'image1084.jpg': 'Christmas_Tree',\n",
              " 'image735.jpg': 'Christmas_Tree',\n",
              " 'image6487.jpg': 'Jacket',\n",
              " 'image7028.jpg': 'Airplane',\n",
              " 'image9178.jpg': 'Jacket',\n",
              " 'image8759.jpg': 'Miscellaneous',\n",
              " 'image7520.jpg': 'Miscellaneous',\n",
              " 'image7160.jpg': 'Christmas_Tree',\n",
              " 'image3681.jpg': 'Jacket',\n",
              " 'image6186.jpg': 'Miscellaneous',\n",
              " 'image405.jpg': 'Jacket',\n",
              " 'image4021.jpg': 'Miscellaneous',\n",
              " 'image6377.jpg': 'Jacket',\n",
              " 'image485.jpg': 'Snowman',\n",
              " 'image9744.jpg': 'Miscellaneous',\n",
              " 'image8327.jpg': 'Christmas_Tree',\n",
              " 'image1421.jpg': 'Miscellaneous',\n",
              " 'image4697.jpg': 'Miscellaneous',\n",
              " 'image7134.jpg': 'Miscellaneous',\n",
              " 'image466.jpg': 'Miscellaneous',\n",
              " 'image917.jpg': 'Airplane',\n",
              " 'image606.jpg': 'Miscellaneous',\n",
              " 'image6100.jpg': 'Christmas_Tree',\n",
              " 'image8585.jpg': 'Miscellaneous',\n",
              " 'image140.jpg': 'Miscellaneous',\n",
              " 'image3297.jpg': 'Miscellaneous',\n",
              " 'image8673.jpg': 'Christmas_Tree',\n",
              " 'image5881.jpg': 'Miscellaneous',\n",
              " 'image611.jpg': 'Christmas_Tree',\n",
              " 'image629.jpg': 'Miscellaneous',\n",
              " 'image1532.jpg': 'Jacket',\n",
              " 'image2049.jpg': 'Christmas_Tree',\n",
              " 'image5168.jpg': 'Miscellaneous',\n",
              " 'image1922.jpg': 'Candle',\n",
              " 'image1164.jpg': 'Miscellaneous',\n",
              " 'image7554.jpg': 'Snowman',\n",
              " 'image6135.jpg': 'Airplane',\n",
              " 'image1017.jpg': 'Christmas_Tree',\n",
              " 'image8493.jpg': 'Candle',\n",
              " 'image3106.jpg': 'Airplane',\n",
              " 'image783.jpg': 'Miscellaneous',\n",
              " 'image4585.jpg': 'Miscellaneous',\n",
              " 'image855.jpg': 'Miscellaneous',\n",
              " 'image5415.jpg': 'Miscellaneous',\n",
              " 'image2250.jpg': 'Christmas_Tree',\n",
              " 'image9877.jpg': 'Jacket',\n",
              " 'image539.jpg': 'Jacket',\n",
              " 'image5892.jpg': 'Miscellaneous',\n",
              " 'image8613.jpg': 'Miscellaneous',\n",
              " 'image2580.jpg': 'Candle',\n",
              " 'image6680.jpg': 'Christmas_Tree',\n",
              " 'image5017.jpg': 'Miscellaneous',\n",
              " 'image5727.jpg': 'Miscellaneous',\n",
              " 'image9706.jpg': 'Jacket',\n",
              " 'image5939.jpg': 'Miscellaneous',\n",
              " 'image2679.jpg': 'Jacket',\n",
              " 'image2758.jpg': 'Miscellaneous',\n",
              " 'image5022.jpg': 'Miscellaneous',\n",
              " 'image4981.jpg': 'Jacket',\n",
              " 'image6112.jpg': 'Christmas_Tree',\n",
              " 'image3382.jpg': 'Christmas_Tree',\n",
              " ...}"
            ]
          },
          "metadata": {
            "tags": []
          },
          "execution_count": 11
        }
      ]
    },
    {
      "cell_type": "code",
      "metadata": {
        "colab": {
          "base_uri": "https://localhost:8080/"
        },
        "id": "iv5SepEBNYKS",
        "outputId": "ba972e34-da95-42ce-e162-82ba71f1b771"
      },
      "source": [
        "print (len(image_names))"
      ],
      "execution_count": 12,
      "outputs": [
        {
          "output_type": "stream",
          "text": [
            "6469\n"
          ],
          "name": "stdout"
        }
      ]
    },
    {
      "cell_type": "code",
      "metadata": {
        "colab": {
          "base_uri": "https://localhost:8080/"
        },
        "id": "MCEugCjI_iYp",
        "outputId": "e4592399-0513-4b17-ffd1-a5deb44e67f6"
      },
      "source": [
        "X_train =[]\r\n",
        "y_train = []\r\n",
        "for image in tqdm(os.listdir(base_path_1)):\r\n",
        "  img = cv2.imread(os.path.join(base_path_1,image))\r\n",
        "  img = cv2.resize(img,(224,224),interpolation=cv2.INTER_AREA)\r\n",
        "  img = preprocess_input(img.reshape(1,224,224,3))\r\n",
        "  X_train.append(img.reshape(224,224,3))\r\n",
        "  y_train.append(final_labels[image])"
      ],
      "execution_count": 13,
      "outputs": [
        {
          "output_type": "stream",
          "text": [
            "100%|██████████| 6469/6469 [35:57<00:00,  3.00it/s]\n"
          ],
          "name": "stderr"
        }
      ]
    },
    {
      "cell_type": "code",
      "metadata": {
        "colab": {
          "base_uri": "https://localhost:8080/"
        },
        "id": "t59Gr9e6NfYL",
        "outputId": "ba4b623b-a561-4a39-d259-5cc659419850"
      },
      "source": [
        "print(y_train)"
      ],
      "execution_count": 16,
      "outputs": [
        {
          "output_type": "stream",
          "text": [
            "['Miscellaneous', 'Miscellaneous', 'Miscellaneous', 'Miscellaneous', 'Miscellaneous', 'Miscellaneous', 'Miscellaneous', 'Miscellaneous', 'Miscellaneous', 'Miscellaneous', 'Miscellaneous', 'Miscellaneous', 'Miscellaneous', 'Miscellaneous', 'Miscellaneous', 'Miscellaneous', 'Miscellaneous', 'Miscellaneous', 'Miscellaneous', 'Miscellaneous', 'Miscellaneous', 'Miscellaneous', 'Miscellaneous', 'Miscellaneous', 'Miscellaneous', 'Miscellaneous', 'Miscellaneous', 'Miscellaneous', 'Miscellaneous', 'Miscellaneous', 'Miscellaneous', 'Miscellaneous', 'Miscellaneous', 'Miscellaneous', 'Miscellaneous', 'Miscellaneous', 'Miscellaneous', 'Miscellaneous', 'Miscellaneous', 'Miscellaneous', 'Miscellaneous', 'Miscellaneous', 'Miscellaneous', 'Miscellaneous', 'Miscellaneous', 'Miscellaneous', 'Miscellaneous', 'Miscellaneous', 'Miscellaneous', 'Miscellaneous', 'Miscellaneous', 'Miscellaneous', 'Miscellaneous', 'Miscellaneous', 'Miscellaneous', 'Miscellaneous', 'Miscellaneous', 'Miscellaneous', 'Miscellaneous', 'Miscellaneous', 'Miscellaneous', 'Miscellaneous', 'Miscellaneous', 'Miscellaneous', 'Miscellaneous', 'Miscellaneous', 'Miscellaneous', 'Miscellaneous', 'Miscellaneous', 'Miscellaneous', 'Miscellaneous', 'Miscellaneous', 'Miscellaneous', 'Miscellaneous', 'Miscellaneous', 'Miscellaneous', 'Miscellaneous', 'Miscellaneous', 'Miscellaneous', 'Miscellaneous', 'Miscellaneous', 'Miscellaneous', 'Miscellaneous', 'Miscellaneous', 'Miscellaneous', 'Miscellaneous', 'Miscellaneous', 'Miscellaneous', 'Miscellaneous', 'Miscellaneous', 'Miscellaneous', 'Miscellaneous', 'Miscellaneous', 'Miscellaneous', 'Miscellaneous', 'Miscellaneous', 'Miscellaneous', 'Miscellaneous', 'Miscellaneous', 'Miscellaneous', 'Miscellaneous', 'Miscellaneous', 'Miscellaneous', 'Miscellaneous', 'Miscellaneous', 'Miscellaneous', 'Miscellaneous', 'Miscellaneous', 'Miscellaneous', 'Miscellaneous', 'Miscellaneous', 'Miscellaneous', 'Miscellaneous', 'Miscellaneous', 'Miscellaneous', 'Miscellaneous', 'Miscellaneous', 'Miscellaneous', 'Miscellaneous', 'Miscellaneous', 'Miscellaneous', 'Miscellaneous', 'Miscellaneous', 'Miscellaneous', 'Miscellaneous', 'Miscellaneous', 'Miscellaneous', 'Miscellaneous', 'Miscellaneous', 'Miscellaneous', 'Miscellaneous', 'Miscellaneous', 'Miscellaneous', 'Miscellaneous', 'Miscellaneous', 'Miscellaneous', 'Miscellaneous', 'Miscellaneous', 'Miscellaneous', 'Miscellaneous', 'Miscellaneous', 'Miscellaneous', 'Miscellaneous', 'Miscellaneous', 'Miscellaneous', 'Miscellaneous', 'Miscellaneous', 'Miscellaneous', 'Miscellaneous', 'Miscellaneous', 'Miscellaneous', 'Miscellaneous', 'Miscellaneous', 'Miscellaneous', 'Miscellaneous', 'Miscellaneous', 'Miscellaneous', 'Miscellaneous', 'Miscellaneous', 'Miscellaneous', 'Miscellaneous', 'Miscellaneous', 'Miscellaneous', 'Miscellaneous', 'Miscellaneous', 'Miscellaneous', 'Miscellaneous', 'Miscellaneous', 'Miscellaneous', 'Miscellaneous', 'Miscellaneous', 'Miscellaneous', 'Miscellaneous', 'Miscellaneous', 'Miscellaneous', 'Miscellaneous', 'Miscellaneous', 'Miscellaneous', 'Miscellaneous', 'Miscellaneous', 'Miscellaneous', 'Miscellaneous', 'Miscellaneous', 'Miscellaneous', 'Miscellaneous', 'Miscellaneous', 'Miscellaneous', 'Miscellaneous', 'Miscellaneous', 'Miscellaneous', 'Miscellaneous', 'Miscellaneous', 'Miscellaneous', 'Miscellaneous', 'Miscellaneous', 'Miscellaneous', 'Miscellaneous', 'Miscellaneous', 'Miscellaneous', 'Miscellaneous', 'Miscellaneous', 'Miscellaneous', 'Miscellaneous', 'Miscellaneous', 'Miscellaneous', 'Miscellaneous', 'Miscellaneous', 'Miscellaneous', 'Miscellaneous', 'Miscellaneous', 'Miscellaneous', 'Miscellaneous', 'Miscellaneous', 'Miscellaneous', 'Miscellaneous', 'Miscellaneous', 'Miscellaneous', 'Miscellaneous', 'Miscellaneous', 'Miscellaneous', 'Miscellaneous', 'Miscellaneous', 'Miscellaneous', 'Miscellaneous', 'Miscellaneous', 'Miscellaneous', 'Miscellaneous', 'Miscellaneous', 'Miscellaneous', 'Miscellaneous', 'Miscellaneous', 'Miscellaneous', 'Miscellaneous', 'Miscellaneous', 'Miscellaneous', 'Miscellaneous', 'Miscellaneous', 'Miscellaneous', 'Miscellaneous', 'Miscellaneous', 'Miscellaneous', 'Miscellaneous', 'Miscellaneous', 'Miscellaneous', 'Miscellaneous', 'Miscellaneous', 'Miscellaneous', 'Miscellaneous', 'Miscellaneous', 'Miscellaneous', 'Miscellaneous', 'Miscellaneous', 'Miscellaneous', 'Miscellaneous', 'Miscellaneous', 'Miscellaneous', 'Miscellaneous', 'Miscellaneous', 'Miscellaneous', 'Miscellaneous', 'Miscellaneous', 'Miscellaneous', 'Miscellaneous', 'Miscellaneous', 'Miscellaneous', 'Miscellaneous', 'Miscellaneous', 'Miscellaneous', 'Miscellaneous', 'Miscellaneous', 'Miscellaneous', 'Miscellaneous', 'Miscellaneous', 'Miscellaneous', 'Miscellaneous', 'Miscellaneous', 'Miscellaneous', 'Miscellaneous', 'Miscellaneous', 'Miscellaneous', 'Miscellaneous', 'Miscellaneous', 'Miscellaneous', 'Miscellaneous', 'Miscellaneous', 'Miscellaneous', 'Miscellaneous', 'Miscellaneous', 'Miscellaneous', 'Miscellaneous', 'Miscellaneous', 'Miscellaneous', 'Miscellaneous', 'Miscellaneous', 'Miscellaneous', 'Miscellaneous', 'Miscellaneous', 'Miscellaneous', 'Miscellaneous', 'Miscellaneous', 'Miscellaneous', 'Miscellaneous', 'Miscellaneous', 'Miscellaneous', 'Miscellaneous', 'Miscellaneous', 'Miscellaneous', 'Miscellaneous', 'Miscellaneous', 'Miscellaneous', 'Miscellaneous', 'Miscellaneous', 'Miscellaneous', 'Miscellaneous', 'Miscellaneous', 'Miscellaneous', 'Miscellaneous', 'Miscellaneous', 'Miscellaneous', 'Miscellaneous', 'Miscellaneous', 'Miscellaneous', 'Miscellaneous', 'Miscellaneous', 'Miscellaneous', 'Miscellaneous', 'Miscellaneous', 'Miscellaneous', 'Miscellaneous', 'Miscellaneous', 'Miscellaneous', 'Miscellaneous', 'Miscellaneous', 'Miscellaneous', 'Miscellaneous', 'Miscellaneous', 'Miscellaneous', 'Miscellaneous', 'Miscellaneous', 'Miscellaneous', 'Miscellaneous', 'Miscellaneous', 'Miscellaneous', 'Miscellaneous', 'Miscellaneous', 'Miscellaneous', 'Miscellaneous', 'Miscellaneous', 'Miscellaneous', 'Miscellaneous', 'Miscellaneous', 'Miscellaneous', 'Miscellaneous', 'Miscellaneous', 'Miscellaneous', 'Miscellaneous', 'Miscellaneous', 'Miscellaneous', 'Miscellaneous', 'Miscellaneous', 'Miscellaneous', 'Miscellaneous', 'Miscellaneous', 'Miscellaneous', 'Miscellaneous', 'Miscellaneous', 'Miscellaneous', 'Miscellaneous', 'Miscellaneous', 'Miscellaneous', 'Miscellaneous', 'Miscellaneous', 'Miscellaneous', 'Miscellaneous', 'Miscellaneous', 'Miscellaneous', 'Miscellaneous', 'Miscellaneous', 'Miscellaneous', 'Miscellaneous', 'Miscellaneous', 'Miscellaneous', 'Miscellaneous', 'Miscellaneous', 'Miscellaneous', 'Miscellaneous', 'Miscellaneous', 'Miscellaneous', 'Miscellaneous', 'Miscellaneous', 'Miscellaneous', 'Miscellaneous', 'Miscellaneous', 'Miscellaneous', 'Miscellaneous', 'Miscellaneous', 'Miscellaneous', 'Miscellaneous', 'Miscellaneous', 'Miscellaneous', 'Miscellaneous', 'Miscellaneous', 'Miscellaneous', 'Miscellaneous', 'Miscellaneous', 'Miscellaneous', 'Miscellaneous', 'Miscellaneous', 'Miscellaneous', 'Miscellaneous', 'Miscellaneous', 'Miscellaneous', 'Miscellaneous', 'Miscellaneous', 'Miscellaneous', 'Miscellaneous', 'Miscellaneous', 'Miscellaneous', 'Miscellaneous', 'Miscellaneous', 'Miscellaneous', 'Miscellaneous', 'Miscellaneous', 'Miscellaneous', 'Miscellaneous', 'Miscellaneous', 'Miscellaneous', 'Miscellaneous', 'Miscellaneous', 'Miscellaneous', 'Miscellaneous', 'Miscellaneous', 'Miscellaneous', 'Miscellaneous', 'Miscellaneous', 'Miscellaneous', 'Miscellaneous', 'Miscellaneous', 'Miscellaneous', 'Miscellaneous', 'Miscellaneous', 'Miscellaneous', 'Miscellaneous', 'Miscellaneous', 'Miscellaneous', 'Miscellaneous', 'Miscellaneous', 'Miscellaneous', 'Miscellaneous', 'Miscellaneous', 'Miscellaneous', 'Miscellaneous', 'Miscellaneous', 'Miscellaneous', 'Miscellaneous', 'Miscellaneous', 'Miscellaneous', 'Miscellaneous', 'Miscellaneous', 'Miscellaneous', 'Miscellaneous', 'Miscellaneous', 'Miscellaneous', 'Miscellaneous', 'Miscellaneous', 'Miscellaneous', 'Miscellaneous', 'Miscellaneous', 'Miscellaneous', 'Miscellaneous', 'Miscellaneous', 'Miscellaneous', 'Miscellaneous', 'Miscellaneous', 'Miscellaneous', 'Miscellaneous', 'Miscellaneous', 'Miscellaneous', 'Miscellaneous', 'Miscellaneous', 'Miscellaneous', 'Miscellaneous', 'Miscellaneous', 'Miscellaneous', 'Miscellaneous', 'Miscellaneous', 'Miscellaneous', 'Miscellaneous', 'Miscellaneous', 'Miscellaneous', 'Miscellaneous', 'Miscellaneous', 'Miscellaneous', 'Miscellaneous', 'Miscellaneous', 'Miscellaneous', 'Miscellaneous', 'Miscellaneous', 'Miscellaneous', 'Miscellaneous', 'Miscellaneous', 'Miscellaneous', 'Miscellaneous', 'Miscellaneous', 'Miscellaneous', 'Miscellaneous', 'Miscellaneous', 'Miscellaneous', 'Miscellaneous', 'Miscellaneous', 'Miscellaneous', 'Miscellaneous', 'Miscellaneous', 'Miscellaneous', 'Miscellaneous', 'Miscellaneous', 'Miscellaneous', 'Miscellaneous', 'Miscellaneous', 'Miscellaneous', 'Miscellaneous', 'Miscellaneous', 'Miscellaneous', 'Miscellaneous', 'Miscellaneous', 'Miscellaneous', 'Miscellaneous', 'Miscellaneous', 'Miscellaneous', 'Miscellaneous', 'Miscellaneous', 'Miscellaneous', 'Miscellaneous', 'Miscellaneous', 'Miscellaneous', 'Miscellaneous', 'Miscellaneous', 'Miscellaneous', 'Miscellaneous', 'Miscellaneous', 'Miscellaneous', 'Miscellaneous', 'Miscellaneous', 'Miscellaneous', 'Miscellaneous', 'Miscellaneous', 'Miscellaneous', 'Miscellaneous', 'Miscellaneous', 'Miscellaneous', 'Miscellaneous', 'Miscellaneous', 'Miscellaneous', 'Miscellaneous', 'Miscellaneous', 'Miscellaneous', 'Miscellaneous', 'Miscellaneous', 'Miscellaneous', 'Miscellaneous', 'Miscellaneous', 'Miscellaneous', 'Miscellaneous', 'Miscellaneous', 'Miscellaneous', 'Miscellaneous', 'Miscellaneous', 'Miscellaneous', 'Miscellaneous', 'Miscellaneous', 'Miscellaneous', 'Miscellaneous', 'Miscellaneous', 'Miscellaneous', 'Miscellaneous', 'Miscellaneous', 'Miscellaneous', 'Miscellaneous', 'Miscellaneous', 'Miscellaneous', 'Miscellaneous', 'Miscellaneous', 'Miscellaneous', 'Miscellaneous', 'Miscellaneous', 'Miscellaneous', 'Miscellaneous', 'Miscellaneous', 'Miscellaneous', 'Miscellaneous', 'Miscellaneous', 'Miscellaneous', 'Miscellaneous', 'Miscellaneous', 'Miscellaneous', 'Miscellaneous', 'Miscellaneous', 'Miscellaneous', 'Miscellaneous', 'Miscellaneous', 'Miscellaneous', 'Miscellaneous', 'Miscellaneous', 'Miscellaneous', 'Miscellaneous', 'Miscellaneous', 'Miscellaneous', 'Miscellaneous', 'Miscellaneous', 'Miscellaneous', 'Miscellaneous', 'Miscellaneous', 'Miscellaneous', 'Miscellaneous', 'Miscellaneous', 'Miscellaneous', 'Miscellaneous', 'Miscellaneous', 'Miscellaneous', 'Miscellaneous', 'Miscellaneous', 'Miscellaneous', 'Miscellaneous', 'Miscellaneous', 'Miscellaneous', 'Miscellaneous', 'Miscellaneous', 'Miscellaneous', 'Miscellaneous', 'Miscellaneous', 'Miscellaneous', 'Miscellaneous', 'Miscellaneous', 'Miscellaneous', 'Miscellaneous', 'Miscellaneous', 'Miscellaneous', 'Miscellaneous', 'Miscellaneous', 'Miscellaneous', 'Miscellaneous', 'Miscellaneous', 'Miscellaneous', 'Miscellaneous', 'Miscellaneous', 'Miscellaneous', 'Miscellaneous', 'Miscellaneous', 'Miscellaneous', 'Miscellaneous', 'Miscellaneous', 'Miscellaneous', 'Miscellaneous', 'Miscellaneous', 'Miscellaneous', 'Miscellaneous', 'Miscellaneous', 'Miscellaneous', 'Miscellaneous', 'Miscellaneous', 'Miscellaneous', 'Miscellaneous', 'Miscellaneous', 'Miscellaneous', 'Miscellaneous', 'Miscellaneous', 'Miscellaneous', 'Miscellaneous', 'Miscellaneous', 'Miscellaneous', 'Miscellaneous', 'Miscellaneous', 'Miscellaneous', 'Miscellaneous', 'Miscellaneous', 'Miscellaneous', 'Miscellaneous', 'Miscellaneous', 'Miscellaneous', 'Miscellaneous', 'Miscellaneous', 'Miscellaneous', 'Miscellaneous', 'Miscellaneous', 'Miscellaneous', 'Miscellaneous', 'Miscellaneous', 'Miscellaneous', 'Miscellaneous', 'Miscellaneous', 'Miscellaneous', 'Miscellaneous', 'Miscellaneous', 'Miscellaneous', 'Miscellaneous', 'Miscellaneous', 'Miscellaneous', 'Miscellaneous', 'Miscellaneous', 'Miscellaneous', 'Miscellaneous', 'Miscellaneous', 'Miscellaneous', 'Miscellaneous', 'Miscellaneous', 'Miscellaneous', 'Miscellaneous', 'Miscellaneous', 'Miscellaneous', 'Miscellaneous', 'Miscellaneous', 'Miscellaneous', 'Miscellaneous', 'Miscellaneous', 'Miscellaneous', 'Miscellaneous', 'Miscellaneous', 'Miscellaneous', 'Miscellaneous', 'Miscellaneous', 'Miscellaneous', 'Miscellaneous', 'Miscellaneous', 'Miscellaneous', 'Miscellaneous', 'Miscellaneous', 'Miscellaneous', 'Miscellaneous', 'Miscellaneous', 'Miscellaneous', 'Miscellaneous', 'Miscellaneous', 'Miscellaneous', 'Miscellaneous', 'Miscellaneous', 'Miscellaneous', 'Miscellaneous', 'Miscellaneous', 'Miscellaneous', 'Miscellaneous', 'Miscellaneous', 'Miscellaneous', 'Miscellaneous', 'Miscellaneous', 'Miscellaneous', 'Miscellaneous', 'Miscellaneous', 'Miscellaneous', 'Miscellaneous', 'Miscellaneous', 'Miscellaneous', 'Miscellaneous', 'Miscellaneous', 'Miscellaneous', 'Miscellaneous', 'Miscellaneous', 'Miscellaneous', 'Miscellaneous', 'Miscellaneous', 'Miscellaneous', 'Miscellaneous', 'Miscellaneous', 'Miscellaneous', 'Miscellaneous', 'Miscellaneous', 'Miscellaneous', 'Miscellaneous', 'Miscellaneous', 'Miscellaneous', 'Miscellaneous', 'Miscellaneous', 'Miscellaneous', 'Miscellaneous', 'Miscellaneous', 'Miscellaneous', 'Miscellaneous', 'Miscellaneous', 'Miscellaneous', 'Miscellaneous', 'Miscellaneous', 'Miscellaneous', 'Miscellaneous', 'Miscellaneous', 'Miscellaneous', 'Miscellaneous', 'Miscellaneous', 'Miscellaneous', 'Miscellaneous', 'Miscellaneous', 'Miscellaneous', 'Miscellaneous', 'Miscellaneous', 'Miscellaneous', 'Miscellaneous', 'Miscellaneous', 'Miscellaneous', 'Miscellaneous', 'Miscellaneous', 'Miscellaneous', 'Miscellaneous', 'Miscellaneous', 'Miscellaneous', 'Miscellaneous', 'Miscellaneous', 'Miscellaneous', 'Miscellaneous', 'Miscellaneous', 'Miscellaneous', 'Miscellaneous', 'Miscellaneous', 'Miscellaneous', 'Miscellaneous', 'Miscellaneous', 'Miscellaneous', 'Miscellaneous', 'Miscellaneous', 'Miscellaneous', 'Miscellaneous', 'Miscellaneous', 'Miscellaneous', 'Miscellaneous', 'Miscellaneous', 'Miscellaneous', 'Miscellaneous', 'Miscellaneous', 'Miscellaneous', 'Miscellaneous', 'Miscellaneous', 'Miscellaneous', 'Miscellaneous', 'Miscellaneous', 'Miscellaneous', 'Miscellaneous', 'Miscellaneous', 'Miscellaneous', 'Miscellaneous', 'Miscellaneous', 'Miscellaneous', 'Miscellaneous', 'Miscellaneous', 'Miscellaneous', 'Miscellaneous', 'Miscellaneous', 'Miscellaneous', 'Miscellaneous', 'Miscellaneous', 'Miscellaneous', 'Miscellaneous', 'Miscellaneous', 'Miscellaneous', 'Miscellaneous', 'Miscellaneous', 'Miscellaneous', 'Miscellaneous', 'Miscellaneous', 'Miscellaneous', 'Miscellaneous', 'Miscellaneous', 'Miscellaneous', 'Miscellaneous', 'Miscellaneous', 'Miscellaneous', 'Miscellaneous', 'Miscellaneous', 'Miscellaneous', 'Miscellaneous', 'Miscellaneous', 'Miscellaneous', 'Miscellaneous', 'Miscellaneous', 'Miscellaneous', 'Miscellaneous', 'Miscellaneous', 'Miscellaneous', 'Miscellaneous', 'Miscellaneous', 'Miscellaneous', 'Miscellaneous', 'Miscellaneous', 'Miscellaneous', 'Miscellaneous', 'Miscellaneous', 'Miscellaneous', 'Miscellaneous', 'Miscellaneous', 'Miscellaneous', 'Miscellaneous', 'Miscellaneous', 'Miscellaneous', 'Miscellaneous', 'Miscellaneous', 'Miscellaneous', 'Miscellaneous', 'Miscellaneous', 'Miscellaneous', 'Miscellaneous', 'Miscellaneous', 'Miscellaneous', 'Miscellaneous', 'Miscellaneous', 'Miscellaneous', 'Miscellaneous', 'Miscellaneous', 'Miscellaneous', 'Miscellaneous', 'Miscellaneous', 'Miscellaneous', 'Miscellaneous', 'Miscellaneous', 'Miscellaneous', 'Miscellaneous', 'Miscellaneous', 'Miscellaneous', 'Miscellaneous', 'Miscellaneous', 'Miscellaneous', 'Miscellaneous', 'Miscellaneous', 'Miscellaneous', 'Miscellaneous', 'Miscellaneous', 'Miscellaneous', 'Miscellaneous', 'Miscellaneous', 'Miscellaneous', 'Miscellaneous', 'Miscellaneous', 'Miscellaneous', 'Miscellaneous', 'Miscellaneous', 'Miscellaneous', 'Miscellaneous', 'Miscellaneous', 'Miscellaneous', 'Miscellaneous', 'Miscellaneous', 'Miscellaneous', 'Miscellaneous', 'Miscellaneous', 'Miscellaneous', 'Miscellaneous', 'Miscellaneous', 'Miscellaneous', 'Miscellaneous', 'Miscellaneous', 'Miscellaneous', 'Miscellaneous', 'Miscellaneous', 'Miscellaneous', 'Miscellaneous', 'Miscellaneous', 'Miscellaneous', 'Miscellaneous', 'Miscellaneous', 'Miscellaneous', 'Miscellaneous', 'Miscellaneous', 'Miscellaneous', 'Miscellaneous', 'Miscellaneous', 'Miscellaneous', 'Miscellaneous', 'Miscellaneous', 'Miscellaneous', 'Miscellaneous', 'Miscellaneous', 'Miscellaneous', 'Miscellaneous', 'Miscellaneous', 'Miscellaneous', 'Miscellaneous', 'Miscellaneous', 'Miscellaneous', 'Miscellaneous', 'Miscellaneous', 'Miscellaneous', 'Miscellaneous', 'Miscellaneous', 'Miscellaneous', 'Miscellaneous', 'Miscellaneous', 'Miscellaneous', 'Miscellaneous', 'Miscellaneous', 'Miscellaneous', 'Miscellaneous', 'Miscellaneous', 'Miscellaneous', 'Miscellaneous', 'Miscellaneous', 'Miscellaneous', 'Miscellaneous', 'Miscellaneous', 'Miscellaneous', 'Miscellaneous', 'Miscellaneous', 'Miscellaneous', 'Miscellaneous', 'Miscellaneous', 'Miscellaneous', 'Miscellaneous', 'Miscellaneous', 'Miscellaneous', 'Miscellaneous', 'Miscellaneous', 'Miscellaneous', 'Miscellaneous', 'Miscellaneous', 'Miscellaneous', 'Miscellaneous', 'Miscellaneous', 'Miscellaneous', 'Miscellaneous', 'Miscellaneous', 'Miscellaneous', 'Miscellaneous', 'Miscellaneous', 'Miscellaneous', 'Miscellaneous', 'Miscellaneous', 'Miscellaneous', 'Miscellaneous', 'Miscellaneous', 'Miscellaneous', 'Miscellaneous', 'Miscellaneous', 'Miscellaneous', 'Miscellaneous', 'Miscellaneous', 'Miscellaneous', 'Miscellaneous', 'Miscellaneous', 'Miscellaneous', 'Miscellaneous', 'Miscellaneous', 'Miscellaneous', 'Miscellaneous', 'Miscellaneous', 'Miscellaneous', 'Miscellaneous', 'Miscellaneous', 'Miscellaneous', 'Miscellaneous', 'Miscellaneous', 'Miscellaneous', 'Miscellaneous', 'Miscellaneous', 'Miscellaneous', 'Miscellaneous', 'Miscellaneous', 'Miscellaneous', 'Miscellaneous', 'Miscellaneous', 'Miscellaneous', 'Miscellaneous', 'Miscellaneous', 'Miscellaneous', 'Miscellaneous', 'Miscellaneous', 'Miscellaneous', 'Miscellaneous', 'Miscellaneous', 'Miscellaneous', 'Miscellaneous', 'Miscellaneous', 'Miscellaneous', 'Miscellaneous', 'Miscellaneous', 'Miscellaneous', 'Miscellaneous', 'Miscellaneous', 'Miscellaneous', 'Miscellaneous', 'Miscellaneous', 'Miscellaneous', 'Miscellaneous', 'Miscellaneous', 'Miscellaneous', 'Miscellaneous', 'Miscellaneous', 'Miscellaneous', 'Miscellaneous', 'Miscellaneous', 'Miscellaneous', 'Miscellaneous', 'Miscellaneous', 'Miscellaneous', 'Miscellaneous', 'Miscellaneous', 'Miscellaneous', 'Miscellaneous', 'Miscellaneous', 'Miscellaneous', 'Miscellaneous', 'Miscellaneous', 'Miscellaneous', 'Miscellaneous', 'Miscellaneous', 'Miscellaneous', 'Miscellaneous', 'Miscellaneous', 'Miscellaneous', 'Miscellaneous', 'Miscellaneous', 'Miscellaneous', 'Miscellaneous', 'Miscellaneous', 'Miscellaneous', 'Miscellaneous', 'Miscellaneous', 'Miscellaneous', 'Miscellaneous', 'Miscellaneous', 'Miscellaneous', 'Miscellaneous', 'Miscellaneous', 'Miscellaneous', 'Miscellaneous', 'Miscellaneous', 'Miscellaneous', 'Miscellaneous', 'Miscellaneous', 'Miscellaneous', 'Miscellaneous', 'Miscellaneous', 'Miscellaneous', 'Miscellaneous', 'Miscellaneous', 'Miscellaneous', 'Miscellaneous', 'Miscellaneous', 'Miscellaneous', 'Miscellaneous', 'Miscellaneous', 'Miscellaneous', 'Miscellaneous', 'Miscellaneous', 'Miscellaneous', 'Miscellaneous', 'Miscellaneous', 'Miscellaneous', 'Miscellaneous', 'Miscellaneous', 'Miscellaneous', 'Miscellaneous', 'Miscellaneous', 'Miscellaneous', 'Miscellaneous', 'Miscellaneous', 'Miscellaneous', 'Miscellaneous', 'Miscellaneous', 'Miscellaneous', 'Miscellaneous', 'Miscellaneous', 'Miscellaneous', 'Miscellaneous', 'Miscellaneous', 'Miscellaneous', 'Miscellaneous', 'Miscellaneous', 'Miscellaneous', 'Miscellaneous', 'Miscellaneous', 'Miscellaneous', 'Miscellaneous', 'Miscellaneous', 'Miscellaneous', 'Miscellaneous', 'Miscellaneous', 'Miscellaneous', 'Miscellaneous', 'Miscellaneous', 'Miscellaneous', 'Miscellaneous', 'Miscellaneous', 'Miscellaneous', 'Miscellaneous', 'Miscellaneous', 'Miscellaneous', 'Miscellaneous', 'Miscellaneous', 'Miscellaneous', 'Miscellaneous', 'Miscellaneous', 'Miscellaneous', 'Miscellaneous', 'Miscellaneous', 'Miscellaneous', 'Miscellaneous', 'Miscellaneous', 'Miscellaneous', 'Miscellaneous', 'Miscellaneous', 'Miscellaneous', 'Miscellaneous', 'Miscellaneous', 'Miscellaneous', 'Miscellaneous', 'Miscellaneous', 'Miscellaneous', 'Miscellaneous', 'Miscellaneous', 'Miscellaneous', 'Miscellaneous', 'Miscellaneous', 'Miscellaneous', 'Miscellaneous', 'Miscellaneous', 'Miscellaneous', 'Miscellaneous', 'Miscellaneous', 'Miscellaneous', 'Miscellaneous', 'Miscellaneous', 'Miscellaneous', 'Miscellaneous', 'Miscellaneous', 'Miscellaneous', 'Miscellaneous', 'Miscellaneous', 'Miscellaneous', 'Miscellaneous', 'Miscellaneous', 'Miscellaneous', 'Miscellaneous', 'Miscellaneous', 'Miscellaneous', 'Miscellaneous', 'Miscellaneous', 'Miscellaneous', 'Miscellaneous', 'Miscellaneous', 'Miscellaneous', 'Miscellaneous', 'Miscellaneous', 'Miscellaneous', 'Miscellaneous', 'Miscellaneous', 'Miscellaneous', 'Miscellaneous', 'Miscellaneous', 'Miscellaneous', 'Miscellaneous', 'Miscellaneous', 'Miscellaneous', 'Miscellaneous', 'Miscellaneous', 'Miscellaneous', 'Miscellaneous', 'Miscellaneous', 'Miscellaneous', 'Miscellaneous', 'Miscellaneous', 'Miscellaneous', 'Miscellaneous', 'Miscellaneous', 'Miscellaneous', 'Miscellaneous', 'Miscellaneous', 'Miscellaneous', 'Miscellaneous', 'Miscellaneous', 'Miscellaneous', 'Miscellaneous', 'Miscellaneous', 'Miscellaneous', 'Miscellaneous', 'Miscellaneous', 'Miscellaneous', 'Miscellaneous', 'Miscellaneous', 'Miscellaneous', 'Miscellaneous', 'Miscellaneous', 'Miscellaneous', 'Miscellaneous', 'Miscellaneous', 'Miscellaneous', 'Miscellaneous', 'Miscellaneous', 'Miscellaneous', 'Miscellaneous', 'Miscellaneous', 'Miscellaneous', 'Miscellaneous', 'Miscellaneous', 'Miscellaneous', 'Miscellaneous', 'Miscellaneous', 'Miscellaneous', 'Miscellaneous', 'Miscellaneous', 'Miscellaneous', 'Miscellaneous', 'Miscellaneous', 'Miscellaneous', 'Miscellaneous', 'Miscellaneous', 'Miscellaneous', 'Miscellaneous', 'Miscellaneous', 'Miscellaneous', 'Miscellaneous', 'Miscellaneous', 'Miscellaneous', 'Miscellaneous', 'Miscellaneous', 'Miscellaneous', 'Miscellaneous', 'Miscellaneous', 'Miscellaneous', 'Miscellaneous', 'Miscellaneous', 'Miscellaneous', 'Miscellaneous', 'Miscellaneous', 'Miscellaneous', 'Miscellaneous', 'Miscellaneous', 'Miscellaneous', 'Miscellaneous', 'Miscellaneous', 'Miscellaneous', 'Miscellaneous', 'Miscellaneous', 'Miscellaneous', 'Miscellaneous', 'Miscellaneous', 'Miscellaneous', 'Miscellaneous', 'Miscellaneous', 'Miscellaneous', 'Miscellaneous', 'Miscellaneous', 'Miscellaneous', 'Miscellaneous', 'Miscellaneous', 'Miscellaneous', 'Miscellaneous', 'Miscellaneous', 'Miscellaneous', 'Miscellaneous', 'Miscellaneous', 'Miscellaneous', 'Miscellaneous', 'Miscellaneous', 'Miscellaneous', 'Miscellaneous', 'Miscellaneous', 'Miscellaneous', 'Miscellaneous', 'Miscellaneous', 'Miscellaneous', 'Miscellaneous', 'Miscellaneous', 'Miscellaneous', 'Miscellaneous', 'Miscellaneous', 'Miscellaneous', 'Miscellaneous', 'Miscellaneous', 'Miscellaneous', 'Miscellaneous', 'Miscellaneous', 'Miscellaneous', 'Miscellaneous', 'Miscellaneous', 'Miscellaneous', 'Miscellaneous', 'Miscellaneous', 'Miscellaneous', 'Miscellaneous', 'Miscellaneous', 'Miscellaneous', 'Miscellaneous', 'Miscellaneous', 'Miscellaneous', 'Miscellaneous', 'Miscellaneous', 'Miscellaneous', 'Miscellaneous', 'Miscellaneous', 'Miscellaneous', 'Miscellaneous', 'Miscellaneous', 'Miscellaneous', 'Miscellaneous', 'Miscellaneous', 'Miscellaneous', 'Miscellaneous', 'Miscellaneous', 'Miscellaneous', 'Miscellaneous', 'Miscellaneous', 'Miscellaneous', 'Miscellaneous', 'Miscellaneous', 'Miscellaneous', 'Miscellaneous', 'Miscellaneous', 'Miscellaneous', 'Miscellaneous', 'Miscellaneous', 'Miscellaneous', 'Miscellaneous', 'Miscellaneous', 'Miscellaneous', 'Miscellaneous', 'Miscellaneous', 'Miscellaneous', 'Miscellaneous', 'Miscellaneous', 'Miscellaneous', 'Miscellaneous', 'Miscellaneous', 'Miscellaneous', 'Miscellaneous', 'Miscellaneous', 'Miscellaneous', 'Miscellaneous', 'Miscellaneous', 'Miscellaneous', 'Miscellaneous', 'Miscellaneous', 'Miscellaneous', 'Miscellaneous', 'Miscellaneous', 'Miscellaneous', 'Miscellaneous', 'Miscellaneous', 'Miscellaneous', 'Miscellaneous', 'Miscellaneous', 'Miscellaneous', 'Miscellaneous', 'Miscellaneous', 'Miscellaneous', 'Miscellaneous', 'Miscellaneous', 'Miscellaneous', 'Miscellaneous', 'Miscellaneous', 'Miscellaneous', 'Miscellaneous', 'Miscellaneous', 'Miscellaneous', 'Miscellaneous', 'Miscellaneous', 'Miscellaneous', 'Miscellaneous', 'Miscellaneous', 'Miscellaneous', 'Miscellaneous', 'Miscellaneous', 'Miscellaneous', 'Miscellaneous', 'Miscellaneous', 'Miscellaneous', 'Miscellaneous', 'Miscellaneous', 'Miscellaneous', 'Miscellaneous', 'Miscellaneous', 'Miscellaneous', 'Miscellaneous', 'Miscellaneous', 'Miscellaneous', 'Miscellaneous', 'Miscellaneous', 'Miscellaneous', 'Miscellaneous', 'Miscellaneous', 'Miscellaneous', 'Miscellaneous', 'Miscellaneous', 'Miscellaneous', 'Miscellaneous', 'Miscellaneous', 'Miscellaneous', 'Miscellaneous', 'Miscellaneous', 'Miscellaneous', 'Miscellaneous', 'Miscellaneous', 'Miscellaneous', 'Miscellaneous', 'Miscellaneous', 'Miscellaneous', 'Miscellaneous', 'Miscellaneous', 'Miscellaneous', 'Miscellaneous', 'Miscellaneous', 'Miscellaneous', 'Miscellaneous', 'Miscellaneous', 'Miscellaneous', 'Miscellaneous', 'Miscellaneous', 'Miscellaneous', 'Miscellaneous', 'Miscellaneous', 'Miscellaneous', 'Miscellaneous', 'Miscellaneous', 'Miscellaneous', 'Miscellaneous', 'Miscellaneous', 'Miscellaneous', 'Miscellaneous', 'Miscellaneous', 'Miscellaneous', 'Miscellaneous', 'Miscellaneous', 'Miscellaneous', 'Miscellaneous', 'Miscellaneous', 'Miscellaneous', 'Miscellaneous', 'Miscellaneous', 'Miscellaneous', 'Miscellaneous', 'Miscellaneous', 'Miscellaneous', 'Miscellaneous', 'Miscellaneous', 'Miscellaneous', 'Miscellaneous', 'Miscellaneous', 'Miscellaneous', 'Miscellaneous', 'Miscellaneous', 'Miscellaneous', 'Miscellaneous', 'Miscellaneous', 'Miscellaneous', 'Miscellaneous', 'Miscellaneous', 'Miscellaneous', 'Miscellaneous', 'Miscellaneous', 'Miscellaneous', 'Miscellaneous', 'Miscellaneous', 'Miscellaneous', 'Miscellaneous', 'Miscellaneous', 'Miscellaneous', 'Miscellaneous', 'Miscellaneous', 'Miscellaneous', 'Miscellaneous', 'Miscellaneous', 'Miscellaneous', 'Miscellaneous', 'Miscellaneous', 'Miscellaneous', 'Miscellaneous', 'Miscellaneous', 'Miscellaneous', 'Miscellaneous', 'Miscellaneous', 'Miscellaneous', 'Miscellaneous', 'Miscellaneous', 'Miscellaneous', 'Miscellaneous', 'Miscellaneous', 'Miscellaneous', 'Miscellaneous', 'Miscellaneous', 'Miscellaneous', 'Miscellaneous', 'Miscellaneous', 'Miscellaneous', 'Miscellaneous', 'Miscellaneous', 'Miscellaneous', 'Miscellaneous', 'Miscellaneous', 'Miscellaneous', 'Miscellaneous', 'Miscellaneous', 'Miscellaneous', 'Miscellaneous', 'Miscellaneous', 'Miscellaneous', 'Miscellaneous', 'Miscellaneous', 'Miscellaneous', 'Miscellaneous', 'Miscellaneous', 'Miscellaneous', 'Miscellaneous', 'Miscellaneous', 'Miscellaneous', 'Miscellaneous', 'Miscellaneous', 'Miscellaneous', 'Miscellaneous', 'Miscellaneous', 'Miscellaneous', 'Miscellaneous', 'Miscellaneous', 'Miscellaneous', 'Miscellaneous', 'Miscellaneous', 'Miscellaneous', 'Miscellaneous', 'Miscellaneous', 'Miscellaneous', 'Miscellaneous', 'Miscellaneous', 'Miscellaneous', 'Miscellaneous', 'Miscellaneous', 'Miscellaneous', 'Miscellaneous', 'Miscellaneous', 'Miscellaneous', 'Miscellaneous', 'Miscellaneous', 'Miscellaneous', 'Miscellaneous', 'Miscellaneous', 'Miscellaneous', 'Miscellaneous', 'Miscellaneous', 'Miscellaneous', 'Miscellaneous', 'Miscellaneous', 'Miscellaneous', 'Miscellaneous', 'Miscellaneous', 'Miscellaneous', 'Miscellaneous', 'Miscellaneous', 'Miscellaneous', 'Miscellaneous', 'Miscellaneous', 'Miscellaneous', 'Miscellaneous', 'Miscellaneous', 'Miscellaneous', 'Miscellaneous', 'Miscellaneous', 'Miscellaneous', 'Miscellaneous', 'Miscellaneous', 'Miscellaneous', 'Miscellaneous', 'Miscellaneous', 'Miscellaneous', 'Miscellaneous', 'Miscellaneous', 'Miscellaneous', 'Miscellaneous', 'Miscellaneous', 'Miscellaneous', 'Miscellaneous', 'Miscellaneous', 'Miscellaneous', 'Miscellaneous', 'Miscellaneous', 'Miscellaneous', 'Miscellaneous', 'Miscellaneous', 'Miscellaneous', 'Miscellaneous', 'Miscellaneous', 'Miscellaneous', 'Miscellaneous', 'Miscellaneous', 'Miscellaneous', 'Miscellaneous', 'Miscellaneous', 'Miscellaneous', 'Miscellaneous', 'Miscellaneous', 'Miscellaneous', 'Miscellaneous', 'Miscellaneous', 'Miscellaneous', 'Miscellaneous', 'Miscellaneous', 'Miscellaneous', 'Miscellaneous', 'Miscellaneous', 'Miscellaneous', 'Miscellaneous', 'Miscellaneous', 'Miscellaneous', 'Miscellaneous', 'Miscellaneous', 'Miscellaneous', 'Miscellaneous', 'Miscellaneous', 'Miscellaneous', 'Miscellaneous', 'Miscellaneous', 'Miscellaneous', 'Miscellaneous', 'Miscellaneous', 'Miscellaneous', 'Miscellaneous', 'Miscellaneous', 'Miscellaneous', 'Miscellaneous', 'Miscellaneous', 'Miscellaneous', 'Miscellaneous', 'Miscellaneous', 'Miscellaneous', 'Miscellaneous', 'Miscellaneous', 'Miscellaneous', 'Miscellaneous', 'Miscellaneous', 'Miscellaneous', 'Miscellaneous', 'Miscellaneous', 'Miscellaneous', 'Miscellaneous', 'Miscellaneous', 'Miscellaneous', 'Miscellaneous', 'Miscellaneous', 'Miscellaneous', 'Miscellaneous', 'Miscellaneous', 'Miscellaneous', 'Miscellaneous', 'Miscellaneous', 'Miscellaneous', 'Miscellaneous', 'Miscellaneous', 'Miscellaneous', 'Miscellaneous', 'Miscellaneous', 'Miscellaneous', 'Miscellaneous', 'Miscellaneous', 'Miscellaneous', 'Miscellaneous', 'Miscellaneous', 'Miscellaneous', 'Miscellaneous', 'Miscellaneous', 'Miscellaneous', 'Miscellaneous', 'Miscellaneous', 'Miscellaneous', 'Miscellaneous', 'Miscellaneous', 'Miscellaneous', 'Miscellaneous', 'Miscellaneous', 'Miscellaneous', 'Miscellaneous', 'Miscellaneous', 'Miscellaneous', 'Miscellaneous', 'Miscellaneous', 'Miscellaneous', 'Miscellaneous', 'Miscellaneous', 'Miscellaneous', 'Miscellaneous', 'Miscellaneous', 'Miscellaneous', 'Miscellaneous', 'Miscellaneous', 'Miscellaneous', 'Miscellaneous', 'Miscellaneous', 'Miscellaneous', 'Miscellaneous', 'Miscellaneous', 'Miscellaneous', 'Miscellaneous', 'Miscellaneous', 'Miscellaneous', 'Miscellaneous', 'Miscellaneous', 'Miscellaneous', 'Miscellaneous', 'Miscellaneous', 'Miscellaneous', 'Miscellaneous', 'Miscellaneous', 'Miscellaneous', 'Miscellaneous', 'Miscellaneous', 'Miscellaneous', 'Miscellaneous', 'Miscellaneous', 'Miscellaneous', 'Miscellaneous', 'Miscellaneous', 'Miscellaneous', 'Miscellaneous', 'Miscellaneous', 'Miscellaneous', 'Miscellaneous', 'Miscellaneous', 'Miscellaneous', 'Miscellaneous', 'Miscellaneous', 'Miscellaneous', 'Miscellaneous', 'Miscellaneous', 'Miscellaneous', 'Miscellaneous', 'Miscellaneous', 'Miscellaneous', 'Miscellaneous', 'Miscellaneous', 'Miscellaneous', 'Miscellaneous', 'Miscellaneous', 'Miscellaneous', 'Miscellaneous', 'Miscellaneous', 'Miscellaneous', 'Miscellaneous', 'Miscellaneous', 'Miscellaneous', 'Miscellaneous', 'Miscellaneous', 'Miscellaneous', 'Miscellaneous', 'Miscellaneous', 'Miscellaneous', 'Miscellaneous', 'Miscellaneous', 'Miscellaneous', 'Miscellaneous', 'Miscellaneous', 'Miscellaneous', 'Miscellaneous', 'Miscellaneous', 'Miscellaneous', 'Miscellaneous', 'Miscellaneous', 'Miscellaneous', 'Miscellaneous', 'Miscellaneous', 'Miscellaneous', 'Miscellaneous', 'Miscellaneous', 'Miscellaneous', 'Miscellaneous', 'Miscellaneous', 'Miscellaneous', 'Miscellaneous', 'Miscellaneous', 'Miscellaneous', 'Miscellaneous', 'Miscellaneous', 'Miscellaneous', 'Miscellaneous', 'Miscellaneous', 'Miscellaneous', 'Miscellaneous', 'Miscellaneous', 'Miscellaneous', 'Miscellaneous', 'Miscellaneous', 'Miscellaneous', 'Miscellaneous', 'Miscellaneous', 'Miscellaneous', 'Miscellaneous', 'Miscellaneous', 'Miscellaneous', 'Miscellaneous', 'Miscellaneous', 'Miscellaneous', 'Miscellaneous', 'Miscellaneous', 'Miscellaneous', 'Miscellaneous', 'Miscellaneous', 'Miscellaneous', 'Miscellaneous', 'Miscellaneous', 'Miscellaneous', 'Miscellaneous', 'Miscellaneous', 'Miscellaneous', 'Miscellaneous', 'Miscellaneous', 'Miscellaneous', 'Miscellaneous', 'Miscellaneous', 'Miscellaneous', 'Miscellaneous', 'Miscellaneous', 'Miscellaneous', 'Miscellaneous', 'Miscellaneous', 'Miscellaneous', 'Miscellaneous', 'Miscellaneous', 'Miscellaneous', 'Miscellaneous', 'Miscellaneous', 'Miscellaneous', 'Miscellaneous', 'Miscellaneous', 'Miscellaneous', 'Miscellaneous', 'Miscellaneous', 'Miscellaneous', 'Miscellaneous', 'Miscellaneous', 'Miscellaneous', 'Miscellaneous', 'Miscellaneous', 'Miscellaneous', 'Miscellaneous', 'Miscellaneous', 'Miscellaneous', 'Miscellaneous', 'Miscellaneous', 'Miscellaneous', 'Miscellaneous', 'Miscellaneous', 'Miscellaneous', 'Miscellaneous', 'Miscellaneous', 'Miscellaneous', 'Miscellaneous', 'Miscellaneous', 'Miscellaneous', 'Miscellaneous', 'Miscellaneous', 'Miscellaneous', 'Miscellaneous', 'Miscellaneous', 'Miscellaneous', 'Miscellaneous', 'Miscellaneous', 'Miscellaneous', 'Miscellaneous', 'Miscellaneous', 'Miscellaneous', 'Miscellaneous', 'Miscellaneous', 'Miscellaneous', 'Miscellaneous', 'Miscellaneous', 'Miscellaneous', 'Miscellaneous', 'Miscellaneous', 'Miscellaneous', 'Miscellaneous', 'Miscellaneous', 'Miscellaneous', 'Miscellaneous', 'Miscellaneous', 'Miscellaneous', 'Miscellaneous', 'Miscellaneous', 'Miscellaneous', 'Miscellaneous', 'Miscellaneous', 'Miscellaneous', 'Miscellaneous', 'Miscellaneous', 'Miscellaneous', 'Miscellaneous', 'Miscellaneous', 'Miscellaneous', 'Miscellaneous', 'Miscellaneous', 'Miscellaneous', 'Miscellaneous', 'Miscellaneous', 'Miscellaneous', 'Miscellaneous', 'Miscellaneous', 'Miscellaneous', 'Miscellaneous', 'Miscellaneous', 'Miscellaneous', 'Miscellaneous', 'Miscellaneous', 'Miscellaneous', 'Miscellaneous', 'Miscellaneous', 'Miscellaneous', 'Miscellaneous', 'Miscellaneous', 'Miscellaneous', 'Miscellaneous', 'Miscellaneous', 'Miscellaneous', 'Miscellaneous', 'Christmas_Tree', 'Christmas_Tree', 'Christmas_Tree', 'Christmas_Tree', 'Christmas_Tree', 'Christmas_Tree', 'Christmas_Tree', 'Christmas_Tree', 'Christmas_Tree', 'Christmas_Tree', 'Christmas_Tree', 'Christmas_Tree', 'Christmas_Tree', 'Christmas_Tree', 'Christmas_Tree', 'Christmas_Tree', 'Christmas_Tree', 'Christmas_Tree', 'Christmas_Tree', 'Christmas_Tree', 'Christmas_Tree', 'Christmas_Tree', 'Christmas_Tree', 'Christmas_Tree', 'Christmas_Tree', 'Christmas_Tree', 'Christmas_Tree', 'Christmas_Tree', 'Christmas_Tree', 'Christmas_Tree', 'Christmas_Tree', 'Christmas_Tree', 'Christmas_Tree', 'Christmas_Tree', 'Christmas_Tree', 'Christmas_Tree', 'Christmas_Tree', 'Christmas_Tree', 'Christmas_Tree', 'Christmas_Tree', 'Christmas_Tree', 'Christmas_Tree', 'Christmas_Tree', 'Christmas_Tree', 'Christmas_Tree', 'Christmas_Tree', 'Christmas_Tree', 'Christmas_Tree', 'Christmas_Tree', 'Christmas_Tree', 'Christmas_Tree', 'Christmas_Tree', 'Christmas_Tree', 'Christmas_Tree', 'Christmas_Tree', 'Christmas_Tree', 'Christmas_Tree', 'Christmas_Tree', 'Christmas_Tree', 'Christmas_Tree', 'Christmas_Tree', 'Christmas_Tree', 'Christmas_Tree', 'Christmas_Tree', 'Christmas_Tree', 'Christmas_Tree', 'Christmas_Tree', 'Christmas_Tree', 'Christmas_Tree', 'Christmas_Tree', 'Christmas_Tree', 'Christmas_Tree', 'Christmas_Tree', 'Christmas_Tree', 'Christmas_Tree', 'Christmas_Tree', 'Christmas_Tree', 'Christmas_Tree', 'Christmas_Tree', 'Christmas_Tree', 'Christmas_Tree', 'Christmas_Tree', 'Christmas_Tree', 'Christmas_Tree', 'Christmas_Tree', 'Christmas_Tree', 'Christmas_Tree', 'Christmas_Tree', 'Christmas_Tree', 'Christmas_Tree', 'Christmas_Tree', 'Christmas_Tree', 'Christmas_Tree', 'Christmas_Tree', 'Christmas_Tree', 'Christmas_Tree', 'Christmas_Tree', 'Christmas_Tree', 'Christmas_Tree', 'Christmas_Tree', 'Christmas_Tree', 'Christmas_Tree', 'Christmas_Tree', 'Christmas_Tree', 'Christmas_Tree', 'Christmas_Tree', 'Christmas_Tree', 'Christmas_Tree', 'Christmas_Tree', 'Christmas_Tree', 'Christmas_Tree', 'Christmas_Tree', 'Christmas_Tree', 'Christmas_Tree', 'Christmas_Tree', 'Christmas_Tree', 'Christmas_Tree', 'Christmas_Tree', 'Christmas_Tree', 'Christmas_Tree', 'Christmas_Tree', 'Christmas_Tree', 'Christmas_Tree', 'Christmas_Tree', 'Christmas_Tree', 'Christmas_Tree', 'Christmas_Tree', 'Christmas_Tree', 'Christmas_Tree', 'Christmas_Tree', 'Christmas_Tree', 'Christmas_Tree', 'Christmas_Tree', 'Christmas_Tree', 'Christmas_Tree', 'Christmas_Tree', 'Christmas_Tree', 'Christmas_Tree', 'Christmas_Tree', 'Christmas_Tree', 'Christmas_Tree', 'Christmas_Tree', 'Christmas_Tree', 'Christmas_Tree', 'Christmas_Tree', 'Christmas_Tree', 'Christmas_Tree', 'Christmas_Tree', 'Christmas_Tree', 'Christmas_Tree', 'Christmas_Tree', 'Christmas_Tree', 'Christmas_Tree', 'Christmas_Tree', 'Christmas_Tree', 'Christmas_Tree', 'Christmas_Tree', 'Christmas_Tree', 'Christmas_Tree', 'Christmas_Tree', 'Christmas_Tree', 'Christmas_Tree', 'Christmas_Tree', 'Christmas_Tree', 'Christmas_Tree', 'Christmas_Tree', 'Christmas_Tree', 'Christmas_Tree', 'Christmas_Tree', 'Christmas_Tree', 'Christmas_Tree', 'Christmas_Tree', 'Christmas_Tree', 'Christmas_Tree', 'Christmas_Tree', 'Christmas_Tree', 'Christmas_Tree', 'Christmas_Tree', 'Christmas_Tree', 'Christmas_Tree', 'Christmas_Tree', 'Christmas_Tree', 'Christmas_Tree', 'Christmas_Tree', 'Christmas_Tree', 'Christmas_Tree', 'Christmas_Tree', 'Christmas_Tree', 'Christmas_Tree', 'Christmas_Tree', 'Christmas_Tree', 'Christmas_Tree', 'Christmas_Tree', 'Christmas_Tree', 'Christmas_Tree', 'Christmas_Tree', 'Christmas_Tree', 'Christmas_Tree', 'Christmas_Tree', 'Christmas_Tree', 'Christmas_Tree', 'Christmas_Tree', 'Christmas_Tree', 'Christmas_Tree', 'Christmas_Tree', 'Christmas_Tree', 'Christmas_Tree', 'Christmas_Tree', 'Christmas_Tree', 'Christmas_Tree', 'Christmas_Tree', 'Christmas_Tree', 'Christmas_Tree', 'Christmas_Tree', 'Christmas_Tree', 'Christmas_Tree', 'Christmas_Tree', 'Christmas_Tree', 'Christmas_Tree', 'Christmas_Tree', 'Christmas_Tree', 'Christmas_Tree', 'Christmas_Tree', 'Christmas_Tree', 'Christmas_Tree', 'Christmas_Tree', 'Christmas_Tree', 'Christmas_Tree', 'Christmas_Tree', 'Christmas_Tree', 'Christmas_Tree', 'Christmas_Tree', 'Christmas_Tree', 'Christmas_Tree', 'Christmas_Tree', 'Christmas_Tree', 'Christmas_Tree', 'Christmas_Tree', 'Christmas_Tree', 'Christmas_Tree', 'Christmas_Tree', 'Christmas_Tree', 'Christmas_Tree', 'Christmas_Tree', 'Christmas_Tree', 'Christmas_Tree', 'Christmas_Tree', 'Christmas_Tree', 'Christmas_Tree', 'Christmas_Tree', 'Christmas_Tree', 'Christmas_Tree', 'Christmas_Tree', 'Christmas_Tree', 'Christmas_Tree', 'Christmas_Tree', 'Christmas_Tree', 'Christmas_Tree', 'Christmas_Tree', 'Christmas_Tree', 'Christmas_Tree', 'Christmas_Tree', 'Christmas_Tree', 'Christmas_Tree', 'Christmas_Tree', 'Christmas_Tree', 'Christmas_Tree', 'Christmas_Tree', 'Christmas_Tree', 'Christmas_Tree', 'Christmas_Tree', 'Christmas_Tree', 'Christmas_Tree', 'Christmas_Tree', 'Christmas_Tree', 'Christmas_Tree', 'Christmas_Tree', 'Christmas_Tree', 'Christmas_Tree', 'Christmas_Tree', 'Christmas_Tree', 'Christmas_Tree', 'Christmas_Tree', 'Christmas_Tree', 'Christmas_Tree', 'Christmas_Tree', 'Christmas_Tree', 'Christmas_Tree', 'Christmas_Tree', 'Christmas_Tree', 'Christmas_Tree', 'Christmas_Tree', 'Christmas_Tree', 'Christmas_Tree', 'Christmas_Tree', 'Christmas_Tree', 'Christmas_Tree', 'Christmas_Tree', 'Christmas_Tree', 'Christmas_Tree', 'Christmas_Tree', 'Christmas_Tree', 'Christmas_Tree', 'Christmas_Tree', 'Christmas_Tree', 'Christmas_Tree', 'Christmas_Tree', 'Christmas_Tree', 'Christmas_Tree', 'Christmas_Tree', 'Christmas_Tree', 'Christmas_Tree', 'Christmas_Tree', 'Christmas_Tree', 'Christmas_Tree', 'Christmas_Tree', 'Christmas_Tree', 'Christmas_Tree', 'Christmas_Tree', 'Christmas_Tree', 'Christmas_Tree', 'Christmas_Tree', 'Christmas_Tree', 'Christmas_Tree', 'Christmas_Tree', 'Christmas_Tree', 'Christmas_Tree', 'Christmas_Tree', 'Christmas_Tree', 'Christmas_Tree', 'Christmas_Tree', 'Christmas_Tree', 'Christmas_Tree', 'Christmas_Tree', 'Christmas_Tree', 'Christmas_Tree', 'Christmas_Tree', 'Christmas_Tree', 'Christmas_Tree', 'Christmas_Tree', 'Christmas_Tree', 'Christmas_Tree', 'Christmas_Tree', 'Christmas_Tree', 'Christmas_Tree', 'Miscellaneous', 'Miscellaneous', 'Miscellaneous', 'Miscellaneous', 'Miscellaneous', 'Miscellaneous', 'Miscellaneous', 'Miscellaneous', 'Miscellaneous', 'Miscellaneous', 'Miscellaneous', 'Miscellaneous', 'Miscellaneous', 'Miscellaneous', 'Miscellaneous', 'Miscellaneous', 'Miscellaneous', 'Miscellaneous', 'Miscellaneous', 'Miscellaneous', 'Miscellaneous', 'Miscellaneous', 'Miscellaneous', 'Miscellaneous', 'Miscellaneous', 'Miscellaneous', 'Miscellaneous', 'Miscellaneous', 'Miscellaneous', 'Miscellaneous', 'Miscellaneous', 'Miscellaneous', 'Miscellaneous', 'Miscellaneous', 'Miscellaneous', 'Miscellaneous', 'Miscellaneous', 'Miscellaneous', 'Miscellaneous', 'Miscellaneous', 'Miscellaneous', 'Miscellaneous', 'Miscellaneous', 'Miscellaneous', 'Miscellaneous', 'Miscellaneous', 'Miscellaneous', 'Miscellaneous', 'Miscellaneous', 'Miscellaneous', 'Miscellaneous', 'Miscellaneous', 'Miscellaneous', 'Miscellaneous', 'Miscellaneous', 'Miscellaneous', 'Miscellaneous', 'Miscellaneous', 'Miscellaneous', 'Miscellaneous', 'Miscellaneous', 'Miscellaneous', 'Miscellaneous', 'Miscellaneous', 'Miscellaneous', 'Miscellaneous', 'Miscellaneous', 'Miscellaneous', 'Miscellaneous', 'Miscellaneous', 'Miscellaneous', 'Miscellaneous', 'Miscellaneous', 'Miscellaneous', 'Miscellaneous', 'Miscellaneous', 'Miscellaneous', 'Miscellaneous', 'Miscellaneous', 'Miscellaneous', 'Miscellaneous', 'Miscellaneous', 'Miscellaneous', 'Miscellaneous', 'Miscellaneous', 'Miscellaneous', 'Miscellaneous', 'Miscellaneous', 'Miscellaneous', 'Miscellaneous', 'Miscellaneous', 'Miscellaneous', 'Miscellaneous', 'Miscellaneous', 'Miscellaneous', 'Miscellaneous', 'Miscellaneous', 'Miscellaneous', 'Miscellaneous', 'Miscellaneous', 'Miscellaneous', 'Miscellaneous', 'Miscellaneous', 'Miscellaneous', 'Miscellaneous', 'Miscellaneous', 'Miscellaneous', 'Miscellaneous', 'Miscellaneous', 'Miscellaneous', 'Miscellaneous', 'Miscellaneous', 'Miscellaneous', 'Miscellaneous', 'Miscellaneous', 'Miscellaneous', 'Miscellaneous', 'Miscellaneous', 'Miscellaneous', 'Miscellaneous', 'Miscellaneous', 'Miscellaneous', 'Miscellaneous', 'Miscellaneous', 'Miscellaneous', 'Miscellaneous', 'Miscellaneous', 'Miscellaneous', 'Miscellaneous', 'Miscellaneous', 'Miscellaneous', 'Miscellaneous', 'Miscellaneous', 'Miscellaneous', 'Miscellaneous', 'Miscellaneous', 'Miscellaneous', 'Miscellaneous', 'Miscellaneous', 'Miscellaneous', 'Miscellaneous', 'Miscellaneous', 'Miscellaneous', 'Miscellaneous', 'Miscellaneous', 'Miscellaneous', 'Miscellaneous', 'Miscellaneous', 'Miscellaneous', 'Miscellaneous', 'Miscellaneous', 'Miscellaneous', 'Miscellaneous', 'Miscellaneous', 'Miscellaneous', 'Miscellaneous', 'Miscellaneous', 'Miscellaneous', 'Miscellaneous', 'Miscellaneous', 'Miscellaneous', 'Miscellaneous', 'Miscellaneous', 'Miscellaneous', 'Miscellaneous', 'Miscellaneous', 'Miscellaneous', 'Miscellaneous', 'Miscellaneous', 'Miscellaneous', 'Miscellaneous', 'Miscellaneous', 'Miscellaneous', 'Miscellaneous', 'Miscellaneous', 'Miscellaneous', 'Miscellaneous', 'Miscellaneous', 'Miscellaneous', 'Miscellaneous', 'Miscellaneous', 'Miscellaneous', 'Miscellaneous', 'Miscellaneous', 'Miscellaneous', 'Miscellaneous', 'Miscellaneous', 'Miscellaneous', 'Miscellaneous', 'Miscellaneous', 'Miscellaneous', 'Miscellaneous', 'Miscellaneous', 'Miscellaneous', 'Miscellaneous', 'Miscellaneous', 'Miscellaneous', 'Miscellaneous', 'Miscellaneous', 'Miscellaneous', 'Miscellaneous', 'Miscellaneous', 'Miscellaneous', 'Miscellaneous', 'Miscellaneous', 'Miscellaneous', 'Miscellaneous', 'Miscellaneous', 'Miscellaneous', 'Miscellaneous', 'Miscellaneous', 'Miscellaneous', 'Miscellaneous', 'Miscellaneous', 'Miscellaneous', 'Miscellaneous', 'Miscellaneous', 'Miscellaneous', 'Miscellaneous', 'Miscellaneous', 'Miscellaneous', 'Miscellaneous', 'Miscellaneous', 'Miscellaneous', 'Miscellaneous', 'Miscellaneous', 'Miscellaneous', 'Miscellaneous', 'Miscellaneous', 'Miscellaneous', 'Miscellaneous', 'Miscellaneous', 'Miscellaneous', 'Miscellaneous', 'Miscellaneous', 'Miscellaneous', 'Miscellaneous', 'Miscellaneous', 'Miscellaneous', 'Miscellaneous', 'Miscellaneous', 'Miscellaneous', 'Miscellaneous', 'Miscellaneous', 'Miscellaneous', 'Miscellaneous', 'Miscellaneous', 'Miscellaneous', 'Miscellaneous', 'Miscellaneous', 'Miscellaneous', 'Miscellaneous', 'Miscellaneous', 'Miscellaneous', 'Miscellaneous', 'Miscellaneous', 'Miscellaneous', 'Miscellaneous', 'Miscellaneous', 'Miscellaneous', 'Miscellaneous', 'Miscellaneous', 'Miscellaneous', 'Miscellaneous', 'Miscellaneous', 'Miscellaneous', 'Miscellaneous', 'Miscellaneous', 'Miscellaneous', 'Miscellaneous', 'Miscellaneous', 'Miscellaneous', 'Miscellaneous', 'Miscellaneous', 'Miscellaneous', 'Miscellaneous', 'Miscellaneous', 'Miscellaneous', 'Miscellaneous', 'Miscellaneous', 'Miscellaneous', 'Miscellaneous', 'Miscellaneous', 'Miscellaneous', 'Miscellaneous', 'Miscellaneous', 'Miscellaneous', 'Miscellaneous', 'Miscellaneous', 'Miscellaneous', 'Miscellaneous', 'Miscellaneous', 'Miscellaneous', 'Miscellaneous', 'Miscellaneous', 'Miscellaneous', 'Miscellaneous', 'Miscellaneous', 'Miscellaneous', 'Miscellaneous', 'Miscellaneous', 'Miscellaneous', 'Miscellaneous', 'Miscellaneous', 'Miscellaneous', 'Miscellaneous', 'Miscellaneous', 'Miscellaneous', 'Miscellaneous', 'Miscellaneous', 'Miscellaneous', 'Miscellaneous', 'Miscellaneous', 'Miscellaneous', 'Miscellaneous', 'Miscellaneous', 'Miscellaneous', 'Miscellaneous', 'Miscellaneous', 'Miscellaneous', 'Miscellaneous', 'Miscellaneous', 'Miscellaneous', 'Miscellaneous', 'Miscellaneous', 'Miscellaneous', 'Miscellaneous', 'Miscellaneous', 'Miscellaneous', 'Miscellaneous', 'Miscellaneous', 'Miscellaneous', 'Miscellaneous', 'Miscellaneous', 'Miscellaneous', 'Miscellaneous', 'Miscellaneous', 'Miscellaneous', 'Miscellaneous', 'Miscellaneous', 'Miscellaneous', 'Miscellaneous', 'Miscellaneous', 'Miscellaneous', 'Miscellaneous', 'Miscellaneous', 'Miscellaneous', 'Miscellaneous', 'Miscellaneous', 'Miscellaneous', 'Miscellaneous', 'Miscellaneous', 'Miscellaneous', 'Miscellaneous', 'Miscellaneous', 'Miscellaneous', 'Miscellaneous', 'Miscellaneous', 'Miscellaneous', 'Miscellaneous', 'Miscellaneous', 'Miscellaneous', 'Miscellaneous', 'Miscellaneous', 'Miscellaneous', 'Miscellaneous', 'Miscellaneous', 'Miscellaneous', 'Miscellaneous', 'Miscellaneous', 'Miscellaneous', 'Miscellaneous', 'Miscellaneous', 'Miscellaneous', 'Miscellaneous', 'Miscellaneous', 'Miscellaneous', 'Miscellaneous', 'Miscellaneous', 'Miscellaneous', 'Miscellaneous', 'Miscellaneous', 'Miscellaneous', 'Miscellaneous', 'Miscellaneous', 'Miscellaneous', 'Miscellaneous', 'Miscellaneous', 'Miscellaneous', 'Miscellaneous', 'Miscellaneous', 'Miscellaneous', 'Miscellaneous', 'Miscellaneous', 'Miscellaneous', 'Miscellaneous', 'Miscellaneous', 'Miscellaneous', 'Miscellaneous', 'Miscellaneous', 'Miscellaneous', 'Miscellaneous', 'Miscellaneous', 'Miscellaneous', 'Miscellaneous', 'Miscellaneous', 'Miscellaneous', 'Miscellaneous', 'Miscellaneous', 'Miscellaneous', 'Miscellaneous', 'Miscellaneous', 'Miscellaneous', 'Miscellaneous', 'Miscellaneous', 'Miscellaneous', 'Miscellaneous', 'Miscellaneous', 'Miscellaneous', 'Miscellaneous', 'Miscellaneous', 'Miscellaneous', 'Miscellaneous', 'Miscellaneous', 'Miscellaneous', 'Miscellaneous', 'Miscellaneous', 'Miscellaneous', 'Miscellaneous', 'Miscellaneous', 'Miscellaneous', 'Miscellaneous', 'Miscellaneous', 'Miscellaneous', 'Miscellaneous', 'Miscellaneous', 'Miscellaneous', 'Miscellaneous', 'Miscellaneous', 'Miscellaneous', 'Miscellaneous', 'Miscellaneous', 'Miscellaneous', 'Miscellaneous', 'Miscellaneous', 'Miscellaneous', 'Miscellaneous', 'Miscellaneous', 'Miscellaneous', 'Miscellaneous', 'Miscellaneous', 'Miscellaneous', 'Miscellaneous', 'Miscellaneous', 'Miscellaneous', 'Miscellaneous', 'Miscellaneous', 'Miscellaneous', 'Miscellaneous', 'Miscellaneous', 'Miscellaneous', 'Miscellaneous', 'Miscellaneous', 'Miscellaneous', 'Miscellaneous', 'Miscellaneous', 'Miscellaneous', 'Miscellaneous', 'Miscellaneous', 'Miscellaneous', 'Miscellaneous', 'Miscellaneous', 'Miscellaneous', 'Miscellaneous', 'Miscellaneous', 'Miscellaneous', 'Miscellaneous', 'Miscellaneous', 'Miscellaneous', 'Miscellaneous', 'Miscellaneous', 'Miscellaneous', 'Miscellaneous', 'Miscellaneous', 'Miscellaneous', 'Miscellaneous', 'Miscellaneous', 'Miscellaneous', 'Miscellaneous', 'Miscellaneous', 'Miscellaneous', 'Miscellaneous', 'Miscellaneous', 'Miscellaneous', 'Miscellaneous', 'Miscellaneous', 'Miscellaneous', 'Miscellaneous', 'Miscellaneous', 'Miscellaneous', 'Miscellaneous', 'Miscellaneous', 'Miscellaneous', 'Miscellaneous', 'Miscellaneous', 'Miscellaneous', 'Miscellaneous', 'Miscellaneous', 'Miscellaneous', 'Miscellaneous', 'Miscellaneous', 'Miscellaneous', 'Miscellaneous', 'Miscellaneous', 'Miscellaneous', 'Miscellaneous', 'Miscellaneous', 'Miscellaneous', 'Miscellaneous', 'Miscellaneous', 'Miscellaneous', 'Miscellaneous', 'Miscellaneous', 'Miscellaneous', 'Miscellaneous', 'Miscellaneous', 'Miscellaneous', 'Miscellaneous', 'Miscellaneous', 'Miscellaneous', 'Miscellaneous', 'Miscellaneous', 'Miscellaneous', 'Miscellaneous', 'Miscellaneous', 'Miscellaneous', 'Miscellaneous', 'Miscellaneous', 'Miscellaneous', 'Miscellaneous', 'Miscellaneous', 'Miscellaneous', 'Miscellaneous', 'Miscellaneous', 'Miscellaneous', 'Miscellaneous', 'Miscellaneous', 'Miscellaneous', 'Miscellaneous', 'Miscellaneous', 'Miscellaneous', 'Miscellaneous', 'Miscellaneous', 'Miscellaneous', 'Miscellaneous', 'Miscellaneous', 'Miscellaneous', 'Miscellaneous', 'Miscellaneous', 'Miscellaneous', 'Miscellaneous', 'Miscellaneous', 'Miscellaneous', 'Miscellaneous', 'Miscellaneous', 'Miscellaneous', 'Miscellaneous', 'Miscellaneous', 'Miscellaneous', 'Miscellaneous', 'Miscellaneous', 'Miscellaneous', 'Miscellaneous', 'Miscellaneous', 'Miscellaneous', 'Miscellaneous', 'Miscellaneous', 'Miscellaneous', 'Miscellaneous', 'Miscellaneous', 'Miscellaneous', 'Miscellaneous', 'Miscellaneous', 'Miscellaneous', 'Miscellaneous', 'Miscellaneous', 'Miscellaneous', 'Miscellaneous', 'Miscellaneous', 'Miscellaneous', 'Miscellaneous', 'Miscellaneous', 'Miscellaneous', 'Miscellaneous', 'Miscellaneous', 'Miscellaneous', 'Miscellaneous', 'Miscellaneous', 'Miscellaneous', 'Miscellaneous', 'Miscellaneous', 'Miscellaneous', 'Miscellaneous', 'Miscellaneous', 'Miscellaneous', 'Miscellaneous', 'Miscellaneous', 'Miscellaneous', 'Miscellaneous', 'Miscellaneous', 'Miscellaneous', 'Miscellaneous', 'Miscellaneous', 'Miscellaneous', 'Miscellaneous', 'Miscellaneous', 'Miscellaneous', 'Miscellaneous', 'Miscellaneous', 'Miscellaneous', 'Miscellaneous', 'Miscellaneous', 'Miscellaneous', 'Miscellaneous', 'Miscellaneous', 'Miscellaneous', 'Miscellaneous', 'Miscellaneous', 'Miscellaneous', 'Miscellaneous', 'Miscellaneous', 'Miscellaneous', 'Miscellaneous', 'Miscellaneous', 'Miscellaneous', 'Miscellaneous', 'Miscellaneous', 'Miscellaneous', 'Miscellaneous', 'Miscellaneous', 'Miscellaneous', 'Miscellaneous', 'Miscellaneous', 'Miscellaneous', 'Miscellaneous', 'Miscellaneous', 'Miscellaneous', 'Miscellaneous', 'Miscellaneous', 'Miscellaneous', 'Miscellaneous', 'Miscellaneous', 'Miscellaneous', 'Miscellaneous', 'Miscellaneous', 'Christmas_Tree', 'Christmas_Tree', 'Christmas_Tree', 'Christmas_Tree', 'Christmas_Tree', 'Christmas_Tree', 'Christmas_Tree', 'Christmas_Tree', 'Christmas_Tree', 'Christmas_Tree', 'Christmas_Tree', 'Christmas_Tree', 'Christmas_Tree', 'Christmas_Tree', 'Christmas_Tree', 'Christmas_Tree', 'Christmas_Tree', 'Christmas_Tree', 'Christmas_Tree', 'Christmas_Tree', 'Christmas_Tree', 'Christmas_Tree', 'Christmas_Tree', 'Christmas_Tree', 'Christmas_Tree', 'Christmas_Tree', 'Christmas_Tree', 'Christmas_Tree', 'Christmas_Tree', 'Christmas_Tree', 'Christmas_Tree', 'Christmas_Tree', 'Christmas_Tree', 'Christmas_Tree', 'Christmas_Tree', 'Christmas_Tree', 'Christmas_Tree', 'Christmas_Tree', 'Christmas_Tree', 'Christmas_Tree', 'Christmas_Tree', 'Christmas_Tree', 'Christmas_Tree', 'Christmas_Tree', 'Christmas_Tree', 'Christmas_Tree', 'Christmas_Tree', 'Christmas_Tree', 'Christmas_Tree', 'Christmas_Tree', 'Christmas_Tree', 'Christmas_Tree', 'Christmas_Tree', 'Christmas_Tree', 'Christmas_Tree', 'Christmas_Tree', 'Christmas_Tree', 'Christmas_Tree', 'Christmas_Tree', 'Christmas_Tree', 'Christmas_Tree', 'Christmas_Tree', 'Christmas_Tree', 'Christmas_Tree', 'Christmas_Tree', 'Christmas_Tree', 'Christmas_Tree', 'Christmas_Tree', 'Christmas_Tree', 'Christmas_Tree', 'Christmas_Tree', 'Christmas_Tree', 'Christmas_Tree', 'Christmas_Tree', 'Christmas_Tree', 'Christmas_Tree', 'Christmas_Tree', 'Christmas_Tree', 'Christmas_Tree', 'Christmas_Tree', 'Christmas_Tree', 'Christmas_Tree', 'Christmas_Tree', 'Christmas_Tree', 'Christmas_Tree', 'Christmas_Tree', 'Christmas_Tree', 'Christmas_Tree', 'Christmas_Tree', 'Christmas_Tree', 'Christmas_Tree', 'Christmas_Tree', 'Christmas_Tree', 'Christmas_Tree', 'Christmas_Tree', 'Christmas_Tree', 'Christmas_Tree', 'Christmas_Tree', 'Christmas_Tree', 'Christmas_Tree', 'Christmas_Tree', 'Christmas_Tree', 'Christmas_Tree', 'Christmas_Tree', 'Christmas_Tree', 'Christmas_Tree', 'Christmas_Tree', 'Christmas_Tree', 'Christmas_Tree', 'Christmas_Tree', 'Christmas_Tree', 'Christmas_Tree', 'Christmas_Tree', 'Christmas_Tree', 'Christmas_Tree', 'Christmas_Tree', 'Christmas_Tree', 'Christmas_Tree', 'Christmas_Tree', 'Christmas_Tree', 'Christmas_Tree', 'Christmas_Tree', 'Christmas_Tree', 'Christmas_Tree', 'Christmas_Tree', 'Christmas_Tree', 'Christmas_Tree', 'Christmas_Tree', 'Christmas_Tree', 'Christmas_Tree', 'Christmas_Tree', 'Christmas_Tree', 'Christmas_Tree', 'Christmas_Tree', 'Christmas_Tree', 'Christmas_Tree', 'Christmas_Tree', 'Christmas_Tree', 'Christmas_Tree', 'Christmas_Tree', 'Christmas_Tree', 'Christmas_Tree', 'Christmas_Tree', 'Christmas_Tree', 'Christmas_Tree', 'Christmas_Tree', 'Christmas_Tree', 'Christmas_Tree', 'Christmas_Tree', 'Christmas_Tree', 'Christmas_Tree', 'Christmas_Tree', 'Christmas_Tree', 'Christmas_Tree', 'Christmas_Tree', 'Christmas_Tree', 'Christmas_Tree', 'Christmas_Tree', 'Christmas_Tree', 'Christmas_Tree', 'Christmas_Tree', 'Christmas_Tree', 'Christmas_Tree', 'Christmas_Tree', 'Christmas_Tree', 'Christmas_Tree', 'Christmas_Tree', 'Christmas_Tree', 'Christmas_Tree', 'Christmas_Tree', 'Christmas_Tree', 'Christmas_Tree', 'Christmas_Tree', 'Christmas_Tree', 'Christmas_Tree', 'Christmas_Tree', 'Christmas_Tree', 'Christmas_Tree', 'Christmas_Tree', 'Christmas_Tree', 'Christmas_Tree', 'Christmas_Tree', 'Christmas_Tree', 'Christmas_Tree', 'Christmas_Tree', 'Christmas_Tree', 'Christmas_Tree', 'Christmas_Tree', 'Christmas_Tree', 'Christmas_Tree', 'Christmas_Tree', 'Christmas_Tree', 'Christmas_Tree', 'Christmas_Tree', 'Christmas_Tree', 'Christmas_Tree', 'Christmas_Tree', 'Christmas_Tree', 'Christmas_Tree', 'Christmas_Tree', 'Christmas_Tree', 'Christmas_Tree', 'Christmas_Tree', 'Christmas_Tree', 'Christmas_Tree', 'Christmas_Tree', 'Christmas_Tree', 'Christmas_Tree', 'Christmas_Tree', 'Christmas_Tree', 'Christmas_Tree', 'Christmas_Tree', 'Christmas_Tree', 'Christmas_Tree', 'Christmas_Tree', 'Christmas_Tree', 'Christmas_Tree', 'Christmas_Tree', 'Christmas_Tree', 'Christmas_Tree', 'Christmas_Tree', 'Christmas_Tree', 'Christmas_Tree', 'Christmas_Tree', 'Christmas_Tree', 'Christmas_Tree', 'Christmas_Tree', 'Christmas_Tree', 'Christmas_Tree', 'Christmas_Tree', 'Christmas_Tree', 'Christmas_Tree', 'Christmas_Tree', 'Christmas_Tree', 'Christmas_Tree', 'Christmas_Tree', 'Christmas_Tree', 'Christmas_Tree', 'Christmas_Tree', 'Christmas_Tree', 'Christmas_Tree', 'Christmas_Tree', 'Christmas_Tree', 'Christmas_Tree', 'Christmas_Tree', 'Christmas_Tree', 'Christmas_Tree', 'Christmas_Tree', 'Christmas_Tree', 'Christmas_Tree', 'Christmas_Tree', 'Christmas_Tree', 'Christmas_Tree', 'Christmas_Tree', 'Christmas_Tree', 'Christmas_Tree', 'Christmas_Tree', 'Christmas_Tree', 'Christmas_Tree', 'Christmas_Tree', 'Christmas_Tree', 'Christmas_Tree', 'Christmas_Tree', 'Christmas_Tree', 'Christmas_Tree', 'Christmas_Tree', 'Christmas_Tree', 'Christmas_Tree', 'Christmas_Tree', 'Christmas_Tree', 'Christmas_Tree', 'Christmas_Tree', 'Christmas_Tree', 'Christmas_Tree', 'Christmas_Tree', 'Christmas_Tree', 'Christmas_Tree', 'Christmas_Tree', 'Christmas_Tree', 'Christmas_Tree', 'Christmas_Tree', 'Christmas_Tree', 'Christmas_Tree', 'Christmas_Tree', 'Christmas_Tree', 'Christmas_Tree', 'Christmas_Tree', 'Christmas_Tree', 'Christmas_Tree', 'Christmas_Tree', 'Christmas_Tree', 'Christmas_Tree', 'Christmas_Tree', 'Christmas_Tree', 'Christmas_Tree', 'Christmas_Tree', 'Christmas_Tree', 'Christmas_Tree', 'Christmas_Tree', 'Christmas_Tree', 'Christmas_Tree', 'Christmas_Tree', 'Christmas_Tree', 'Christmas_Tree', 'Christmas_Tree', 'Christmas_Tree', 'Christmas_Tree', 'Christmas_Tree', 'Christmas_Tree', 'Christmas_Tree', 'Christmas_Tree', 'Christmas_Tree', 'Christmas_Tree', 'Christmas_Tree', 'Christmas_Tree', 'Christmas_Tree', 'Christmas_Tree', 'Christmas_Tree', 'Christmas_Tree', 'Christmas_Tree', 'Christmas_Tree', 'Christmas_Tree', 'Christmas_Tree', 'Christmas_Tree', 'Christmas_Tree', 'Christmas_Tree', 'Christmas_Tree', 'Christmas_Tree', 'Christmas_Tree', 'Christmas_Tree', 'Christmas_Tree', 'Christmas_Tree', 'Christmas_Tree', 'Christmas_Tree', 'Christmas_Tree', 'Christmas_Tree', 'Christmas_Tree', 'Christmas_Tree', 'Christmas_Tree', 'Christmas_Tree', 'Christmas_Tree', 'Christmas_Tree', 'Christmas_Tree', 'Christmas_Tree', 'Christmas_Tree', 'Christmas_Tree', 'Christmas_Tree', 'Christmas_Tree', 'Christmas_Tree', 'Christmas_Tree', 'Christmas_Tree', 'Christmas_Tree', 'Christmas_Tree', 'Christmas_Tree', 'Christmas_Tree', 'Christmas_Tree', 'Christmas_Tree', 'Christmas_Tree', 'Christmas_Tree', 'Christmas_Tree', 'Christmas_Tree', 'Christmas_Tree', 'Christmas_Tree', 'Christmas_Tree', 'Christmas_Tree', 'Christmas_Tree', 'Christmas_Tree', 'Christmas_Tree', 'Christmas_Tree', 'Christmas_Tree', 'Christmas_Tree', 'Christmas_Tree', 'Christmas_Tree', 'Christmas_Tree', 'Christmas_Tree', 'Christmas_Tree', 'Christmas_Tree', 'Christmas_Tree', 'Christmas_Tree', 'Christmas_Tree', 'Christmas_Tree', 'Christmas_Tree', 'Christmas_Tree', 'Christmas_Tree', 'Christmas_Tree', 'Christmas_Tree', 'Christmas_Tree', 'Christmas_Tree', 'Christmas_Tree', 'Christmas_Tree', 'Christmas_Tree', 'Christmas_Tree', 'Christmas_Tree', 'Christmas_Tree', 'Christmas_Tree', 'Christmas_Tree', 'Christmas_Tree', 'Christmas_Tree', 'Christmas_Tree', 'Christmas_Tree', 'Christmas_Tree', 'Christmas_Tree', 'Christmas_Tree', 'Christmas_Tree', 'Christmas_Tree', 'Christmas_Tree', 'Christmas_Tree', 'Christmas_Tree', 'Christmas_Tree', 'Christmas_Tree', 'Christmas_Tree', 'Christmas_Tree', 'Christmas_Tree', 'Christmas_Tree', 'Christmas_Tree', 'Christmas_Tree', 'Christmas_Tree', 'Christmas_Tree', 'Christmas_Tree', 'Christmas_Tree', 'Christmas_Tree', 'Christmas_Tree', 'Christmas_Tree', 'Christmas_Tree', 'Christmas_Tree', 'Christmas_Tree', 'Christmas_Tree', 'Christmas_Tree', 'Christmas_Tree', 'Christmas_Tree', 'Christmas_Tree', 'Christmas_Tree', 'Christmas_Tree', 'Christmas_Tree', 'Christmas_Tree', 'Christmas_Tree', 'Christmas_Tree', 'Christmas_Tree', 'Christmas_Tree', 'Christmas_Tree', 'Christmas_Tree', 'Christmas_Tree', 'Christmas_Tree', 'Christmas_Tree', 'Christmas_Tree', 'Christmas_Tree', 'Christmas_Tree', 'Christmas_Tree', 'Christmas_Tree', 'Christmas_Tree', 'Christmas_Tree', 'Christmas_Tree', 'Christmas_Tree', 'Christmas_Tree', 'Christmas_Tree', 'Christmas_Tree', 'Christmas_Tree', 'Christmas_Tree', 'Christmas_Tree', 'Christmas_Tree', 'Christmas_Tree', 'Christmas_Tree', 'Christmas_Tree', 'Christmas_Tree', 'Christmas_Tree', 'Christmas_Tree', 'Christmas_Tree', 'Christmas_Tree', 'Christmas_Tree', 'Christmas_Tree', 'Christmas_Tree', 'Christmas_Tree', 'Christmas_Tree', 'Christmas_Tree', 'Christmas_Tree', 'Christmas_Tree', 'Christmas_Tree', 'Christmas_Tree', 'Christmas_Tree', 'Christmas_Tree', 'Christmas_Tree', 'Christmas_Tree', 'Christmas_Tree', 'Christmas_Tree', 'Christmas_Tree', 'Christmas_Tree', 'Christmas_Tree', 'Christmas_Tree', 'Christmas_Tree', 'Christmas_Tree', 'Christmas_Tree', 'Christmas_Tree', 'Christmas_Tree', 'Christmas_Tree', 'Christmas_Tree', 'Christmas_Tree', 'Christmas_Tree', 'Christmas_Tree', 'Christmas_Tree', 'Christmas_Tree', 'Christmas_Tree', 'Christmas_Tree', 'Christmas_Tree', 'Christmas_Tree', 'Christmas_Tree', 'Christmas_Tree', 'Christmas_Tree', 'Christmas_Tree', 'Christmas_Tree', 'Christmas_Tree', 'Christmas_Tree', 'Christmas_Tree', 'Christmas_Tree', 'Christmas_Tree', 'Christmas_Tree', 'Christmas_Tree', 'Christmas_Tree', 'Christmas_Tree', 'Christmas_Tree', 'Christmas_Tree', 'Christmas_Tree', 'Christmas_Tree', 'Christmas_Tree', 'Christmas_Tree', 'Christmas_Tree', 'Christmas_Tree', 'Christmas_Tree', 'Christmas_Tree', 'Christmas_Tree', 'Christmas_Tree', 'Christmas_Tree', 'Christmas_Tree', 'Christmas_Tree', 'Christmas_Tree', 'Christmas_Tree', 'Christmas_Tree', 'Christmas_Tree', 'Christmas_Tree', 'Christmas_Tree', 'Christmas_Tree', 'Christmas_Tree', 'Christmas_Tree', 'Christmas_Tree', 'Christmas_Tree', 'Christmas_Tree', 'Christmas_Tree', 'Christmas_Tree', 'Christmas_Tree', 'Christmas_Tree', 'Christmas_Tree', 'Christmas_Tree', 'Christmas_Tree', 'Christmas_Tree', 'Christmas_Tree', 'Christmas_Tree', 'Christmas_Tree', 'Christmas_Tree', 'Christmas_Tree', 'Christmas_Tree', 'Christmas_Tree', 'Christmas_Tree', 'Christmas_Tree', 'Christmas_Tree', 'Christmas_Tree', 'Christmas_Tree', 'Christmas_Tree', 'Christmas_Tree', 'Christmas_Tree', 'Christmas_Tree', 'Christmas_Tree', 'Christmas_Tree', 'Christmas_Tree', 'Christmas_Tree', 'Christmas_Tree', 'Christmas_Tree', 'Christmas_Tree', 'Christmas_Tree', 'Christmas_Tree', 'Christmas_Tree', 'Christmas_Tree', 'Christmas_Tree', 'Christmas_Tree', 'Christmas_Tree', 'Christmas_Tree', 'Christmas_Tree', 'Christmas_Tree', 'Christmas_Tree', 'Christmas_Tree', 'Christmas_Tree', 'Christmas_Tree', 'Christmas_Tree', 'Christmas_Tree', 'Christmas_Tree', 'Christmas_Tree', 'Christmas_Tree', 'Christmas_Tree', 'Christmas_Tree', 'Christmas_Tree', 'Christmas_Tree', 'Christmas_Tree', 'Christmas_Tree', 'Christmas_Tree', 'Christmas_Tree', 'Christmas_Tree', 'Christmas_Tree', 'Christmas_Tree', 'Christmas_Tree', 'Christmas_Tree', 'Christmas_Tree', 'Christmas_Tree', 'Christmas_Tree', 'Christmas_Tree', 'Christmas_Tree', 'Christmas_Tree', 'Christmas_Tree', 'Christmas_Tree', 'Christmas_Tree', 'Christmas_Tree', 'Christmas_Tree', 'Christmas_Tree', 'Christmas_Tree', 'Christmas_Tree', 'Christmas_Tree', 'Christmas_Tree', 'Christmas_Tree', 'Christmas_Tree', 'Christmas_Tree', 'Christmas_Tree', 'Christmas_Tree', 'Christmas_Tree', 'Christmas_Tree', 'Christmas_Tree', 'Christmas_Tree', 'Christmas_Tree', 'Christmas_Tree', 'Christmas_Tree', 'Christmas_Tree', 'Christmas_Tree', 'Christmas_Tree', 'Christmas_Tree', 'Christmas_Tree', 'Christmas_Tree', 'Christmas_Tree', 'Christmas_Tree', 'Christmas_Tree', 'Christmas_Tree', 'Christmas_Tree', 'Christmas_Tree', 'Christmas_Tree', 'Christmas_Tree', 'Christmas_Tree', 'Christmas_Tree', 'Christmas_Tree', 'Christmas_Tree', 'Christmas_Tree', 'Christmas_Tree', 'Christmas_Tree', 'Christmas_Tree', 'Christmas_Tree', 'Christmas_Tree', 'Christmas_Tree', 'Christmas_Tree', 'Christmas_Tree', 'Christmas_Tree', 'Christmas_Tree', 'Christmas_Tree', 'Christmas_Tree', 'Christmas_Tree', 'Christmas_Tree', 'Christmas_Tree', 'Christmas_Tree', 'Christmas_Tree', 'Christmas_Tree', 'Christmas_Tree', 'Christmas_Tree', 'Christmas_Tree', 'Christmas_Tree', 'Christmas_Tree', 'Christmas_Tree', 'Christmas_Tree', 'Christmas_Tree', 'Christmas_Tree', 'Christmas_Tree', 'Christmas_Tree', 'Christmas_Tree', 'Christmas_Tree', 'Christmas_Tree', 'Christmas_Tree', 'Christmas_Tree', 'Christmas_Tree', 'Christmas_Tree', 'Christmas_Tree', 'Christmas_Tree', 'Christmas_Tree', 'Christmas_Tree', 'Christmas_Tree', 'Christmas_Tree', 'Christmas_Tree', 'Christmas_Tree', 'Christmas_Tree', 'Christmas_Tree', 'Christmas_Tree', 'Christmas_Tree', 'Christmas_Tree', 'Christmas_Tree', 'Christmas_Tree', 'Christmas_Tree', 'Christmas_Tree', 'Christmas_Tree', 'Christmas_Tree', 'Christmas_Tree', 'Christmas_Tree', 'Christmas_Tree', 'Christmas_Tree', 'Christmas_Tree', 'Christmas_Tree', 'Christmas_Tree', 'Christmas_Tree', 'Christmas_Tree', 'Christmas_Tree', 'Christmas_Tree', 'Christmas_Tree', 'Christmas_Tree', 'Christmas_Tree', 'Christmas_Tree', 'Christmas_Tree', 'Christmas_Tree', 'Christmas_Tree', 'Christmas_Tree', 'Christmas_Tree', 'Christmas_Tree', 'Christmas_Tree', 'Christmas_Tree', 'Christmas_Tree', 'Christmas_Tree', 'Christmas_Tree', 'Christmas_Tree', 'Christmas_Tree', 'Christmas_Tree', 'Christmas_Tree', 'Christmas_Tree', 'Christmas_Tree', 'Christmas_Tree', 'Christmas_Tree', 'Christmas_Tree', 'Christmas_Tree', 'Christmas_Tree', 'Christmas_Tree', 'Christmas_Tree', 'Christmas_Tree', 'Christmas_Tree', 'Christmas_Tree', 'Christmas_Tree', 'Christmas_Tree', 'Christmas_Tree', 'Christmas_Tree', 'Christmas_Tree', 'Christmas_Tree', 'Christmas_Tree', 'Christmas_Tree', 'Christmas_Tree', 'Christmas_Tree', 'Christmas_Tree', 'Christmas_Tree', 'Christmas_Tree', 'Christmas_Tree', 'Christmas_Tree', 'Christmas_Tree', 'Christmas_Tree', 'Christmas_Tree', 'Christmas_Tree', 'Christmas_Tree', 'Christmas_Tree', 'Christmas_Tree', 'Christmas_Tree', 'Christmas_Tree', 'Christmas_Tree', 'Christmas_Tree', 'Christmas_Tree', 'Christmas_Tree', 'Christmas_Tree', 'Christmas_Tree', 'Christmas_Tree', 'Christmas_Tree', 'Christmas_Tree', 'Christmas_Tree', 'Christmas_Tree', 'Christmas_Tree', 'Christmas_Tree', 'Christmas_Tree', 'Christmas_Tree', 'Christmas_Tree', 'Christmas_Tree', 'Christmas_Tree', 'Christmas_Tree', 'Christmas_Tree', 'Christmas_Tree', 'Christmas_Tree', 'Christmas_Tree', 'Christmas_Tree', 'Christmas_Tree', 'Christmas_Tree', 'Christmas_Tree', 'Christmas_Tree', 'Christmas_Tree', 'Christmas_Tree', 'Christmas_Tree', 'Christmas_Tree', 'Christmas_Tree', 'Christmas_Tree', 'Christmas_Tree', 'Christmas_Tree', 'Christmas_Tree', 'Christmas_Tree', 'Christmas_Tree', 'Christmas_Tree', 'Christmas_Tree', 'Christmas_Tree', 'Christmas_Tree', 'Christmas_Tree', 'Christmas_Tree', 'Christmas_Tree', 'Christmas_Tree', 'Christmas_Tree', 'Christmas_Tree', 'Christmas_Tree', 'Christmas_Tree', 'Christmas_Tree', 'Christmas_Tree', 'Christmas_Tree', 'Christmas_Tree', 'Christmas_Tree', 'Christmas_Tree', 'Christmas_Tree', 'Christmas_Tree', 'Christmas_Tree', 'Christmas_Tree', 'Christmas_Tree', 'Christmas_Tree', 'Christmas_Tree', 'Christmas_Tree', 'Christmas_Tree', 'Christmas_Tree', 'Christmas_Tree', 'Christmas_Tree', 'Christmas_Tree', 'Christmas_Tree', 'Christmas_Tree', 'Christmas_Tree', 'Christmas_Tree', 'Christmas_Tree', 'Christmas_Tree', 'Christmas_Tree', 'Christmas_Tree', 'Christmas_Tree', 'Christmas_Tree', 'Christmas_Tree', 'Christmas_Tree', 'Christmas_Tree', 'Christmas_Tree', 'Christmas_Tree', 'Christmas_Tree', 'Christmas_Tree', 'Christmas_Tree', 'Christmas_Tree', 'Christmas_Tree', 'Christmas_Tree', 'Christmas_Tree', 'Christmas_Tree', 'Christmas_Tree', 'Christmas_Tree', 'Christmas_Tree', 'Christmas_Tree', 'Christmas_Tree', 'Christmas_Tree', 'Christmas_Tree', 'Christmas_Tree', 'Christmas_Tree', 'Christmas_Tree', 'Christmas_Tree', 'Christmas_Tree', 'Christmas_Tree', 'Christmas_Tree', 'Christmas_Tree', 'Christmas_Tree', 'Christmas_Tree', 'Christmas_Tree', 'Christmas_Tree', 'Christmas_Tree', 'Christmas_Tree', 'Christmas_Tree', 'Christmas_Tree', 'Christmas_Tree', 'Christmas_Tree', 'Christmas_Tree', 'Christmas_Tree', 'Christmas_Tree', 'Christmas_Tree', 'Christmas_Tree', 'Christmas_Tree', 'Christmas_Tree', 'Christmas_Tree', 'Christmas_Tree', 'Christmas_Tree', 'Christmas_Tree', 'Christmas_Tree', 'Christmas_Tree', 'Christmas_Tree', 'Christmas_Tree', 'Christmas_Tree', 'Christmas_Tree', 'Christmas_Tree', 'Christmas_Tree', 'Christmas_Tree', 'Christmas_Tree', 'Christmas_Tree', 'Christmas_Tree', 'Christmas_Tree', 'Christmas_Tree', 'Christmas_Tree', 'Christmas_Tree', 'Christmas_Tree', 'Christmas_Tree', 'Christmas_Tree', 'Christmas_Tree', 'Christmas_Tree', 'Christmas_Tree', 'Christmas_Tree', 'Christmas_Tree', 'Christmas_Tree', 'Christmas_Tree', 'Christmas_Tree', 'Christmas_Tree', 'Christmas_Tree', 'Christmas_Tree', 'Christmas_Tree', 'Christmas_Tree', 'Christmas_Tree', 'Christmas_Tree', 'Christmas_Tree', 'Christmas_Tree', 'Christmas_Tree', 'Christmas_Tree', 'Christmas_Tree', 'Christmas_Tree', 'Christmas_Tree', 'Christmas_Tree', 'Christmas_Tree', 'Christmas_Tree', 'Christmas_Tree', 'Christmas_Tree', 'Christmas_Tree', 'Christmas_Tree', 'Christmas_Tree', 'Christmas_Tree', 'Christmas_Tree', 'Christmas_Tree', 'Christmas_Tree', 'Christmas_Tree', 'Christmas_Tree', 'Christmas_Tree', 'Christmas_Tree', 'Christmas_Tree', 'Christmas_Tree', 'Christmas_Tree', 'Christmas_Tree', 'Christmas_Tree', 'Christmas_Tree', 'Christmas_Tree', 'Christmas_Tree', 'Christmas_Tree', 'Christmas_Tree', 'Christmas_Tree', 'Christmas_Tree', 'Christmas_Tree', 'Christmas_Tree', 'Christmas_Tree', 'Christmas_Tree', 'Christmas_Tree', 'Christmas_Tree', 'Christmas_Tree', 'Christmas_Tree', 'Christmas_Tree', 'Christmas_Tree', 'Christmas_Tree', 'Christmas_Tree', 'Christmas_Tree', 'Christmas_Tree', 'Christmas_Tree', 'Christmas_Tree', 'Christmas_Tree', 'Christmas_Tree', 'Christmas_Tree', 'Christmas_Tree', 'Christmas_Tree', 'Christmas_Tree', 'Christmas_Tree', 'Christmas_Tree', 'Christmas_Tree', 'Christmas_Tree', 'Snowman', 'Snowman', 'Snowman', 'Snowman', 'Snowman', 'Snowman', 'Snowman', 'Snowman', 'Snowman', 'Snowman', 'Snowman', 'Snowman', 'Snowman', 'Snowman', 'Snowman', 'Snowman', 'Snowman', 'Snowman', 'Snowman', 'Snowman', 'Snowman', 'Snowman', 'Snowman', 'Snowman', 'Snowman', 'Snowman', 'Snowman', 'Snowman', 'Snowman', 'Snowman', 'Snowman', 'Snowman', 'Snowman', 'Snowman', 'Snowman', 'Snowman', 'Snowman', 'Snowman', 'Snowman', 'Snowman', 'Snowman', 'Snowman', 'Snowman', 'Snowman', 'Snowman', 'Snowman', 'Snowman', 'Snowman', 'Snowman', 'Snowman', 'Snowman', 'Snowman', 'Snowman', 'Snowman', 'Snowman', 'Snowman', 'Snowman', 'Snowman', 'Snowman', 'Snowman', 'Snowman', 'Snowman', 'Snowman', 'Snowman', 'Snowman', 'Snowman', 'Snowman', 'Snowman', 'Snowman', 'Snowman', 'Snowman', 'Snowman', 'Snowman', 'Snowman', 'Snowman', 'Snowman', 'Snowman', 'Snowman', 'Snowman', 'Snowman', 'Snowman', 'Snowman', 'Snowman', 'Snowman', 'Snowman', 'Snowman', 'Snowman', 'Snowman', 'Snowman', 'Snowman', 'Snowman', 'Snowman', 'Snowman', 'Snowman', 'Snowman', 'Snowman', 'Snowman', 'Snowman', 'Snowman', 'Snowman', 'Snowman', 'Snowman', 'Snowman', 'Snowman', 'Snowman', 'Snowman', 'Snowman', 'Snowman', 'Snowman', 'Snowman', 'Snowman', 'Snowman', 'Snowman', 'Snowman', 'Snowman', 'Snowman', 'Snowman', 'Snowman', 'Snowman', 'Snowman', 'Miscellaneous', 'Miscellaneous', 'Miscellaneous', 'Miscellaneous', 'Miscellaneous', 'Miscellaneous', 'Miscellaneous', 'Miscellaneous', 'Miscellaneous', 'Miscellaneous', 'Miscellaneous', 'Miscellaneous', 'Miscellaneous', 'Miscellaneous', 'Miscellaneous', 'Miscellaneous', 'Miscellaneous', 'Miscellaneous', 'Miscellaneous', 'Miscellaneous', 'Miscellaneous', 'Miscellaneous', 'Miscellaneous', 'Miscellaneous', 'Miscellaneous', 'Miscellaneous', 'Miscellaneous', 'Miscellaneous', 'Miscellaneous', 'Miscellaneous', 'Miscellaneous', 'Miscellaneous', 'Miscellaneous', 'Miscellaneous', 'Miscellaneous', 'Miscellaneous', 'Miscellaneous', 'Miscellaneous', 'Miscellaneous', 'Miscellaneous', 'Miscellaneous', 'Miscellaneous', 'Miscellaneous', 'Miscellaneous', 'Miscellaneous', 'Miscellaneous', 'Miscellaneous', 'Miscellaneous', 'Miscellaneous', 'Miscellaneous', 'Miscellaneous', 'Miscellaneous', 'Miscellaneous', 'Miscellaneous', 'Miscellaneous', 'Miscellaneous', 'Miscellaneous', 'Miscellaneous', 'Miscellaneous', 'Miscellaneous', 'Miscellaneous', 'Miscellaneous', 'Miscellaneous', 'Miscellaneous', 'Miscellaneous', 'Miscellaneous', 'Miscellaneous', 'Miscellaneous', 'Miscellaneous', 'Miscellaneous', 'Candle', 'Candle', 'Miscellaneous', 'Candle', 'Miscellaneous', 'Miscellaneous', 'Candle', 'Candle', 'Candle', 'Candle', 'Candle', 'Candle', 'Candle', 'Candle', 'Candle', 'Candle', 'Miscellaneous', 'Candle', 'Candle', 'Candle', 'Candle', 'Candle', 'Candle', 'Miscellaneous', 'Miscellaneous', 'Miscellaneous', 'Miscellaneous', 'Miscellaneous', 'Miscellaneous', 'Candle', 'Miscellaneous', 'Miscellaneous', 'Candle', 'Candle', 'Candle', 'Candle', 'Candle', 'Miscellaneous', 'Candle', 'Miscellaneous', 'Candle', 'Miscellaneous', 'Candle', 'Miscellaneous', 'Candle', 'Miscellaneous', 'Candle', 'Candle', 'Candle', 'Candle', 'Candle', 'Miscellaneous', 'Candle', 'Candle', 'Miscellaneous', 'Candle', 'Candle', 'Miscellaneous', 'Candle', 'Miscellaneous', 'Candle', 'Miscellaneous', 'Candle', 'Miscellaneous', 'Miscellaneous', 'Candle', 'Miscellaneous', 'Miscellaneous', 'Miscellaneous', 'Miscellaneous', 'Candle', 'Candle', 'Candle', 'Candle', 'Candle', 'Miscellaneous', 'Miscellaneous', 'Candle', 'Candle', 'Miscellaneous', 'Miscellaneous', 'Miscellaneous', 'Miscellaneous', 'Candle', 'Candle', 'Candle', 'Miscellaneous', 'Miscellaneous', 'Miscellaneous', 'Miscellaneous', 'Miscellaneous', 'Miscellaneous', 'Candle', 'Candle', 'Miscellaneous', 'Candle', 'Candle', 'Candle', 'Candle', 'Miscellaneous', 'Miscellaneous', 'Miscellaneous', 'Miscellaneous', 'Candle', 'Miscellaneous', 'Miscellaneous', 'Miscellaneous', 'Candle', 'Candle', 'Candle', 'Candle', 'Candle', 'Miscellaneous', 'Candle', 'Candle', 'Miscellaneous', 'Miscellaneous', 'Miscellaneous', 'Miscellaneous', 'Miscellaneous', 'Miscellaneous', 'Miscellaneous', 'Miscellaneous', 'Miscellaneous', 'Miscellaneous', 'Miscellaneous', 'Miscellaneous', 'Candle', 'Candle', 'Candle', 'Candle', 'Miscellaneous', 'Candle', 'Miscellaneous', 'Candle', 'Miscellaneous', 'Miscellaneous', 'Miscellaneous', 'Miscellaneous', 'Miscellaneous', 'Candle', 'Miscellaneous', 'Miscellaneous', 'Miscellaneous', 'Candle', 'Candle', 'Miscellaneous', 'Miscellaneous', 'Miscellaneous', 'Miscellaneous', 'Candle', 'Candle', 'Candle', 'Miscellaneous', 'Candle', 'Candle', 'Candle', 'Candle', 'Candle', 'Candle', 'Candle', 'Candle', 'Candle', 'Candle', 'Candle', 'Candle', 'Candle', 'Candle', 'Candle', 'Candle', 'Candle', 'Candle', 'Candle', 'Candle', 'Candle', 'Candle', 'Candle', 'Candle', 'Candle', 'Candle', 'Candle', 'Candle', 'Candle', 'Candle', 'Candle', 'Candle', 'Candle', 'Candle', 'Candle', 'Candle', 'Candle', 'Candle', 'Candle', 'Candle', 'Candle', 'Candle', 'Candle', 'Candle', 'Candle', 'Candle', 'Candle', 'Candle', 'Candle', 'Candle', 'Candle', 'Candle', 'Candle', 'Candle', 'Candle', 'Candle', 'Candle', 'Candle', 'Candle', 'Candle', 'Candle', 'Candle', 'Candle', 'Candle', 'Candle', 'Candle', 'Candle', 'Candle', 'Candle', 'Candle', 'Candle', 'Candle', 'Candle', 'Candle', 'Candle', 'Candle', 'Candle', 'Candle', 'Candle', 'Candle', 'Candle', 'Candle', 'Candle', 'Candle', 'Candle', 'Candle', 'Candle', 'Candle', 'Candle', 'Candle', 'Candle', 'Candle', 'Candle', 'Candle', 'Candle', 'Candle', 'Candle', 'Candle', 'Candle', 'Candle', 'Candle', 'Candle', 'Candle', 'Candle', 'Candle', 'Candle', 'Candle', 'Candle', 'Candle', 'Candle', 'Candle', 'Candle', 'Candle', 'Candle', 'Candle', 'Candle', 'Candle', 'Candle', 'Candle', 'Candle', 'Candle', 'Candle', 'Candle', 'Candle', 'Candle', 'Candle', 'Candle', 'Candle', 'Candle', 'Candle', 'Candle', 'Candle', 'Candle', 'Candle', 'Candle', 'Candle', 'Candle', 'Candle', 'Candle', 'Candle', 'Candle', 'Candle', 'Candle', 'Candle', 'Candle', 'Candle', 'Candle', 'Candle', 'Candle', 'Candle', 'Candle', 'Candle', 'Candle', 'Candle', 'Candle', 'Candle', 'Candle', 'Candle', 'Candle', 'Candle', 'Candle', 'Candle', 'Candle', 'Candle', 'Candle', 'Candle', 'Candle', 'Candle', 'Candle', 'Candle', 'Candle', 'Candle', 'Candle', 'Candle', 'Candle', 'Candle', 'Candle', 'Candle', 'Candle', 'Candle', 'Candle', 'Candle', 'Candle', 'Candle', 'Candle', 'Candle', 'Candle', 'Candle', 'Candle', 'Candle', 'Candle', 'Candle', 'Candle', 'Candle', 'Candle', 'Candle', 'Candle', 'Candle', 'Candle', 'Candle', 'Candle', 'Candle', 'Candle', 'Candle', 'Candle', 'Candle', 'Candle', 'Candle', 'Candle', 'Candle', 'Candle', 'Candle', 'Candle', 'Candle', 'Candle', 'Candle', 'Candle', 'Candle', 'Candle', 'Candle', 'Candle', 'Candle', 'Candle', 'Candle', 'Candle', 'Candle', 'Candle', 'Candle', 'Candle', 'Candle', 'Candle', 'Candle', 'Candle', 'Candle', 'Candle', 'Candle', 'Candle', 'Candle', 'Candle', 'Candle', 'Candle', 'Candle', 'Candle', 'Candle', 'Candle', 'Candle', 'Candle', 'Candle', 'Candle', 'Candle', 'Candle', 'Candle', 'Candle', 'Candle', 'Candle', 'Candle', 'Candle', 'Candle', 'Candle', 'Candle', 'Candle', 'Candle', 'Candle', 'Candle', 'Candle', 'Candle', 'Candle', 'Candle', 'Candle', 'Candle', 'Candle', 'Candle', 'Candle', 'Candle', 'Candle', 'Candle', 'Candle', 'Candle', 'Candle', 'Candle', 'Candle', 'Candle', 'Candle', 'Candle', 'Candle', 'Candle', 'Candle', 'Candle', 'Candle', 'Candle', 'Candle', 'Candle', 'Candle', 'Candle', 'Candle', 'Candle', 'Candle', 'Candle', 'Candle', 'Candle', 'Candle', 'Candle', 'Candle', 'Candle', 'Candle', 'Candle', 'Candle', 'Candle', 'Candle', 'Candle', 'Candle', 'Candle', 'Candle', 'Candle', 'Candle', 'Candle', 'Candle', 'Candle', 'Candle', 'Candle', 'Candle', 'Candle', 'Candle', 'Candle', 'Candle', 'Candle', 'Candle', 'Candle', 'Candle', 'Candle', 'Candle', 'Candle', 'Candle', 'Candle', 'Candle', 'Candle', 'Candle', 'Candle', 'Candle', 'Candle', 'Candle', 'Candle', 'Candle', 'Candle', 'Candle', 'Candle', 'Candle', 'Candle', 'Candle', 'Candle', 'Candle', 'Candle', 'Candle', 'Candle', 'Candle', 'Candle', 'Candle', 'Candle', 'Candle', 'Candle', 'Candle', 'Candle', 'Candle', 'Candle', 'Candle', 'Candle', 'Candle', 'Candle', 'Candle', 'Candle', 'Candle', 'Candle', 'Candle', 'Candle', 'Candle', 'Candle', 'Candle', 'Candle', 'Candle', 'Candle', 'Candle', 'Candle', 'Candle', 'Candle', 'Candle', 'Candle', 'Candle', 'Candle', 'Candle', 'Candle', 'Candle', 'Candle', 'Candle', 'Candle', 'Candle', 'Candle', 'Candle', 'Candle', 'Candle', 'Candle', 'Candle', 'Candle', 'Candle', 'Candle', 'Candle', 'Candle', 'Candle', 'Candle', 'Candle', 'Candle', 'Candle', 'Candle', 'Candle', 'Candle', 'Candle', 'Candle', 'Candle', 'Candle', 'Candle', 'Candle', 'Candle', 'Candle', 'Candle', 'Candle', 'Candle', 'Candle', 'Candle', 'Candle', 'Candle', 'Candle', 'Candle', 'Candle', 'Candle', 'Candle', 'Candle', 'Candle', 'Candle', 'Candle', 'Candle', 'Candle', 'Candle', 'Candle', 'Candle', 'Candle', 'Candle', 'Candle', 'Candle', 'Candle', 'Candle', 'Candle', 'Candle', 'Candle', 'Candle', 'Candle', 'Candle', 'Candle', 'Candle', 'Candle', 'Candle', 'Candle', 'Candle', 'Candle', 'Christmas_Tree', 'Christmas_Tree', 'Christmas_Tree', 'Christmas_Tree', 'Christmas_Tree', 'Christmas_Tree', 'Christmas_Tree', 'Christmas_Tree', 'Christmas_Tree', 'Christmas_Tree', 'Christmas_Tree', 'Christmas_Tree', 'Christmas_Tree', 'Christmas_Tree', 'Christmas_Tree', 'Christmas_Tree', 'Christmas_Tree', 'Christmas_Tree', 'Christmas_Tree', 'Christmas_Tree', 'Christmas_Tree', 'Christmas_Tree', 'Christmas_Tree', 'Christmas_Tree', 'Christmas_Tree', 'Christmas_Tree', 'Christmas_Tree', 'Christmas_Tree', 'Christmas_Tree', 'Christmas_Tree', 'Christmas_Tree', 'Christmas_Tree', 'Christmas_Tree', 'Christmas_Tree', 'Christmas_Tree', 'Christmas_Tree', 'Christmas_Tree', 'Christmas_Tree', 'Christmas_Tree', 'Christmas_Tree', 'Christmas_Tree', 'Christmas_Tree', 'Christmas_Tree', 'Christmas_Tree', 'Christmas_Tree', 'Christmas_Tree', 'Christmas_Tree', 'Christmas_Tree', 'Christmas_Tree', 'Christmas_Tree', 'Christmas_Tree', 'Christmas_Tree', 'Christmas_Tree', 'Christmas_Tree', 'Christmas_Tree', 'Christmas_Tree', 'Christmas_Tree', 'Christmas_Tree', 'Christmas_Tree', 'Christmas_Tree', 'Christmas_Tree', 'Christmas_Tree', 'Christmas_Tree', 'Christmas_Tree', 'Christmas_Tree', 'Christmas_Tree', 'Christmas_Tree', 'Christmas_Tree', 'Christmas_Tree', 'Christmas_Tree', 'Christmas_Tree', 'Christmas_Tree', 'Christmas_Tree', 'Christmas_Tree', 'Christmas_Tree', 'Christmas_Tree', 'Christmas_Tree', 'Christmas_Tree', 'Christmas_Tree', 'Christmas_Tree', 'Christmas_Tree', 'Christmas_Tree', 'Christmas_Tree', 'Christmas_Tree', 'Christmas_Tree', 'Christmas_Tree', 'Christmas_Tree', 'Christmas_Tree', 'Christmas_Tree', 'Christmas_Tree', 'Christmas_Tree', 'Christmas_Tree', 'Christmas_Tree', 'Christmas_Tree', 'Christmas_Tree', 'Christmas_Tree', 'Christmas_Tree', 'Christmas_Tree', 'Christmas_Tree', 'Christmas_Tree', 'Christmas_Tree', 'Christmas_Tree', 'Christmas_Tree', 'Christmas_Tree', 'Christmas_Tree', 'Christmas_Tree', 'Christmas_Tree', 'Christmas_Tree', 'Christmas_Tree', 'Christmas_Tree', 'Christmas_Tree', 'Christmas_Tree', 'Christmas_Tree', 'Christmas_Tree', 'Christmas_Tree', 'Christmas_Tree', 'Christmas_Tree', 'Christmas_Tree', 'Christmas_Tree', 'Christmas_Tree', 'Christmas_Tree', 'Christmas_Tree', 'Christmas_Tree', 'Christmas_Tree', 'Christmas_Tree', 'Christmas_Tree', 'Christmas_Tree', 'Christmas_Tree', 'Christmas_Tree', 'Christmas_Tree', 'Christmas_Tree', 'Christmas_Tree', 'Christmas_Tree', 'Christmas_Tree', 'Christmas_Tree', 'Christmas_Tree', 'Christmas_Tree', 'Christmas_Tree', 'Christmas_Tree', 'Christmas_Tree', 'Christmas_Tree', 'Christmas_Tree', 'Christmas_Tree', 'Christmas_Tree', 'Christmas_Tree', 'Christmas_Tree', 'Christmas_Tree', 'Christmas_Tree', 'Christmas_Tree', 'Christmas_Tree', 'Christmas_Tree', 'Christmas_Tree', 'Christmas_Tree', 'Christmas_Tree', 'Christmas_Tree', 'Christmas_Tree', 'Christmas_Tree', 'Christmas_Tree', 'Christmas_Tree', 'Christmas_Tree', 'Christmas_Tree', 'Christmas_Tree', 'Christmas_Tree', 'Christmas_Tree', 'Christmas_Tree', 'Christmas_Tree', 'Christmas_Tree', 'Christmas_Tree', 'Christmas_Tree', 'Christmas_Tree', 'Christmas_Tree', 'Christmas_Tree', 'Christmas_Tree', 'Christmas_Tree', 'Christmas_Tree', 'Christmas_Tree', 'Christmas_Tree', 'Christmas_Tree', 'Christmas_Tree', 'Christmas_Tree', 'Christmas_Tree', 'Christmas_Tree', 'Christmas_Tree', 'Christmas_Tree', 'Christmas_Tree', 'Christmas_Tree', 'Christmas_Tree', 'Christmas_Tree', 'Christmas_Tree', 'Christmas_Tree', 'Christmas_Tree', 'Christmas_Tree', 'Christmas_Tree', 'Christmas_Tree', 'Jacket', 'Jacket', 'Jacket', 'Jacket', 'Jacket', 'Jacket', 'Jacket', 'Jacket', 'Jacket', 'Jacket', 'Jacket', 'Jacket', 'Jacket', 'Jacket', 'Jacket', 'Jacket', 'Jacket', 'Jacket', 'Jacket', 'Jacket', 'Jacket', 'Jacket', 'Jacket', 'Jacket', 'Jacket', 'Jacket', 'Jacket', 'Jacket', 'Jacket', 'Jacket', 'Jacket', 'Jacket', 'Jacket', 'Jacket', 'Jacket', 'Jacket', 'Jacket', 'Jacket', 'Jacket', 'Jacket', 'Jacket', 'Jacket', 'Jacket', 'Jacket', 'Jacket', 'Jacket', 'Jacket', 'Jacket', 'Jacket', 'Jacket', 'Jacket', 'Jacket', 'Jacket', 'Jacket', 'Jacket', 'Jacket', 'Jacket', 'Jacket', 'Jacket', 'Jacket', 'Jacket', 'Jacket', 'Jacket', 'Jacket', 'Jacket', 'Jacket', 'Jacket', 'Jacket', 'Jacket', 'Jacket', 'Jacket', 'Jacket', 'Jacket', 'Jacket', 'Jacket', 'Jacket', 'Jacket', 'Jacket', 'Jacket', 'Jacket', 'Jacket', 'Jacket', 'Jacket', 'Jacket', 'Jacket', 'Jacket', 'Jacket', 'Jacket', 'Jacket', 'Jacket', 'Jacket', 'Jacket', 'Jacket', 'Jacket', 'Jacket', 'Jacket', 'Jacket', 'Jacket', 'Jacket', 'Jacket', 'Jacket', 'Jacket', 'Jacket', 'Jacket', 'Jacket', 'Jacket', 'Jacket', 'Jacket', 'Jacket', 'Jacket', 'Jacket', 'Jacket', 'Jacket', 'Jacket', 'Jacket', 'Jacket', 'Jacket', 'Jacket', 'Jacket', 'Jacket', 'Jacket', 'Jacket', 'Jacket', 'Jacket', 'Jacket', 'Jacket', 'Jacket', 'Jacket', 'Jacket', 'Jacket', 'Jacket', 'Jacket', 'Jacket', 'Jacket', 'Jacket', 'Jacket', 'Jacket', 'Jacket', 'Jacket', 'Jacket', 'Jacket', 'Jacket', 'Jacket', 'Jacket', 'Jacket', 'Jacket', 'Jacket', 'Jacket', 'Jacket', 'Jacket', 'Jacket', 'Jacket', 'Jacket', 'Jacket', 'Jacket', 'Jacket', 'Jacket', 'Jacket', 'Jacket', 'Jacket', 'Jacket', 'Jacket', 'Jacket', 'Jacket', 'Jacket', 'Jacket', 'Jacket', 'Jacket', 'Jacket', 'Jacket', 'Jacket', 'Airplane', 'Airplane', 'Airplane', 'Airplane', 'Airplane', 'Airplane', 'Airplane', 'Airplane', 'Airplane', 'Airplane', 'Airplane', 'Airplane', 'Airplane', 'Airplane', 'Airplane', 'Airplane', 'Airplane', 'Airplane', 'Airplane', 'Airplane', 'Airplane', 'Airplane', 'Airplane', 'Airplane', 'Airplane', 'Airplane', 'Airplane', 'Airplane', 'Airplane', 'Airplane', 'Airplane', 'Airplane', 'Airplane', 'Airplane', 'Airplane', 'Airplane', 'Airplane', 'Airplane', 'Airplane', 'Airplane', 'Airplane', 'Airplane', 'Airplane', 'Airplane', 'Airplane', 'Airplane', 'Airplane', 'Airplane', 'Airplane', 'Airplane', 'Airplane', 'Airplane', 'Airplane', 'Airplane', 'Airplane', 'Airplane', 'Airplane', 'Airplane', 'Airplane', 'Airplane', 'Airplane', 'Airplane', 'Airplane', 'Airplane', 'Airplane', 'Airplane', 'Airplane', 'Airplane', 'Airplane', 'Airplane', 'Airplane', 'Airplane', 'Airplane', 'Airplane', 'Airplane', 'Airplane', 'Airplane', 'Airplane', 'Airplane', 'Airplane', 'Airplane', 'Airplane', 'Airplane', 'Airplane', 'Airplane', 'Airplane', 'Airplane', 'Airplane', 'Airplane', 'Airplane', 'Airplane', 'Airplane', 'Airplane', 'Airplane', 'Airplane', 'Airplane', 'Airplane', 'Airplane', 'Airplane', 'Airplane', 'Airplane', 'Airplane', 'Airplane', 'Airplane', 'Airplane', 'Airplane', 'Airplane', 'Airplane', 'Airplane', 'Airplane', 'Airplane', 'Airplane', 'Airplane', 'Airplane', 'Airplane', 'Airplane', 'Airplane', 'Airplane', 'Airplane', 'Airplane', 'Airplane', 'Airplane', 'Airplane', 'Airplane', 'Airplane', 'Airplane', 'Airplane', 'Airplane', 'Airplane', 'Airplane', 'Airplane', 'Airplane', 'Airplane', 'Airplane', 'Airplane', 'Airplane', 'Airplane', 'Airplane', 'Airplane', 'Airplane', 'Airplane', 'Airplane', 'Airplane', 'Airplane', 'Airplane', 'Airplane', 'Airplane', 'Airplane', 'Airplane', 'Airplane', 'Airplane', 'Airplane', 'Airplane', 'Airplane', 'Airplane', 'Airplane', 'Airplane', 'Airplane', 'Airplane', 'Airplane', 'Airplane', 'Airplane', 'Airplane', 'Airplane', 'Airplane', 'Airplane', 'Airplane', 'Airplane', 'Airplane', 'Airplane', 'Airplane', 'Airplane', 'Airplane', 'Airplane', 'Airplane', 'Airplane', 'Airplane', 'Airplane', 'Airplane', 'Airplane', 'Airplane', 'Airplane', 'Airplane', 'Airplane', 'Airplane', 'Airplane', 'Airplane', 'Airplane', 'Airplane', 'Airplane', 'Airplane', 'Airplane', 'Airplane', 'Airplane', 'Airplane', 'Airplane', 'Airplane', 'Airplane', 'Airplane', 'Airplane', 'Airplane', 'Airplane', 'Airplane', 'Airplane', 'Airplane', 'Airplane', 'Airplane', 'Airplane', 'Airplane', 'Airplane', 'Airplane', 'Airplane', 'Airplane', 'Airplane', 'Airplane', 'Airplane', 'Airplane', 'Airplane', 'Airplane', 'Airplane', 'Airplane', 'Airplane', 'Airplane', 'Airplane', 'Airplane', 'Airplane', 'Airplane', 'Airplane', 'Airplane', 'Airplane', 'Airplane', 'Airplane', 'Airplane', 'Airplane', 'Airplane', 'Airplane', 'Airplane', 'Airplane', 'Airplane', 'Airplane', 'Airplane', 'Airplane', 'Airplane', 'Airplane', 'Airplane', 'Airplane', 'Airplane', 'Airplane', 'Airplane', 'Airplane', 'Airplane', 'Airplane', 'Airplane', 'Airplane', 'Airplane', 'Airplane', 'Airplane', 'Airplane', 'Airplane', 'Airplane', 'Airplane', 'Airplane', 'Airplane', 'Airplane', 'Airplane', 'Airplane', 'Airplane', 'Airplane', 'Airplane', 'Airplane', 'Airplane', 'Airplane', 'Airplane', 'Airplane', 'Airplane', 'Airplane', 'Airplane', 'Airplane', 'Airplane', 'Airplane', 'Airplane', 'Airplane', 'Airplane', 'Airplane', 'Airplane', 'Airplane', 'Airplane', 'Airplane', 'Airplane', 'Airplane', 'Airplane', 'Airplane', 'Airplane', 'Airplane', 'Airplane', 'Airplane', 'Airplane', 'Airplane', 'Airplane', 'Airplane', 'Airplane', 'Airplane', 'Airplane', 'Airplane', 'Airplane', 'Airplane', 'Airplane', 'Airplane', 'Airplane', 'Airplane', 'Airplane', 'Airplane', 'Airplane', 'Airplane', 'Airplane', 'Airplane', 'Airplane', 'Airplane', 'Airplane', 'Airplane', 'Airplane', 'Airplane', 'Airplane', 'Airplane', 'Airplane', 'Airplane', 'Airplane', 'Airplane', 'Airplane', 'Airplane', 'Airplane', 'Airplane', 'Airplane', 'Airplane', 'Airplane', 'Airplane', 'Airplane', 'Airplane', 'Airplane', 'Airplane', 'Airplane', 'Airplane', 'Airplane', 'Airplane', 'Airplane', 'Airplane', 'Airplane', 'Airplane', 'Airplane', 'Airplane', 'Airplane', 'Airplane', 'Airplane', 'Airplane', 'Airplane', 'Airplane', 'Airplane', 'Airplane', 'Airplane', 'Airplane', 'Airplane', 'Airplane', 'Airplane', 'Airplane', 'Airplane', 'Airplane', 'Airplane', 'Airplane', 'Airplane', 'Airplane', 'Airplane', 'Airplane', 'Airplane', 'Airplane', 'Airplane', 'Airplane', 'Airplane', 'Airplane', 'Airplane', 'Airplane', 'Airplane', 'Airplane', 'Airplane', 'Airplane', 'Airplane', 'Airplane', 'Airplane', 'Airplane', 'Airplane', 'Airplane', 'Airplane', 'Airplane', 'Airplane', 'Airplane', 'Airplane', 'Airplane', 'Airplane', 'Airplane', 'Airplane', 'Airplane', 'Airplane', 'Airplane', 'Airplane', 'Airplane', 'Airplane', 'Airplane', 'Airplane', 'Airplane', 'Airplane', 'Airplane', 'Airplane', 'Airplane', 'Airplane', 'Airplane', 'Airplane', 'Airplane', 'Airplane', 'Airplane', 'Airplane', 'Airplane', 'Airplane', 'Airplane', 'Airplane', 'Airplane', 'Airplane', 'Airplane', 'Airplane', 'Airplane', 'Airplane', 'Airplane', 'Airplane', 'Airplane', 'Airplane', 'Airplane', 'Airplane', 'Airplane', 'Airplane', 'Airplane', 'Airplane', 'Airplane', 'Airplane', 'Airplane', 'Airplane', 'Airplane', 'Airplane', 'Airplane', 'Airplane', 'Airplane', 'Airplane', 'Airplane', 'Airplane', 'Airplane', 'Airplane', 'Airplane', 'Airplane', 'Airplane', 'Airplane', 'Airplane', 'Airplane', 'Airplane', 'Airplane', 'Airplane', 'Airplane', 'Airplane', 'Airplane', 'Airplane', 'Airplane', 'Airplane', 'Airplane', 'Airplane', 'Airplane', 'Airplane', 'Airplane', 'Airplane', 'Airplane', 'Airplane', 'Airplane', 'Airplane', 'Airplane', 'Airplane', 'Airplane', 'Airplane', 'Airplane', 'Airplane', 'Airplane', 'Airplane', 'Airplane', 'Airplane', 'Airplane', 'Airplane', 'Airplane', 'Airplane', 'Airplane', 'Airplane', 'Airplane', 'Airplane', 'Airplane', 'Airplane', 'Airplane', 'Airplane', 'Airplane', 'Airplane', 'Airplane', 'Airplane', 'Airplane', 'Airplane', 'Airplane', 'Airplane', 'Airplane', 'Airplane', 'Airplane', 'Airplane', 'Airplane', 'Airplane', 'Airplane', 'Airplane', 'Airplane', 'Airplane', 'Airplane', 'Airplane', 'Airplane', 'Airplane', 'Airplane', 'Airplane', 'Airplane', 'Airplane', 'Airplane', 'Airplane', 'Airplane', 'Airplane', 'Airplane', 'Airplane', 'Airplane', 'Airplane', 'Airplane', 'Candle', 'Candle', 'Candle', 'Candle', 'Candle', 'Candle', 'Candle', 'Candle', 'Candle', 'Candle', 'Candle', 'Candle', 'Candle', 'Candle', 'Candle', 'Candle', 'Candle', 'Candle', 'Candle', 'Candle', 'Candle', 'Candle', 'Candle', 'Candle', 'Candle', 'Candle', 'Candle', 'Candle', 'Candle', 'Candle', 'Candle', 'Candle', 'Candle', 'Candle', 'Candle', 'Candle', 'Candle', 'Candle', 'Candle', 'Candle', 'Candle', 'Candle', 'Candle', 'Candle', 'Candle', 'Candle', 'Candle', 'Candle', 'Candle', 'Candle', 'Candle', 'Candle', 'Candle', 'Snowman', 'Snowman', 'Snowman', 'Snowman', 'Snowman', 'Snowman', 'Snowman', 'Snowman', 'Snowman', 'Snowman', 'Snowman', 'Snowman', 'Snowman', 'Snowman', 'Snowman', 'Snowman', 'Snowman', 'Snowman', 'Snowman', 'Snowman', 'Snowman', 'Snowman', 'Snowman', 'Snowman', 'Snowman', 'Snowman', 'Snowman', 'Snowman', 'Snowman', 'Snowman', 'Snowman', 'Snowman', 'Snowman', 'Snowman', 'Snowman', 'Snowman', 'Snowman', 'Snowman', 'Snowman', 'Snowman', 'Snowman', 'Snowman', 'Snowman', 'Snowman', 'Snowman', 'Snowman', 'Snowman', 'Snowman', 'Snowman', 'Snowman', 'Snowman', 'Snowman', 'Snowman', 'Snowman', 'Snowman', 'Snowman', 'Snowman', 'Snowman', 'Snowman', 'Snowman', 'Snowman', 'Snowman', 'Snowman', 'Snowman', 'Snowman', 'Snowman', 'Snowman', 'Snowman', 'Snowman', 'Snowman', 'Snowman', 'Snowman', 'Snowman', 'Snowman', 'Snowman', 'Snowman', 'Snowman', 'Snowman', 'Snowman', 'Snowman', 'Snowman', 'Snowman', 'Snowman', 'Snowman', 'Snowman', 'Snowman', 'Snowman', 'Snowman', 'Snowman', 'Snowman', 'Snowman', 'Snowman', 'Snowman', 'Snowman', 'Snowman', 'Snowman', 'Snowman', 'Snowman', 'Snowman', 'Snowman', 'Snowman', 'Snowman', 'Snowman', 'Snowman', 'Snowman', 'Snowman', 'Snowman', 'Snowman', 'Snowman', 'Snowman', 'Snowman', 'Snowman', 'Snowman', 'Snowman', 'Snowman', 'Snowman', 'Snowman', 'Snowman', 'Snowman', 'Snowman', 'Snowman', 'Snowman', 'Snowman', 'Snowman', 'Snowman', 'Snowman', 'Snowman', 'Snowman', 'Snowman', 'Snowman', 'Snowman', 'Snowman', 'Snowman', 'Snowman', 'Snowman', 'Snowman', 'Snowman', 'Snowman', 'Snowman', 'Snowman', 'Snowman', 'Snowman', 'Snowman', 'Snowman', 'Snowman', 'Snowman', 'Snowman', 'Snowman', 'Snowman', 'Snowman', 'Snowman', 'Snowman', 'Snowman', 'Snowman', 'Snowman', 'Snowman', 'Snowman', 'Snowman', 'Snowman', 'Snowman', 'Snowman', 'Snowman', 'Snowman', 'Snowman', 'Snowman', 'Snowman', 'Snowman', 'Snowman', 'Snowman', 'Snowman', 'Snowman', 'Snowman', 'Snowman', 'Snowman', 'Snowman', 'Snowman', 'Snowman', 'Snowman', 'Snowman', 'Snowman', 'Snowman', 'Snowman', 'Snowman', 'Snowman', 'Snowman', 'Snowman', 'Snowman', 'Snowman', 'Snowman', 'Snowman', 'Snowman', 'Snowman', 'Snowman', 'Snowman', 'Snowman', 'Snowman', 'Snowman', 'Snowman', 'Snowman', 'Snowman', 'Snowman', 'Snowman', 'Snowman', 'Snowman', 'Snowman', 'Snowman', 'Snowman', 'Snowman', 'Snowman', 'Snowman', 'Snowman', 'Snowman', 'Snowman', 'Snowman', 'Snowman', 'Snowman', 'Snowman', 'Snowman', 'Snowman', 'Snowman', 'Snowman', 'Snowman', 'Snowman', 'Snowman', 'Snowman', 'Snowman', 'Snowman', 'Snowman', 'Snowman', 'Snowman', 'Snowman', 'Snowman', 'Snowman', 'Snowman', 'Snowman', 'Snowman', 'Snowman', 'Snowman', 'Snowman', 'Snowman', 'Snowman', 'Jacket', 'Jacket', 'Jacket', 'Jacket', 'Jacket', 'Jacket', 'Jacket', 'Jacket', 'Jacket', 'Jacket', 'Jacket', 'Jacket', 'Jacket', 'Jacket', 'Jacket', 'Jacket', 'Jacket', 'Jacket', 'Jacket', 'Jacket', 'Jacket', 'Jacket', 'Jacket', 'Jacket', 'Jacket', 'Jacket', 'Jacket', 'Jacket', 'Jacket', 'Jacket', 'Jacket', 'Jacket', 'Jacket', 'Jacket', 'Jacket', 'Jacket', 'Jacket', 'Jacket', 'Jacket', 'Jacket', 'Jacket', 'Jacket', 'Jacket', 'Jacket', 'Jacket', 'Jacket', 'Jacket', 'Jacket', 'Jacket', 'Jacket', 'Jacket', 'Jacket', 'Jacket', 'Jacket', 'Jacket', 'Jacket', 'Jacket', 'Jacket', 'Jacket', 'Jacket', 'Jacket', 'Jacket', 'Jacket', 'Jacket', 'Jacket', 'Jacket', 'Jacket', 'Jacket', 'Jacket', 'Jacket', 'Jacket', 'Jacket', 'Jacket', 'Jacket', 'Jacket', 'Jacket', 'Jacket', 'Jacket', 'Jacket', 'Jacket', 'Jacket', 'Jacket', 'Jacket', 'Jacket', 'Jacket', 'Jacket', 'Jacket', 'Jacket', 'Jacket', 'Jacket', 'Jacket', 'Jacket', 'Jacket', 'Jacket', 'Jacket', 'Jacket', 'Jacket', 'Jacket', 'Jacket', 'Jacket', 'Jacket', 'Jacket', 'Jacket', 'Jacket', 'Jacket', 'Jacket', 'Jacket', 'Jacket', 'Jacket', 'Jacket', 'Jacket', 'Jacket', 'Jacket', 'Jacket', 'Jacket', 'Jacket', 'Jacket', 'Jacket', 'Jacket', 'Jacket', 'Jacket', 'Jacket', 'Jacket', 'Jacket', 'Jacket', 'Jacket', 'Jacket', 'Jacket', 'Jacket', 'Jacket', 'Jacket', 'Jacket', 'Jacket', 'Jacket', 'Jacket', 'Jacket', 'Jacket', 'Jacket', 'Jacket', 'Jacket', 'Jacket', 'Jacket', 'Jacket', 'Jacket', 'Jacket', 'Jacket', 'Jacket', 'Jacket', 'Jacket', 'Jacket', 'Jacket', 'Jacket', 'Jacket', 'Jacket', 'Jacket', 'Jacket', 'Jacket', 'Jacket', 'Jacket', 'Jacket', 'Jacket', 'Jacket', 'Jacket', 'Jacket', 'Jacket', 'Jacket', 'Jacket', 'Jacket', 'Jacket', 'Jacket', 'Jacket', 'Jacket', 'Jacket', 'Jacket', 'Jacket', 'Jacket', 'Jacket', 'Jacket', 'Jacket', 'Jacket', 'Jacket', 'Jacket', 'Jacket', 'Jacket', 'Jacket', 'Jacket', 'Jacket', 'Jacket', 'Jacket', 'Jacket', 'Jacket', 'Jacket', 'Jacket', 'Jacket', 'Jacket', 'Jacket', 'Jacket', 'Jacket', 'Jacket', 'Jacket', 'Jacket', 'Jacket', 'Jacket', 'Jacket', 'Jacket', 'Jacket', 'Jacket', 'Jacket', 'Jacket', 'Jacket', 'Jacket', 'Jacket', 'Jacket', 'Jacket', 'Jacket', 'Jacket', 'Jacket', 'Jacket', 'Jacket', 'Jacket', 'Jacket', 'Jacket', 'Jacket', 'Jacket', 'Jacket', 'Jacket', 'Jacket', 'Jacket', 'Jacket', 'Jacket', 'Jacket', 'Jacket', 'Jacket', 'Jacket', 'Jacket', 'Jacket', 'Jacket', 'Jacket', 'Jacket', 'Jacket', 'Jacket', 'Jacket', 'Jacket', 'Jacket', 'Jacket', 'Jacket', 'Jacket', 'Jacket', 'Jacket', 'Jacket', 'Jacket', 'Jacket', 'Jacket', 'Jacket', 'Jacket', 'Jacket', 'Jacket', 'Jacket', 'Jacket', 'Jacket', 'Jacket', 'Jacket', 'Jacket', 'Jacket', 'Jacket', 'Jacket', 'Jacket', 'Jacket', 'Jacket', 'Jacket', 'Jacket', 'Jacket', 'Jacket', 'Jacket', 'Jacket', 'Jacket', 'Jacket', 'Jacket', 'Jacket', 'Jacket', 'Jacket', 'Jacket', 'Jacket', 'Jacket', 'Jacket', 'Jacket', 'Jacket', 'Jacket', 'Jacket', 'Jacket', 'Jacket', 'Jacket', 'Jacket', 'Jacket', 'Jacket', 'Jacket', 'Jacket', 'Jacket', 'Jacket', 'Jacket', 'Jacket', 'Jacket', 'Jacket', 'Jacket', 'Jacket', 'Jacket', 'Jacket', 'Jacket', 'Jacket', 'Jacket', 'Jacket', 'Jacket', 'Jacket', 'Jacket', 'Jacket', 'Jacket', 'Jacket', 'Jacket', 'Jacket', 'Jacket', 'Jacket', 'Jacket', 'Jacket', 'Jacket', 'Jacket', 'Jacket', 'Jacket', 'Jacket', 'Jacket', 'Jacket', 'Jacket', 'Jacket', 'Jacket', 'Jacket', 'Jacket', 'Jacket', 'Jacket', 'Jacket', 'Jacket', 'Jacket', 'Jacket', 'Jacket', 'Jacket', 'Jacket', 'Jacket', 'Jacket', 'Jacket', 'Jacket', 'Jacket', 'Jacket', 'Jacket', 'Jacket', 'Jacket', 'Jacket', 'Jacket', 'Jacket', 'Jacket', 'Jacket', 'Jacket', 'Jacket', 'Jacket', 'Jacket', 'Jacket', 'Jacket', 'Jacket', 'Jacket', 'Jacket', 'Jacket', 'Jacket', 'Jacket', 'Jacket', 'Jacket', 'Jacket', 'Jacket', 'Jacket', 'Jacket', 'Jacket', 'Jacket', 'Jacket', 'Jacket', 'Jacket', 'Jacket', 'Jacket', 'Jacket', 'Jacket', 'Jacket', 'Jacket', 'Jacket', 'Jacket', 'Jacket', 'Jacket', 'Jacket', 'Jacket', 'Jacket', 'Jacket', 'Jacket', 'Jacket', 'Jacket', 'Jacket', 'Jacket', 'Jacket', 'Jacket', 'Jacket', 'Jacket', 'Jacket', 'Jacket', 'Jacket', 'Jacket', 'Jacket', 'Jacket', 'Jacket', 'Jacket', 'Jacket', 'Jacket', 'Jacket', 'Jacket', 'Jacket', 'Jacket', 'Jacket', 'Jacket', 'Jacket', 'Jacket', 'Jacket', 'Jacket', 'Jacket', 'Jacket', 'Jacket', 'Jacket', 'Jacket', 'Jacket', 'Jacket', 'Jacket', 'Jacket', 'Jacket', 'Jacket', 'Jacket', 'Jacket', 'Jacket', 'Jacket', 'Jacket', 'Jacket', 'Jacket', 'Jacket', 'Jacket', 'Jacket', 'Jacket', 'Jacket', 'Jacket', 'Jacket', 'Jacket', 'Jacket', 'Jacket', 'Jacket', 'Jacket', 'Jacket', 'Jacket', 'Jacket', 'Jacket', 'Jacket', 'Jacket', 'Jacket', 'Jacket', 'Jacket', 'Jacket', 'Jacket', 'Jacket', 'Jacket', 'Jacket', 'Jacket']\n"
          ],
          "name": "stdout"
        }
      ]
    },
    {
      "cell_type": "code",
      "metadata": {
        "colab": {
          "base_uri": "https://localhost:8080/"
        },
        "id": "tIyopCZtXcQE",
        "outputId": "765cee87-1787-4998-b625-89a2b99f55c2"
      },
      "source": [
        "train_generator = datagen.flow_from_dataframe(\r\n",
        "    df,\r\n",
        "    directory = '/content/drive/MyDrive/Hack1/train',\r\n",
        "    x_col = 'Image',\r\n",
        "    y_col = 'Class',\r\n",
        "    target_size = (299, 299),\r\n",
        "    class_mode = 'categorical',\r\n",
        "    batch_size = 32)"
      ],
      "execution_count": 17,
      "outputs": [
        {
          "output_type": "stream",
          "text": [
            "Found 6469 validated image filenames belonging to 6 classes.\n"
          ],
          "name": "stdout"
        }
      ]
    },
    {
      "cell_type": "code",
      "metadata": {
        "colab": {
          "base_uri": "https://localhost:8080/"
        },
        "id": "v1NeH3ESXloo",
        "outputId": "38d2968a-355b-4216-8727-6bd9447cb899"
      },
      "source": [
        "holidayModel = InceptionV3(include_top = False, weights = 'imagenet', input_shape = (299,299,3))\r\n"
      ],
      "execution_count": 18,
      "outputs": [
        {
          "output_type": "stream",
          "text": [
            "Downloading data from https://storage.googleapis.com/tensorflow/keras-applications/inception_v3/inception_v3_weights_tf_dim_ordering_tf_kernels_notop.h5\n",
            "87916544/87910968 [==============================] - 1s 0us/step\n"
          ],
          "name": "stdout"
        }
      ]
    },
    {
      "cell_type": "code",
      "metadata": {
        "colab": {
          "base_uri": "https://localhost:8080/"
        },
        "id": "sLcQ1kmgsvZz",
        "outputId": "617f43a5-e798-4aee-daa9-6942a05cfdfc"
      },
      "source": [
        "holidayModel_1 = InceptionResNetV2(include_top = False, weights = 'imagenet', input_shape = (299,299,3))\r\n"
      ],
      "execution_count": 52,
      "outputs": [
        {
          "output_type": "stream",
          "text": [
            "Downloading data from https://storage.googleapis.com/tensorflow/keras-applications/inception_resnet_v2/inception_resnet_v2_weights_tf_dim_ordering_tf_kernels_notop.h5\n",
            "219062272/219055592 [==============================] - 2s 0us/step\n"
          ],
          "name": "stdout"
        }
      ]
    },
    {
      "cell_type": "code",
      "metadata": {
        "id": "hHGSgQoDXq8Z"
      },
      "source": [
        "holidayModel.trainable = False"
      ],
      "execution_count": 19,
      "outputs": []
    },
    {
      "cell_type": "code",
      "metadata": {
        "id": "1MW7_u_Ys82q"
      },
      "source": [
        "holidayModel_1.trainable = False"
      ],
      "execution_count": 53,
      "outputs": []
    },
    {
      "cell_type": "code",
      "metadata": {
        "id": "AjygIvIzXupo"
      },
      "source": [
        "model = models.Sequential()\r\n",
        "model.add(holidayModel)\r\n",
        "model.add(layers.GlobalAveragePooling2D())\r\n",
        "model.add(layers.Dense(512,activation='relu'))\r\n",
        "model.add(layers.Dropout(0.5))\r\n",
        "model.add(layers.Dense(256,activation='relu'))\r\n",
        "model.add(layers.Dense(6,activation='softmax'))"
      ],
      "execution_count": 21,
      "outputs": []
    },
    {
      "cell_type": "code",
      "metadata": {
        "id": "6yx5U2C_tBTy"
      },
      "source": [
        "model_1 = models.Sequential()\r\n",
        "model_1.add(holidayModel_1)\r\n",
        "model_1.add(layers.GlobalAveragePooling2D())\r\n",
        "model_1.add(layers.Dense(512,activation='relu'))\r\n",
        "model_1.add(layers.Dropout(0.5))\r\n",
        "model_1.add(layers.Dense(256,activation='relu'))\r\n",
        "model_1.add(layers.Dense(6,activation='softmax'))"
      ],
      "execution_count": 54,
      "outputs": []
    },
    {
      "cell_type": "code",
      "metadata": {
        "colab": {
          "base_uri": "https://localhost:8080/"
        },
        "id": "JMvRbyV1X2lg",
        "outputId": "1749c14f-d112-49a6-c7eb-c6c2a33de9f8"
      },
      "source": [
        "model.summary()"
      ],
      "execution_count": 23,
      "outputs": [
        {
          "output_type": "stream",
          "text": [
            "Model: \"sequential_1\"\n",
            "_________________________________________________________________\n",
            "Layer (type)                 Output Shape              Param #   \n",
            "=================================================================\n",
            "inception_v3 (Functional)    (None, 8, 8, 2048)        21802784  \n",
            "_________________________________________________________________\n",
            "global_average_pooling2d_1 ( (None, 2048)              0         \n",
            "_________________________________________________________________\n",
            "dense_3 (Dense)              (None, 512)               1049088   \n",
            "_________________________________________________________________\n",
            "dropout_1 (Dropout)          (None, 512)               0         \n",
            "_________________________________________________________________\n",
            "dense_4 (Dense)              (None, 256)               131328    \n",
            "_________________________________________________________________\n",
            "dense_5 (Dense)              (None, 6)                 1542      \n",
            "=================================================================\n",
            "Total params: 22,984,742\n",
            "Trainable params: 1,181,958\n",
            "Non-trainable params: 21,802,784\n",
            "_________________________________________________________________\n"
          ],
          "name": "stdout"
        }
      ]
    },
    {
      "cell_type": "code",
      "metadata": {
        "colab": {
          "base_uri": "https://localhost:8080/"
        },
        "id": "0GcJxxrWtIgY",
        "outputId": "27fbd3db-2d45-4ef3-cb5d-928c39061030"
      },
      "source": [
        "model_1.summary()"
      ],
      "execution_count": 55,
      "outputs": [
        {
          "output_type": "stream",
          "text": [
            "Model: \"sequential_2\"\n",
            "_________________________________________________________________\n",
            "Layer (type)                 Output Shape              Param #   \n",
            "=================================================================\n",
            "inception_resnet_v2 (Functio (None, 8, 8, 1536)        54336736  \n",
            "_________________________________________________________________\n",
            "global_average_pooling2d_2 ( (None, 1536)              0         \n",
            "_________________________________________________________________\n",
            "dense_6 (Dense)              (None, 512)               786944    \n",
            "_________________________________________________________________\n",
            "dropout_2 (Dropout)          (None, 512)               0         \n",
            "_________________________________________________________________\n",
            "dense_7 (Dense)              (None, 256)               131328    \n",
            "_________________________________________________________________\n",
            "dense_8 (Dense)              (None, 6)                 1542      \n",
            "=================================================================\n",
            "Total params: 55,256,550\n",
            "Trainable params: 919,814\n",
            "Non-trainable params: 54,336,736\n",
            "_________________________________________________________________\n"
          ],
          "name": "stdout"
        }
      ]
    },
    {
      "cell_type": "code",
      "metadata": {
        "id": "g65YHTb5X-dq"
      },
      "source": [
        "model.compile(\r\n",
        "    optimizer='adam',\r\n",
        "    loss = 'categorical_crossentropy',\r\n",
        "    metrics = ['accuracy'])"
      ],
      "execution_count": 24,
      "outputs": []
    },
    {
      "cell_type": "code",
      "metadata": {
        "id": "pOvAQavOtNH5"
      },
      "source": [
        "model_1.compile(\r\n",
        "    optimizer='adam',\r\n",
        "    loss = 'categorical_crossentropy',\r\n",
        "    metrics = ['accuracy'])"
      ],
      "execution_count": 57,
      "outputs": []
    },
    {
      "cell_type": "code",
      "metadata": {
        "id": "GELvuG-lYDpL"
      },
      "source": [
        "train_steps = np.ceil(train_generator.n/train_generator.batch_size)\r\n"
      ],
      "execution_count": 25,
      "outputs": []
    },
    {
      "cell_type": "code",
      "metadata": {
        "colab": {
          "base_uri": "https://localhost:8080/"
        },
        "id": "8VMMUPX_YIbC",
        "outputId": "66d4123c-dfbb-42a5-f26f-0ab91e5395c4"
      },
      "source": [
        "\r\n",
        "model.fit(\r\n",
        "    train_generator,\r\n",
        "    epochs = 12,\r\n",
        "    batch_size = 32,\r\n",
        "    steps_per_epoch = train_steps)"
      ],
      "execution_count": 26,
      "outputs": [
        {
          "output_type": "stream",
          "text": [
            "Epoch 1/12\n",
            "203/203 [==============================] - 37s 127ms/step - loss: 0.9097 - accuracy: 0.6888\n",
            "Epoch 2/12\n",
            "203/203 [==============================] - 27s 132ms/step - loss: 0.3613 - accuracy: 0.8744\n",
            "Epoch 3/12\n",
            "203/203 [==============================] - 26s 127ms/step - loss: 0.3327 - accuracy: 0.8880\n",
            "Epoch 4/12\n",
            "203/203 [==============================] - 28s 136ms/step - loss: 0.3501 - accuracy: 0.8787\n",
            "Epoch 5/12\n",
            "203/203 [==============================] - 27s 133ms/step - loss: 0.2693 - accuracy: 0.9037\n",
            "Epoch 6/12\n",
            "203/203 [==============================] - 27s 131ms/step - loss: 0.2418 - accuracy: 0.9147\n",
            "Epoch 7/12\n",
            "203/203 [==============================] - 27s 131ms/step - loss: 0.2350 - accuracy: 0.9116\n",
            "Epoch 8/12\n",
            "203/203 [==============================] - 27s 132ms/step - loss: 0.2242 - accuracy: 0.9186\n",
            "Epoch 9/12\n",
            "203/203 [==============================] - 27s 131ms/step - loss: 0.2167 - accuracy: 0.9154\n",
            "Epoch 10/12\n",
            "203/203 [==============================] - 27s 131ms/step - loss: 0.1839 - accuracy: 0.9319\n",
            "Epoch 11/12\n",
            "203/203 [==============================] - 27s 132ms/step - loss: 0.1729 - accuracy: 0.9355\n",
            "Epoch 12/12\n",
            "203/203 [==============================] - 27s 131ms/step - loss: 0.1737 - accuracy: 0.9386\n"
          ],
          "name": "stdout"
        },
        {
          "output_type": "execute_result",
          "data": {
            "text/plain": [
              "<tensorflow.python.keras.callbacks.History at 0x7f7b7beeca20>"
            ]
          },
          "metadata": {
            "tags": []
          },
          "execution_count": 26
        }
      ]
    },
    {
      "cell_type": "code",
      "metadata": {
        "colab": {
          "base_uri": "https://localhost:8080/"
        },
        "id": "3XK1xqjxtUV3",
        "outputId": "71884ea4-b91e-4282-f9ba-ad0fc3baaf5c"
      },
      "source": [
        "model_1.fit(\r\n",
        "    train_generator,\r\n",
        "    epochs = 12,\r\n",
        "    batch_size = 32,\r\n",
        "    steps_per_epoch = train_steps)"
      ],
      "execution_count": 58,
      "outputs": [
        {
          "output_type": "stream",
          "text": [
            "Epoch 1/12\n",
            "203/203 [==============================] - 74s 322ms/step - loss: 0.8789 - accuracy: 0.7070\n",
            "Epoch 2/12\n",
            "203/203 [==============================] - 67s 329ms/step - loss: 0.3526 - accuracy: 0.8848\n",
            "Epoch 3/12\n",
            "203/203 [==============================] - 67s 328ms/step - loss: 0.3086 - accuracy: 0.8905\n",
            "Epoch 4/12\n",
            "203/203 [==============================] - 67s 328ms/step - loss: 0.2848 - accuracy: 0.9009\n",
            "Epoch 5/12\n",
            "203/203 [==============================] - 67s 327ms/step - loss: 0.2546 - accuracy: 0.9126\n",
            "Epoch 6/12\n",
            "203/203 [==============================] - 67s 328ms/step - loss: 0.2595 - accuracy: 0.9073\n",
            "Epoch 7/12\n",
            "203/203 [==============================] - 67s 329ms/step - loss: 0.2334 - accuracy: 0.9176\n",
            "Epoch 8/12\n",
            "203/203 [==============================] - 67s 328ms/step - loss: 0.2229 - accuracy: 0.9182\n",
            "Epoch 9/12\n",
            "203/203 [==============================] - 67s 329ms/step - loss: 0.2205 - accuracy: 0.9204\n",
            "Epoch 10/12\n",
            "203/203 [==============================] - 67s 328ms/step - loss: 0.2134 - accuracy: 0.9253\n",
            "Epoch 11/12\n",
            "203/203 [==============================] - 67s 328ms/step - loss: 0.1761 - accuracy: 0.9353\n",
            "Epoch 12/12\n",
            "203/203 [==============================] - 67s 328ms/step - loss: 0.1862 - accuracy: 0.9347\n"
          ],
          "name": "stdout"
        },
        {
          "output_type": "execute_result",
          "data": {
            "text/plain": [
              "<tensorflow.python.keras.callbacks.History at 0x7f7b947428d0>"
            ]
          },
          "metadata": {
            "tags": []
          },
          "execution_count": 58
        }
      ]
    },
    {
      "cell_type": "code",
      "metadata": {
        "colab": {
          "base_uri": "https://localhost:8080/",
          "height": 754
        },
        "id": "PDDGdcU4vvw1",
        "outputId": "59a31e2f-94c6-4c53-9b99-cf687fadc8c4"
      },
      "source": [
        "plot_model(model, to_file='model_plot.png', show_shapes=True, show_layer_names=True)"
      ],
      "execution_count": 61,
      "outputs": [
        {
          "output_type": "execute_result",
          "data": {
            "image/png": "[encoded data removed]",
            "text/plain": [
              "<IPython.core.display.Image object>"
            ]
          },
          "metadata": {
            "tags": []
          },
          "execution_count": 61
        }
      ]
    },
    {
      "cell_type": "code",
      "metadata": {
        "colab": {
          "base_uri": "https://localhost:8080/",
          "height": 204
        },
        "id": "gRDLGvhRakzg",
        "outputId": "d08823f7-6afa-412d-b2de-d638810d049b"
      },
      "source": [
        "test_df = pd.DataFrame()\r\n",
        "test_images = os.listdir('/content/drive/MyDrive/Hack1/test')\r\n",
        "test_df['Image'] = test_images\r\n",
        "test_df.head()"
      ],
      "execution_count": 74,
      "outputs": [
        {
          "output_type": "execute_result",
          "data": {
            "text/html": [
              "<div>\n",
              "<style scoped>\n",
              "    .dataframe tbody tr th:only-of-type {\n",
              "        vertical-align: middle;\n",
              "    }\n",
              "\n",
              "    .dataframe tbody tr th {\n",
              "        vertical-align: top;\n",
              "    }\n",
              "\n",
              "    .dataframe thead th {\n",
              "        text-align: right;\n",
              "    }\n",
              "</style>\n",
              "<table border=\"1\" class=\"dataframe\">\n",
              "  <thead>\n",
              "    <tr style=\"text-align: right;\">\n",
              "      <th></th>\n",
              "      <th>Image</th>\n",
              "    </tr>\n",
              "  </thead>\n",
              "  <tbody>\n",
              "    <tr>\n",
              "      <th>0</th>\n",
              "      <td>image1097.jpg</td>\n",
              "    </tr>\n",
              "    <tr>\n",
              "      <th>1</th>\n",
              "      <td>image1080.jpg</td>\n",
              "    </tr>\n",
              "    <tr>\n",
              "      <th>2</th>\n",
              "      <td>image108.jpg</td>\n",
              "    </tr>\n",
              "    <tr>\n",
              "      <th>3</th>\n",
              "      <td>image1095.jpg</td>\n",
              "    </tr>\n",
              "    <tr>\n",
              "      <th>4</th>\n",
              "      <td>image1073.jpg</td>\n",
              "    </tr>\n",
              "  </tbody>\n",
              "</table>\n",
              "</div>"
            ],
            "text/plain": [
              "           Image\n",
              "0  image1097.jpg\n",
              "1  image1080.jpg\n",
              "2   image108.jpg\n",
              "3  image1095.jpg\n",
              "4  image1073.jpg"
            ]
          },
          "metadata": {
            "tags": []
          },
          "execution_count": 74
        }
      ]
    },
    {
      "cell_type": "code",
      "metadata": {
        "colab": {
          "base_uri": "https://localhost:8080/"
        },
        "id": "oknOHahDg-8H",
        "outputId": "295fe69d-aded-4214-e8fa-98a92cd86730"
      },
      "source": [
        "len(test_images)"
      ],
      "execution_count": 75,
      "outputs": [
        {
          "output_type": "execute_result",
          "data": {
            "text/plain": [
              "70"
            ]
          },
          "metadata": {
            "tags": []
          },
          "execution_count": 75
        }
      ]
    },
    {
      "cell_type": "code",
      "metadata": {
        "id": "Vz9Xkl0XrUg9"
      },
      "source": [
        ""
      ],
      "execution_count": null,
      "outputs": []
    },
    {
      "cell_type": "code",
      "metadata": {
        "colab": {
          "base_uri": "https://localhost:8080/"
        },
        "id": "q-S998FzavVk",
        "outputId": "1af4635b-356f-42d1-b230-e1ca35f3e808"
      },
      "source": [
        "test_generator = datagen.flow_from_dataframe(\r\n",
        "    test_df,\r\n",
        "    directory = '/content/drive/MyDrive/Hack1/test',\r\n",
        "    x_col = 'Image',\r\n",
        "    y_col = None,\r\n",
        "    target_size = (299, 299),\r\n",
        "    class_mode = None,\r\n",
        "    batch_size = 32,\r\n",
        "    shuffle = False )"
      ],
      "execution_count": 69,
      "outputs": [
        {
          "output_type": "stream",
          "text": [
            "Found 70 validated image filenames.\n"
          ],
          "name": "stdout"
        },
        {
          "output_type": "stream",
          "text": [
            "/usr/local/lib/python3.6/dist-packages/keras_preprocessing/image/dataframe_iterator.py:282: UserWarning: Found 3439 invalid image filename(s) in x_col=\"Image\". These filename(s) will be ignored.\n",
            "  .format(n_invalid, x_col)\n"
          ],
          "name": "stderr"
        }
      ]
    },
    {
      "cell_type": "code",
      "metadata": {
        "id": "oqNpYne_a31g"
      },
      "source": [
        "test_steps = np.ceil(test_generator.n / test_generator.batch_size)\r\n"
      ],
      "execution_count": 70,
      "outputs": []
    },
    {
      "cell_type": "code",
      "metadata": {
        "colab": {
          "base_uri": "https://localhost:8080/"
        },
        "id": "pOFyoHe5a6Sy",
        "outputId": "8d7b8984-1c47-42bc-8024-71c3ad8a7f74"
      },
      "source": [
        "pred = model.predict_generator(\r\n",
        "    test_generator,\r\n",
        "    steps = test_steps,\r\n",
        "    verbose = 1 )"
      ],
      "execution_count": 73,
      "outputs": [
        {
          "output_type": "stream",
          "text": [
            "/usr/local/lib/python3.6/dist-packages/tensorflow/python/keras/engine/training.py:1905: UserWarning: `Model.predict_generator` is deprecated and will be removed in a future version. Please use `Model.predict`, which supports generators.\n",
            "  warnings.warn('`Model.predict_generator` is deprecated and '\n"
          ],
          "name": "stderr"
        },
        {
          "output_type": "stream",
          "text": [
            "3/3 [==============================] - 1s 338ms/step\n"
          ],
          "name": "stdout"
        }
      ]
    },
    {
      "cell_type": "code",
      "metadata": {
        "colab": {
          "base_uri": "https://localhost:8080/"
        },
        "id": "FikDjyPFwtC2",
        "outputId": "8a0db698-4a1f-4515-edd2-9224ef8acabc"
      },
      "source": [
        "pred_1 = model_1.predict_generator(\r\n",
        "    test_generator,\r\n",
        "    steps = test_steps,\r\n",
        "    verbose = 1 )"
      ],
      "execution_count": 72,
      "outputs": [
        {
          "output_type": "stream",
          "text": [
            "/usr/local/lib/python3.6/dist-packages/tensorflow/python/keras/engine/training.py:1905: UserWarning: `Model.predict_generator` is deprecated and will be removed in a future version. Please use `Model.predict`, which supports generators.\n",
            "  warnings.warn('`Model.predict_generator` is deprecated and '\n"
          ],
          "name": "stderr"
        },
        {
          "output_type": "stream",
          "text": [
            "3/3 [==============================] - 1s 320ms/step\n"
          ],
          "name": "stdout"
        }
      ]
    },
    {
      "cell_type": "code",
      "metadata": {
        "id": "Q1hyi-93fUEy"
      },
      "source": [
        "pred = np.argmax(pred,axis = -1)\r\n"
      ],
      "execution_count": 32,
      "outputs": []
    },
    {
      "cell_type": "code",
      "metadata": {
        "colab": {
          "base_uri": "https://localhost:8080/"
        },
        "id": "8k32qHN4fZR5",
        "outputId": "03c64ff5-a993-42b5-c42b-050d6a10766e"
      },
      "source": [
        "pred"
      ],
      "execution_count": 33,
      "outputs": [
        {
          "output_type": "execute_result",
          "data": {
            "text/plain": [
              "array([4, 4, 4, ..., 0, 0, 0])"
            ]
          },
          "metadata": {
            "tags": []
          },
          "execution_count": 33
        }
      ]
    },
    {
      "cell_type": "code",
      "metadata": {
        "colab": {
          "base_uri": "https://localhost:8080/"
        },
        "id": "HgaRnec_g2yN",
        "outputId": "13c21713-b6e2-425d-c79f-1212ce79faa6"
      },
      "source": [
        "len(pred)"
      ],
      "execution_count": 41,
      "outputs": [
        {
          "output_type": "execute_result",
          "data": {
            "text/plain": [
              "3509"
            ]
          },
          "metadata": {
            "tags": []
          },
          "execution_count": 41
        }
      ]
    },
    {
      "cell_type": "code",
      "metadata": {
        "id": "n0m1otEag6iq"
      },
      "source": [
        "len()"
      ],
      "execution_count": null,
      "outputs": []
    },
    {
      "cell_type": "code",
      "metadata": {
        "id": "mICIFQVnfcum"
      },
      "source": [
        "test_df['Class'] = pred\r\n"
      ],
      "execution_count": 34,
      "outputs": []
    },
    {
      "cell_type": "code",
      "metadata": {
        "colab": {
          "base_uri": "https://localhost:8080/"
        },
        "id": "F4O3PtMkfzR5",
        "outputId": "780e07af-4b32-4cef-9478-81c2fc83c026"
      },
      "source": [
        "num_to_class = dict((y,x) for (x,y) in train_generator.class_indices.items())\r\n",
        "num_to_class"
      ],
      "execution_count": 37,
      "outputs": [
        {
          "output_type": "execute_result",
          "data": {
            "text/plain": [
              "{0: 'Airplane',\n",
              " 1: 'Candle',\n",
              " 2: 'Christmas_Tree',\n",
              " 3: 'Jacket',\n",
              " 4: 'Miscellaneous',\n",
              " 5: 'Snowman'}"
            ]
          },
          "metadata": {
            "tags": []
          },
          "execution_count": 37
        }
      ]
    },
    {
      "cell_type": "code",
      "metadata": {
        "colab": {
          "base_uri": "https://localhost:8080/",
          "height": 204
        },
        "id": "D3bb3k8Af35X",
        "outputId": "aee853cf-67f0-407c-c941-48593ad25f00"
      },
      "source": [
        "test_df['Class'] = test_df['Class'].map(num_to_class)\r\n",
        "test_df.head()"
      ],
      "execution_count": 38,
      "outputs": [
        {
          "output_type": "execute_result",
          "data": {
            "text/html": [
              "<div>\n",
              "<style scoped>\n",
              "    .dataframe tbody tr th:only-of-type {\n",
              "        vertical-align: middle;\n",
              "    }\n",
              "\n",
              "    .dataframe tbody tr th {\n",
              "        vertical-align: top;\n",
              "    }\n",
              "\n",
              "    .dataframe thead th {\n",
              "        text-align: right;\n",
              "    }\n",
              "</style>\n",
              "<table border=\"1\" class=\"dataframe\">\n",
              "  <thead>\n",
              "    <tr style=\"text-align: right;\">\n",
              "      <th></th>\n",
              "      <th>Image</th>\n",
              "      <th>Class</th>\n",
              "    </tr>\n",
              "  </thead>\n",
              "  <tbody>\n",
              "    <tr>\n",
              "      <th>0</th>\n",
              "      <td>image7473.jpg</td>\n",
              "      <td>Miscellaneous</td>\n",
              "    </tr>\n",
              "    <tr>\n",
              "      <th>1</th>\n",
              "      <td>image3697.jpg</td>\n",
              "      <td>Miscellaneous</td>\n",
              "    </tr>\n",
              "    <tr>\n",
              "      <th>2</th>\n",
              "      <td>image3564.jpg</td>\n",
              "      <td>Miscellaneous</td>\n",
              "    </tr>\n",
              "    <tr>\n",
              "      <th>3</th>\n",
              "      <td>image444.jpg</td>\n",
              "      <td>Miscellaneous</td>\n",
              "    </tr>\n",
              "    <tr>\n",
              "      <th>4</th>\n",
              "      <td>image7908.jpg</td>\n",
              "      <td>Miscellaneous</td>\n",
              "    </tr>\n",
              "  </tbody>\n",
              "</table>\n",
              "</div>"
            ],
            "text/plain": [
              "           Image          Class\n",
              "0  image7473.jpg  Miscellaneous\n",
              "1  image3697.jpg  Miscellaneous\n",
              "2  image3564.jpg  Miscellaneous\n",
              "3   image444.jpg  Miscellaneous\n",
              "4  image7908.jpg  Miscellaneous"
            ]
          },
          "metadata": {
            "tags": []
          },
          "execution_count": 38
        }
      ]
    },
    {
      "cell_type": "code",
      "metadata": {
        "id": "TjHi21Xkf8d-"
      },
      "source": [
        "test_df.to_csv('/content/drive/MyDrive/Hack1/Myattempt.csv', index = False)\r\n"
      ],
      "execution_count": 40,
      "outputs": []
    }
  ]
}